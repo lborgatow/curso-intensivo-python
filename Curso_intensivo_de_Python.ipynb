{
  "cells": [
    {
      "cell_type": "markdown",
      "metadata": {
        "id": "Id3TgQqzWgRi"
      },
      "source": [
        "#***1 - INICIANDO***"
      ]
    },
    {
      "cell_type": "markdown",
      "metadata": {
        "id": "Z9JidYjqWeWF"
      },
      "source": [
        "##1.1 – python.org \n",
        "Explore a página inicial de Python (http://python.org/) para encontrar tópicos pelos quais você se interesse. À medida que tiver mais familiaridade com Python, diferentes partes do site serão mais úteis a você."
      ]
    },
    {
      "cell_type": "markdown",
      "metadata": {
        "id": "vQrSgdKVXpcq"
      },
      "source": [
        "## 1.2 - Erros de digitação em Hello World\n",
        "Abra o arquivo *hello_world.py* que você acabou de criar. Introduza um erro de digitação em algum ponto da linha e execute o programa novamente. Você é capaz de inserir um erro de digitação que gere um erro? Consegue entender a mensagem de erro? É capaz de inserir um erro de digitação que não produza um erro? Por que você acha que isso não gerou um erro?"
      ]
    },
    {
      "cell_type": "code",
      "execution_count": null,
      "metadata": {
        "id": "N2xKFjtvZw_Y"
      },
      "outputs": [],
      "source": [
        "# print(\"...\") --> imprime na tela a string dentro das aspas\n",
        "\n",
        "print(\"Hello World!\")  # Normal\n",
        "print(Hello World!)    # Com erro na sintaxe, portanto resulta em SyntaxError\n",
        "print(\"Rélou Uord!\")   # Sem erro na sintaxe, portanto executa normalmente"
      ]
    },
    {
      "cell_type": "markdown",
      "metadata": {
        "id": "QDkWBYMoX9rZ"
      },
      "source": [
        "##1.3 - Habilidades infinitas\n",
        "Se tivesse infinitas habilidades de programação, o que você desenvolveria? Você está prestes a aprender a programar. Se tiver um objetivo final em mente, você terá um uso imediato para suas novas habilidades; agora é um ótimo momento para esboçar descrições do que você gostaria de criar. É um bom hábito manter um caderno com “ideias” que você possa consultar sempre que quiser iniciar um novo projeto. Reserve alguns minutos para descrever três programas que você gostaria de criar."
      ]
    },
    {
      "cell_type": "markdown",
      "metadata": {
        "id": "i1434gXFYHh3"
      },
      "source": [
        "# ***2 - VARIÁVEIS E TIPOS DE DADOS***"
      ]
    },
    {
      "cell_type": "markdown",
      "metadata": {
        "id": "eMBcmsqkYTz8"
      },
      "source": [
        "##2.1 - Mensagem simples\n",
        "Armazene uma mensagem em uma variável e, em seguida, exiba essa mensagem."
      ]
    },
    {
      "cell_type": "code",
      "execution_count": null,
      "metadata": {
        "id": "cdL1cEHVY5xi"
      },
      "outputs": [],
      "source": [
        "# variavel = \"...\" --> Armazena um valor na variavel.\n",
        "\n",
        "message = \"Hello Python World!\"  # ou 'Hello Python World!'\n",
        "print(message)  # print(variavel) --> Imprime na tela o valor armazenada na varivel."
      ]
    },
    {
      "cell_type": "markdown",
      "metadata": {
        "id": "Nds44t9TYdQm"
      },
      "source": [
        "##2.2 - Mensagem simples (II)\n",
        "Armazene uma mensagem em uma variável e, em seguida, exiba essa mensagem. Então altere o valor de sua variável para uma nova mensagem e mostre essa nova mensagem."
      ]
    },
    {
      "cell_type": "code",
      "execution_count": null,
      "metadata": {
        "id": "IhhhGrdRZMSn"
      },
      "outputs": [],
      "source": [
        "message = \"Hello Python World!\"        # variavel = \"...\"\n",
        "print(message)                         # variavel = \"....\" --> Substitui o valor anterior (\"...\") da variavel pelo atual(\"....\").\n",
        "message = \"Hello Python World again!\"\n",
        "print(message)"
      ]
    },
    {
      "cell_type": "markdown",
      "metadata": {
        "id": "-BN3KfaTeR6u"
      },
      "source": [
        "##2.3 - Mensagem pessoal\n",
        "Armazene o nome de uma pessoa em uma variável e apresente uma mensagem a essa pessoa. Sua mensagem deve ser simples, como “Alô Eric, você gostaria de aprender um pouco de Python hoje?”."
      ]
    },
    {
      "cell_type": "code",
      "execution_count": null,
      "metadata": {
        "id": "fj-3_gVae_aN"
      },
      "outputs": [],
      "source": [
        "name = \"Leonardo\"\n",
        "print(\"Olá \" + name + \", você gostaria de jogar futebol?\")  # print(\"...\" + variavel + \"....\") --> Imprime na tela a junção da primeira\n",
        "                                                            #                                      string, variavel e segunda string,\n",
        "                                                            #                                      respectivamente.                                                              "
      ]
    },
    {
      "cell_type": "code",
      "execution_count": null,
      "metadata": {
        "id": "YwMar-g0W_0z"
      },
      "outputs": [],
      "source": [
        "# OBS!!!\n",
        "\n",
        "# Formatação de valores com modificadores\n",
        "\n",
        " :s --> texto (string)\n",
        " :d --> inteiros (int)\n",
        " :f --> números de ponto flutuante (float)\n",
        " :.(NÚMERO)f --> quantidade de casas decimais (float)\n",
        " :(CARACTERE)(> ou < ou ^)(QUANTIDADE)(TIPO - s, d ou f) \n",
        "\n",
        " > --> esquerda\n",
        " < --> direita\n",
        " ^ --> centro "
      ]
    },
    {
      "cell_type": "markdown",
      "metadata": {
        "id": "O5tRo-4LeW2W"
      },
      "source": [
        "##2.4 - Letras maiúsculas e minúsculas em nomes\n",
        "Armazene o nome de uma pessoa em uma variável e então apresente o nome dessa pessoa em letras minúsculas, em letras maiúsculas e somente com a primeira letra maiúscula."
      ]
    },
    {
      "cell_type": "code",
      "execution_count": null,
      "metadata": {
        "id": "fE1h39Y4f15L"
      },
      "outputs": [],
      "source": [
        "name = \"gUiDo vAn RoSSuM\"\n",
        "print(name.lower())  # variavel.lower() --> Deixa todas as letras da string armazenada na variavel MINÚSCULAS.\n",
        "print(name.upper())  # variavel.upper() --> Deixa todas as letras da string armazenada na variavel MAIÚSCULAS.\n",
        "print(name.title())  # variavel.title() --> Deixa a PRIMEIRA LETRA de cada string aramzenada na variavel MAIÚSCULA e\n",
        "                     #                      as RESTANTES MINÚSCULAS."
      ]
    },
    {
      "cell_type": "code",
      "execution_count": null,
      "metadata": {
        "id": "AJzcxFe1lCj2"
      },
      "outputs": [],
      "source": [
        "# OBS!!!\n",
        "\n",
        "name = \"gUiDo vAn RoSSuM. CrIAdOr dO PYthoN.\"\n",
        "print(name.capitalize())  # variavel.capitalize() --> Deixa a PRIMEIRA LETRA da string armazenada na variavel \n",
        "                          #                           MAIÚSCULA e TODAS AS RESTANTES MINÚSCULAS."
      ]
    },
    {
      "cell_type": "markdown",
      "metadata": {
        "id": "36VqJd3weXPK"
      },
      "source": [
        "##2.5 - Citação famosa\n",
        "Encontre uma citação de uma pessoa famosa que você admire. Exiba a citação e o nome do autor. Sua saída deverá ter a aparência a seguir, incluindo as aspas: Albert Einstein certa vez disse: “Uma pessoa que nunca cometeu um erro jamais tentou nada novo.”"
      ]
    },
    {
      "cell_type": "code",
      "execution_count": null,
      "metadata": {
        "id": "5xjmh76Lge4W"
      },
      "outputs": [],
      "source": [
        "# Para exibir mensagem com aspas dentro de string, usa-se '...\"...\"...' ou \"...'...'...\"\n",
        "print('Guido van Rossum certa vez disse: \"Se você decidir projetar seu próprio idioma, há milhares de uma espécie de armadilhas de designer de linguagem amador.\"') "
      ]
    },
    {
      "cell_type": "markdown",
      "metadata": {
        "id": "WF7HAizdepMX"
      },
      "source": [
        "##2.6 - Citação famosa (II)\n",
        "Repita o Exercício 2.5, porém, desta vez, armazene o nome da pessoa famosa em uma variável chamada *famous_person*. Em seguida, componha sua mensagem e armazene-a em uma nova variável chamada *message*. Exiba sua mensagem."
      ]
    },
    {
      "cell_type": "code",
      "execution_count": null,
      "metadata": {
        "id": "x9dxSIh6g3Ce"
      },
      "outputs": [],
      "source": [
        "message = '\"Se você decidir projetar seu próprio idioma, há milhares de uma espécie de armadilhas de designer de linguagem amador.\"'\n",
        "famous_person = \"Guido van Rossum\"\n",
        "print(famous_person + \" certa vez disse: \" + message)"
      ]
    },
    {
      "cell_type": "markdown",
      "metadata": {
        "id": "0JlNFFT5exbz"
      },
      "source": [
        "##2.7 - Removendo caracteres em branco de nomes\n",
        "Armazene o nome de uma pessoa e inclua alguns caracteres em branco no início e no final do nome. Lembre-se de usar cada combinação de caracteres, \"\\t\" e \"\\n\", pelo menos uma vez. Exiba o nome uma vez, de modo que os espaços em branco em torno do nome sejam mostrados. Em seguida, exiba o nome usando cada uma das três funções de remoção de espaços: *lstrip()*, *rstrip()* e *strip()*."
      ]
    },
    {
      "cell_type": "code",
      "execution_count": null,
      "metadata": {
        "id": "BD93uZPjh7HI"
      },
      "outputs": [],
      "source": [
        "name = \"\\tLeonardo\\n\" # \\t = Tabulação; \\n = pula para linha de baixo\n",
        "print(name)\n",
        "print(name.lstrip())  # variavel.lstrip() --> Remove todos os espaços da ESQUERDA da string armazenada na variavel.\n",
        "print(name.rstrip())  # variavel.rstrip() --> Remove todos os espaços da DIREITA da string armazenada na variavel.\n",
        "print(name.strip())   #  variavel.strip() --> Remove todos os espaços de AMBOS OS LADOS da string armazenada na variavel."
      ]
    },
    {
      "cell_type": "code",
      "execution_count": null,
      "metadata": {
        "id": "oArXL8P_Ll5d"
      },
      "outputs": [],
      "source": [
        "# OBS!!!\n",
        "\n",
        "print(r\"Hello \\n World!\")  # print(r\"...\") --> \"Ignora\" os comandos dentro das \"\" (String bruta)"
      ]
    },
    {
      "cell_type": "markdown",
      "metadata": {
        "id": "HMSpHilFEzSn"
      },
      "source": [
        "##2.8 - Número oito\n",
        "Escreva operações de adição, subtração, multiplicação e divisão que resultem no número 8. Lembre-se de colocar suas operações em instruções print para ver os resultados. Você deve criar quatro linhas como esta: *print(5 + 3)* Sua saída deve simplesmente ser composta de quatro linhas, com o número 8 em cada uma das linhas"
      ]
    },
    {
      "cell_type": "code",
      "execution_count": null,
      "metadata": {
        "id": "_0TqbABgE2Pn"
      },
      "outputs": [],
      "source": [
        "print(6 + 2)    # Adição\n",
        "print(9 - 1)    # Subtração\n",
        "print(4 * 2)    # Multiplicação\n",
        "print(24 // 3)  # Divisão de números inteiros"
      ]
    },
    {
      "cell_type": "code",
      "execution_count": null,
      "metadata": {
        "id": "z03gPoUtki5O"
      },
      "outputs": [],
      "source": [
        "# OBS!!!\n",
        "\n",
        "print(2 ** 3)  # Exponenciação (2 elevado a 3)\n",
        "print(24 / 3)  # Divisão de números reais (Com casas decimais)"
      ]
    },
    {
      "cell_type": "markdown",
      "metadata": {
        "id": "jQQLr2V2E4oG"
      },
      "source": [
        "##2.9 - Número favorito\n",
        "Armazene seu número favorito em uma variável. Em seguida, usando essa variável, crie uma mensagem que revele o seu número favorito. Exiba essa mensagem."
      ]
    },
    {
      "cell_type": "code",
      "execution_count": null,
      "metadata": {
        "id": "AEZj_QTmE99u"
      },
      "outputs": [],
      "source": [
        "favorite_number = 23\n",
        "message = \"Meu número favorito é o \" + str(numero) + \".\"  # str(variavel) --> muda a variável para STRING\n",
        "print(message)  # ou (f\"Meu número favorito é o {numero}.\")\n",
        "\n",
        "# OBS!!!\n",
        "\n",
        "# int(variavel) --> muda a variável para NÚMERO INTEIRO\n",
        "# float(variavel) --> muda a variável para NÚMERO REAL"
      ]
    },
    {
      "cell_type": "code",
      "execution_count": null,
      "metadata": {
        "id": "pOge2XgZhGK9"
      },
      "outputs": [],
      "source": [
        "# OBS!!!\n",
        "\n",
        "# Número de casas decimais\n",
        "\n",
        "number = 23.323425553\n",
        "\n",
        "print(round(number, 2))  # round(numero, casasDecimais) --> mostra apenas os numeros da quantidade de casas decimais dejadadas\n",
        "print(f\"{number:.2f}\")   # (f\"{numero:.'casasDecimais'f}\")"
      ]
    },
    {
      "cell_type": "markdown",
      "metadata": {
        "id": "9BmMPhi_Gr7d"
      },
      "source": [
        "##2.10 - Acrescentando comentários\n",
        "Escolha dois dos programas que você escreveu e acrescente pelo menos um comentário em cada um. Se você não tiver nada específico para escrever porque o programa é muito simples no momento, basta adicionar seu nome e a data de hoje no início de cada arquivo de programa. Em seguida, escreva uma frase que descreva o que o programa faz."
      ]
    },
    {
      "cell_type": "markdown",
      "metadata": {
        "id": "LhBzf179G2Xl"
      },
      "source": [
        "##2.11 - Zen de Python\n",
        "Digite *import this* em uma sessão de terminal de Python e dê uma olhada nos princípios adicionais."
      ]
    },
    {
      "cell_type": "code",
      "execution_count": null,
      "metadata": {
        "id": "HA4TMo4YHwPR"
      },
      "outputs": [],
      "source": [
        "import this"
      ]
    },
    {
      "cell_type": "markdown",
      "metadata": {
        "id": "e7FEUnsjISnC"
      },
      "source": [
        "# ***3 - INTRODUÇÃO ÀS LISTAS***"
      ]
    },
    {
      "cell_type": "markdown",
      "metadata": {
        "id": "beXnyCt3JDgU"
      },
      "source": [
        "##3.1 - Nomes\n",
        "Armazene os nomes de alguns de seus amigos em uma lista chamada *names*. Exiba o nome de cada pessoa acessando cada elemento da lista, um de cada vez."
      ]
    },
    {
      "cell_type": "code",
      "execution_count": null,
      "metadata": {
        "id": "oqzerTZPLVgk"
      },
      "outputs": [],
      "source": [
        "names = [\"Guido van Rossum\", \"Dennis Ritchie\", \"Bjarne Stroustrup\", \"Anders Hejlsberg\", \"James Gosling\"]\n",
        "print(names[0])  # lista[0] --> PRIMEIRO item da lista;\n",
        "print(names[1])  # lista[1] --> SEGUNDO item da lista;\n",
        "print(names[2])  # ...\n",
        "print(names[3])\n",
        "print(names[4])\n",
        "\n",
        "# OU SEJA: Posição na lista - 1 = Índice\n",
        "\n",
        "# OBS!!!\n",
        "\n",
        "# print(lista) --> imprime a lista utilizando []."
      ]
    },
    {
      "cell_type": "code",
      "execution_count": null,
      "metadata": {
        "id": "kKxp7WzKz3hY"
      },
      "outputs": [],
      "source": [
        "# OBS!!!\n",
        "\n",
        "names = [\"Guido van Rossum\", \"Dennis Ritchie\", \"Bjarne Stroustrup\", \"Anders Hejlsberg\", \"James Gosling\"]\n",
        "print(names[-1])  # lista[-1] --> ÚLTIMO item da lista;\n",
        "print(names[-2])  # lista[-2] --> PENÚLTIMO item da lista;\n",
        "                    # ..."
      ]
    },
    {
      "cell_type": "markdown",
      "metadata": {
        "id": "EcXIeFIxLFxz"
      },
      "source": [
        "##3.2 - Saudações\n",
        "Comece com a lista usada no Exercício 3.1, mas em vez de simplesmente exibir o nome de cada pessoa, apresente uma mensagem a elas. O texto de cada mensagem deve ser o mesmo, porém cada mensagem deve estar personalizada com o nome da pessoa."
      ]
    },
    {
      "cell_type": "code",
      "execution_count": null,
      "metadata": {
        "id": "njWtumdtMJsi"
      },
      "outputs": [],
      "source": [
        "names = [\"Guido van Rossum\", \"Dennis Ritchie\", \"Bjarne Stroustrup\", \"Anders Hejlsberg\", \"James Gosling\"]\n",
        "print(\"Criador da linguagem Python: \" + names[0])\n",
        "print(\"Criador da linguagem C: \" + names[1])\n",
        "print(\"Criador da linguagem C++: \" + names[2])\n",
        "print(\"Criador da linguagem C#: \" + names[3])\n",
        "print(\"Criador da linguagem Java: \" + names[4])"
      ]
    },
    {
      "cell_type": "markdown",
      "metadata": {
        "id": "3SPS84UeLOoX"
      },
      "source": [
        "##3.3 - Sua própria lista\n",
        "Pense em seu meio de transporte preferido, como motocicleta ou carro, e crie uma lista que armazene vários exemplos. Utilize sua lista para exibir uma série de frases sobre esses itens, como “Gostaria de ter uma moto Honda”."
      ]
    },
    {
      "cell_type": "code",
      "execution_count": null,
      "metadata": {
        "id": "OZATOz_lMvGx"
      },
      "outputs": [],
      "source": [
        "vehicles = [\"bicicleta\", \"carro\", \"moto\", \"triciclo\"]\n",
        "print(\"Gostaria de ter uma \" + vehicles[0] + \" elétrica.\")\n",
        "print(\"Gostaria de ter um \" + vehicles[1] + \" econômico.\")\n",
        "print(\"Gostaria de ter uma \" + vehicles[2] + \" elétrica.\")\n",
        "print(\"Gostaria de ter um \" + vehicles[3] + \".\")"
      ]
    },
    {
      "cell_type": "markdown",
      "metadata": {
        "id": "5Obmi687S27M"
      },
      "source": [
        "##3.4 - Lista de convidados\n",
        "Se pudesse convidar alguém, vivo ou morto, para o jantar, quem você convidaria? Crie uma lista que inclua pelo menos três pessoas que você gostaria de convidar para jantar. Em seguida, utilize sua lista para exibir uma mensagem para cada pessoa, convidando-a para jantar."
      ]
    },
    {
      "cell_type": "code",
      "execution_count": null,
      "metadata": {
        "id": "fy-Gpy1jWj4D"
      },
      "outputs": [],
      "source": [
        "guests = [\"Brendan Eich\", \"Ross Ihaka\", \"Robert Gentleman\", \"Yukihiro Matsumoto\"]\n",
        "print(f\"Gostaria de jantar comigo {guests[0]}?\")  # (f\"...{variavel}.\") --> Maneira mais SIMPLIFICADA para imprimir com strings e variaveis\n",
        "print(f\"Gostaria de jantar comigo {guests[1]}?\")\n",
        "print(f\"Gostaria de jantar comigo {guests[2]}?\")\n",
        "print(f\"Gostaria de jantar comigo {guests[3]}?\")"
      ]
    },
    {
      "cell_type": "markdown",
      "metadata": {
        "id": "1ItnCQhAS6Jk"
      },
      "source": [
        "##3.5 - Alterando a lista de convidados\n",
        "Você acabou de saber que um de seus\n",
        "convidados não poderá comparecer ao jantar, portanto será necessário enviar um novo conjunto de convites. Você deverá pensar em outra pessoa para convidar.\n",
        "\n",
        "*   Comece com seu programa do Exercício 3.4. Acrescente uma instrução *print* no final de seu programa, especificando o nome do convidado que não poderá comparecer.\n",
        "\n",
        "*   Modifique sua lista, substituindo o nome do convidado que não poderá\n",
        "comparecer pelo nome da nova pessoa que você está convidando.\n",
        "\n",
        "*   Exiba um segundo conjunto de mensagens com o convite, uma para cada\n",
        "pessoa que continua presente em sua lista."
      ]
    },
    {
      "cell_type": "code",
      "execution_count": null,
      "metadata": {
        "id": "LyydefWZXgWe"
      },
      "outputs": [],
      "source": [
        "#Parte 1\n",
        "guests = [\"Brendan Eich\", \"Ross Ihaka\", \"Robert Gentleman\", \"Yukihiro Matsumoto\"]\n",
        "print(f\"Gostaria de jantar comigo {guests[0]}?\")\n",
        "print(f\"Gostaria de jantar comigo {guests[1]}?\")\n",
        "print(f\"Gostaria de jantar comigo {guests[2]}?\")\n",
        "print(f\"Gostaria de jantar comigo {guests[3]}?\")\n",
        "print(f\"\\nO convidado {guests[1]} não poderá comparecer.\\n\")\n",
        "\n",
        "#Parte 2\n",
        "guests[1] = \"Donald Chamberlin\"  #  lista[indice] = novo_item --> Altera  na lista o item do indice indicado pelo novo_item.\n",
        "\n",
        "#Parte 3\n",
        "print(f\"Gostaria de jantar comigo {guests[0]}?\")\n",
        "print(f\"Gostaria de jantar comigo {guests[1]}?\")\n",
        "print(f\"Gostaria de jantar comigo {guests[2]}?\")\n",
        "print(f\"Gostaria de jantar comigo {guests[3]}?\")"
      ]
    },
    {
      "cell_type": "markdown",
      "metadata": {
        "id": "TlC4RyJcTe5M"
      },
      "source": [
        "##3.6 – Mais convidados\n",
        "Você acabou de encontrar uma mesa de jantar maior, portanto agora tem mais espaço disponível. Pense em mais três convidados para o jantar.\n",
        "\n",
        "*   Comece com seu programa do Exercício 3.4 ou do Exercício 3.5. Acrescente uma instrução *print* no final de seu programa informando às pessoas que você encontrou uma mesa de jantar maior.\n",
        "\n",
        "*   Utilize *insert()* para adicionar um novo convidado no início de sua lista.\n",
        "\n",
        "*   Utilize *insert()* para adicionar um novo convidado no meio de sua lista.\n",
        "\n",
        "*   Utilize *append()* para adicionar um novo convidado no final de sua lista.\n",
        "\n",
        "*   Exiba um novo conjunto de mensagens de convite, uma para cada pessoa\n",
        "que está em sua lista."
      ]
    },
    {
      "cell_type": "code",
      "execution_count": null,
      "metadata": {
        "id": "-PhqczpIYftg"
      },
      "outputs": [],
      "source": [
        "#Parte 1\n",
        "guests = [\"Brendan Eich\", \"Ross Ihaka\", \"Robert Gentleman\", \"Yukihiro Matsumoto\"]\n",
        "print(f\"Gostaria de jantar comigo {guests[0]}?\")\n",
        "print(f\"Gostaria de jantar comigo {guests[1]}?\")\n",
        "print(f\"Gostaria de jantar comigo {guests[2]}?\")\n",
        "print(f\"Gostaria de jantar comigo {guests[3]}?\")\n",
        "print(f\"\\nO convidado {guests[1]} não poderá comparecer.\\n\")\n",
        "\n",
        "guests[1] = \"Donald Chamberlin\"\n",
        "\n",
        "print(f\"Gostaria de jantar comigo {guests[0]}?\")\n",
        "print(f\"Gostaria de jantar comigo {guests[1]}?\")\n",
        "print(f\"Gostaria de jantar comigo {guests[2]}?\")\n",
        "print(f\"Gostaria de jantar comigo {guests[3]}?\")\n",
        "print(f\"\\nEncontrei uma mesa de jantar maior.\\n\")\n",
        "\n",
        "#Parte 2\n",
        "guests.insert(0, \"Raymond Boyce\")  #  lista.insert(indice, novo_item) --> Adiciona o novo_item no indice indicado e\n",
        "                                   #                                      \"empurra\" para frente o restante dos itens.\n",
        "#Parte 3\n",
        "guests.insert(3, \"Rasmus Lerdorf\")\n",
        "\n",
        "#Parte 4\n",
        "guests.append(\"Tim Berners-Lee\")  # lista.append(novo_item) --> Adiciona o novo_item no final da lista.\n",
        "\n",
        "#Parte 5\n",
        "print(f\"Gostaria de jantar comigo {guests[0]}?\")\n",
        "print(f\"Gostaria de jantar comigo {guests[1]}?\")\n",
        "print(f\"Gostaria de jantar comigo {guests[2]}?\")\n",
        "print(f\"Gostaria de jantar comigo {guests[3]}?\")\n",
        "print(f\"Gostaria de jantar comigo {guests[4]}?\")\n",
        "print(f\"Gostaria de jantar comigo {guests[5]}?\")\n",
        "print(f\"Gostaria de jantar comigo {guests[6]}?\")"
      ]
    },
    {
      "cell_type": "markdown",
      "metadata": {
        "id": "4R1oR45eUUU9"
      },
      "source": [
        "##3.7 – Reduzindo a lista de convidados\n",
        "Você acabou de descobrir que sua nova mesa de jantar não chegará a tempo para o jantar e tem espaço para somente dois convidados.\n",
        "\n",
        "*   Comece com seu programa do Exercício 3.6. Acrescente uma nova linha que mostre uma mensagem informando que você pode convidar apenas duas pessoas para o jantar.\n",
        "\n",
        "*   Utilize *pop()* para remover os convidados de sua lista, um de cada vez, até que apenas dois nomes permaneçam em sua lista. Sempre que remover um nome de sua lista, mostre uma mensagem a essa pessoa, permitindo que ela saiba que você sente muito por não poder convidá-la para o jantar.\n",
        "\n",
        "*   Apresente uma mensagem para cada uma das duas pessoas que continuam na lista, permitindo que elas saibam que ainda estão convidadas.\n",
        "\n",
        "*   Utilize *del* para remover os dois últimos nomes de sua lista, de modo que você tenha uma lista vazia. Mostre sua lista para garantir que você realmente tem uma lista vazia no final de seu programa."
      ]
    },
    {
      "cell_type": "code",
      "execution_count": null,
      "metadata": {
        "id": "JJNQwjACayUV"
      },
      "outputs": [],
      "source": [
        "#Parte 1\n",
        "guests = [\"Brendan Eich\", \"Ross Ihaka\", \"Robert Gentleman\", \"Yukihiro Matsumoto\"]\n",
        "print(f\"Gostaria de jantar comigo {guests[0]}?\")\n",
        "print(f\"Gostaria de jantar comigo {guests[1]}?\")\n",
        "print(f\"Gostaria de jantar comigo {guests[2]}?\")\n",
        "print(f\"Gostaria de jantar comigo {guests[3]}?\")\n",
        "print(f\"\\nO convidado {guests[1]} não poderá comparecer.\\n\")\n",
        "\n",
        "guests[1] = \"Donald Chamberlin\"\n",
        "\n",
        "print(f\"Gostaria de jantar comigo {guests[0]}?\")\n",
        "print(f\"Gostaria de jantar comigo {guests[1]}?\")\n",
        "print(f\"Gostaria de jantar comigo {guests[2]}?\")\n",
        "print(f\"Gostaria de jantar comigo {guests[3]}?\")\n",
        "print(f\"\\nEncontrei uma mesa de jantar maior.\\n\")\n",
        "\n",
        "guests.insert(0, \"Raymond Boyce\")\n",
        "\n",
        "guests.insert(3, \"Rasmus Lerdorf\")\n",
        "\n",
        "guests.append(\"Tim Berners-Lee\")\n",
        "\n",
        "print(f\"Gostaria de jantar comigo {guests[0]}?\")\n",
        "print(f\"Gostaria de jantar comigo {guests[1]}?\")\n",
        "print(f\"Gostaria de jantar comigo {guests[2]}?\")\n",
        "print(f\"Gostaria de jantar comigo {guests[3]}?\")\n",
        "print(f\"Gostaria de jantar comigo {guests[4]}?\")\n",
        "print(f\"Gostaria de jantar comigo {guests[5]}?\")\n",
        "print(f\"Gostaria de jantar comigo {guests[6]}?\")\n",
        "print(f\"\\nDesculpem-me, ocorreu um empecilho e posso convidar apenas 2 pessoas para jantar.\\n\")\n",
        "\n",
        "#Parte 2\n",
        "excluded_guest = guests.pop(1)  # variavel = lista.pop(indice) --> Remove  da lista o item do indice indicado e, caso\n",
        "print(f\"{excluded_guest}, sinto muito por não poder convidá-lo.\")# queira reutilizá-lo, armazena na variavel indicada.\n",
        "excluded_guest = guests.pop(1)\n",
        "print(f\"{excluded_guest}, sinto muito por não poder convidá-lo.\")\n",
        "excluded_guest = guests.pop(4)\n",
        "print(f\"{excluded_guest}, sinto muito por não poder convidá-lo.\")\n",
        "excluded_guest = guests.pop(0)\n",
        "print(f\"{excluded_guest}, sinto muito por não poder convidá-lo.\")\n",
        "excluded_guest = guests.pop(2)\n",
        "print(f\"{excluded_guest}, sinto muito por não poder convidá-lo.\")\n",
        "\n",
        "#Parte 3\n",
        "print(f\"\\n{guests[0]}, você ainda está convidado.\")\n",
        "print(f\"\\n{guests[1]}, você ainda está convidado.\\n\")\n",
        "\n",
        "#Parte 4\n",
        "del guests[0]  # del lista[indice] --> Remove  da lista o item do indice indicado.\n",
        "del guests[0]\n",
        "print(guests)\n",
        "\n",
        "#OBS!!!\n",
        "\n",
        "# lista.remove(valor) --> Remove  da lista o valor (string, numero, etc) indicado. Porém, caso haja mais itens iguais\n",
        "#                         (de mesmo valor), será removido apenas o primeiro.\n",
        "\n",
        "# lista1.extend(lista2 ou valor) --> Une a lista2 na lista1 ou acrescenta o valor na lista1\n",
        "# lista3 = lista1 + lista2 --> mesma coisa que: lista1.extend(lista2)\n",
        "\n",
        "# lista.index('valor') --> Retorna o índice da lista no qual o valor está armazenado. Se tiver mais de um, o primeiro índice\n",
        "#                          no qual o valor aparece é o que será retornado. Caso não haja esse valor na lista, o programa \n",
        "#                          retorna um erro."
      ]
    },
    {
      "cell_type": "markdown",
      "metadata": {
        "id": "vhVvhpnPpDAC"
      },
      "source": [
        "##3.8 – Conhecendo o mundo\n",
        "Pense em pelo menos cinco lugares do mundo que você gostaria de visitar.\n",
        "\n",
        "*   Armazene as localidades em uma lista. Certifique-se de que a lista não esteja em ordem alfabética.\n",
        "\n",
        "*   Exiba sua lista na ordem original. Não se preocupe em exibir a lista de forma elegante; basta exibi-la como uma lista Python pura.\n",
        "\n",
        "*   Utilize *sorted()* para exibir sua lista em ordem alfabética, sem modificar a lista propriamente dita.\n",
        "\n",
        "*   Mostre que sua lista manteve sua ordem original exibindo-a.\n",
        "\n",
        "*   Utilize *sorted()* para exibir sua lista em ordem alfabética inversa sem alterar a ordem da lista original.\n",
        "\n",
        "*   Mostre que sua lista manteve sua ordem original exibindo-a novamente.\n",
        "\n",
        "*   Utilize *reverse()* para mudar a ordem de sua lista. Exiba a lista para mostrar que sua ordem mudou.\n",
        "\n",
        "*   Utilize *reverse()* para mudar a ordem de sua lista novamente. Exiba a lista para mostrar que ela voltou à sua ordem original.\n",
        "\n",
        "*   Utilize *sort()* para mudar sua lista de modo que ela seja armazenada em ordem alfabética. Exiba a lista para mostrar que sua ordem mudou.\n",
        "\n",
        "*   Utilize *sort()* para mudar sua lista de modo que ela seja armazenada em ordem alfabética inversa. Exiba a lista para mostrar que sua ordem mudou."
      ]
    },
    {
      "cell_type": "code",
      "execution_count": null,
      "metadata": {
        "id": "cfBPoXF1sEbz"
      },
      "outputs": [],
      "source": [
        "#Parte 1\n",
        "locations = [\"Neo Química Arena\", \"Signa Iduna Park\", \"Disney\", \"Santiago Bernabéu\", \"Havaí\"]\n",
        "\n",
        "#Parte 2\n",
        "print(locations)\n",
        "\n",
        "#Parte 3\n",
        "print(sorted(locations))  # print(sorted(lista)) --> Ordena a lista em ordem ALFABÉTICA/CRESCENTE TEMPORARIAMENTE. \n",
        "                          # OBS: variavel = sorted(lista) --> armazena a lista ordenada em uma variável para \n",
        "#Parte 4                  #                                   utilizá-la novamente quando quiser.\n",
        "print(locations)\n",
        "\n",
        "#Parte 5\n",
        "print(sorted(locations, reverse=True))  # print(sorted(lista, reverse=True)) --> Ordena a lista em ordem ALFABÉTICA\n",
        "                                        #                                        INVERSA/DECRESCENTE TEMPORARIAMENTE.\n",
        "#Parte 6                                \n",
        "print(locations)\n",
        "\n",
        "#Parte 7\n",
        "locations.reverse()  # lista.reverse() --> INVERTE a lista, ou seja, começa do ultimo índice e termina no primeiro.\n",
        "print(locations)\n",
        "\n",
        "#Parte 8\n",
        "locations.reverse()\n",
        "print(locations)\n",
        "\n",
        "#Parte 9\n",
        "locations.sort()  # Ordena a lista em ordem alfabética/crescente PERMANENTEMENTE.\n",
        "print(locations)\n",
        "\n",
        "#Parte 10\n",
        "locations.sort(reverse=True)  # Ordena a lista em ordem ALFABÉTICA INVERSA/DECRESCENTE PERMANENTEMENTE.\n",
        "print(locations)"
      ]
    },
    {
      "cell_type": "markdown",
      "metadata": {
        "id": "FlspbedZrcO8"
      },
      "source": [
        "##3.9 – Convidados para o jantar\n",
        "Trabalhando com um dos programas dos Exercícios de 3.4 a 3.7 (páginas 80 e 81), use len*()* para exibir uma mensagem informando o número de pessoas que você está convidando para o jantar."
      ]
    },
    {
      "cell_type": "code",
      "execution_count": null,
      "metadata": {
        "id": "vX8g3h0qw88n"
      },
      "outputs": [],
      "source": [
        "guests = [\"Brendan Eich\", \"Ross Ihaka\", \"Robert Gentleman\", \"Yukihiro Matsumoto\"]\n",
        "print(f\"Gostaria de jantar comigo {guests[0]}?\")\n",
        "print(f\"Gostaria de jantar comigo {guests[1]}?\")\n",
        "print(f\"Gostaria de jantar comigo {guests[2]}?\")\n",
        "print(f\"Gostaria de jantar comigo {guests[3]}?\")\n",
        "\n",
        "print(f\"\\nForam convidadas {len(guests)} pessoas para o jantar.\")  # len(lista) --> Informa o número de elementos\n",
        "                                                                   #                da lista."
      ]
    },
    {
      "cell_type": "markdown",
      "metadata": {
        "id": "zTcIoAPMrn5E"
      },
      "source": [
        "##3.10 – Todas as funções\n",
        "Pensa em algo que você poderia armazenar em uma lista. Por exemplo, você poderia criar uma lista de montanhas, rios, países, cidades, idiomas ou qualquer outro item que quiser. Escreva um programa que crie uma lista contendo esses itens e então utilize cada função apresentada neste capítulo pelo menos uma vez."
      ]
    },
    {
      "cell_type": "code",
      "execution_count": null,
      "metadata": {
        "id": "PqjwaLtKxsqu"
      },
      "outputs": [],
      "source": [
        "teams = [\"Corinthians\", \"Palmeiras\", \"Flamengo\", \"São Paulo\", \"Atlético-MG\", \"Santos\", \"Internacional\"]\n",
        "\n",
        "print(sorted(teams))\n",
        "\n",
        "print(sorted(teams, reverse=True))\n",
        "\n",
        "teams.reverse()\n",
        "print(teams)\n",
        "\n",
        "teams.sort()\n",
        "print(teams)\n",
        "\n",
        "teams.sort(reverse=True)\n",
        "print(teams)\n",
        "\n",
        "print(len(teams))"
      ]
    },
    {
      "cell_type": "code",
      "execution_count": null,
      "metadata": {
        "id": "nFcTQJ3xzVRs"
      },
      "outputs": [],
      "source": [
        "# OBS!!!\n",
        "\n",
        "lista = ['Alice', 'ants', 'Bob', 'badgers', 'Carol', 'cats']\n",
        "lista.sort()  # Ordem ASCII (Letras maiúsculas primeiro --> Z maiúsculo vem antes do a minúsculo)\n",
        "print(lista)\n",
        "\n",
        "lista = ['a', 'z', 'A', 'Z']\n",
        "lista.sort(key=str.lower)  # Ordem alfabética normal\n",
        "print(lista)"
      ]
    },
    {
      "cell_type": "markdown",
      "metadata": {
        "id": "JsfQVG-L0ic-"
      },
      "source": [
        "##3.11 – Erro proposital\n",
        "Se você ainda não recebeu um erro de índice em um de seus programas, tente fazer um erro desse tipo acontecer. Altere um índice em um de seus programas de modo a gerar um erro de índice. Não se esqueça de corrigir o erro antes de fechar o programa."
      ]
    },
    {
      "cell_type": "code",
      "execution_count": null,
      "metadata": {
        "id": "6p3gEd1r0oBu"
      },
      "outputs": [],
      "source": [
        "teams = [\"Corinthians\", \"Palmeiras\", \"Flamengo\", \"São Paulo\", \"Atlético-MG\", \"Santos\", \"Internacional\"]\n",
        "\n",
        "#Imprimir o último item da lista \"teams\":\n",
        "\n",
        "print(teams[7])  # CORRETO: print(teams[6]) ou print(teams[-1])"
      ]
    },
    {
      "cell_type": "markdown",
      "metadata": {
        "id": "C8YRQSbO1PVw"
      },
      "source": [
        "# ***4 - TRABALHANDO COM LISTAS***"
      ]
    },
    {
      "cell_type": "markdown",
      "metadata": {
        "id": "LtLhIctC1WO2"
      },
      "source": [
        "##4.1 – Pizzas\n",
        "Pense em pelo menos três tipos de pizzas favoritas. Armazene os nomes dessas pizzas e, então, utilize um laço *for* para  exibir o nome de cada pizza.\n",
        "\n",
        "*   Modifique seu laço *for* para mostrar uma frase usando o nome da pizza em vez de exibir apenas o nome dela. Para cada pizza, você deve ter uma linha na saída contendo uma frase simples como *Gosto de pizza de pepperoni.*\n",
        "\n",
        "*   Acrescente uma linha no final de seu programa, fora do laço *for*, que informe quanto você gosta de pizza. A saída deve ser constituída de três ou mais linhas sobre os tipos de pizza que você gosta e de uma frase adicional, por exemplo, *Eu realmente adoro pizza!*"
      ]
    },
    {
      "cell_type": "code",
      "execution_count": null,
      "metadata": {
        "id": "VDNIhvoP_4IP"
      },
      "outputs": [],
      "source": [
        "pizzas = [\"4 Queijos\", \"Brócolis com Bacon\", \"Portuguesa\"]\n",
        "\n",
        "#Parte 1\n",
        "for pizza in pizzas:  # for item in lista: --> Laço de repetição, o qual armazena na variavel 'item' o primeiro item\n",
        "    print(f\"Gosto de pizza de {pizza}.\")  #    da lista, executa os comandos identados e pula para o próximo item,                 \n",
        "                                          #    repetindo o processo até terminar todos os itens da lista.                            \n",
        "#Parte 2\n",
        "print(\"\\nEu realmente adoro pizza!\")"
      ]
    },
    {
      "cell_type": "markdown",
      "metadata": {
        "id": "alG7yRkd_UOo"
      },
      "source": [
        "##4.2 – Animais\n",
        "Pense em pelo menos três animais diferentes que tenham uma\n",
        "característica em comum. Armazene os nomes desses animais em uma lista e, então, utilize um laço *for* para exibir o nome de cada animal.\n",
        "\n",
        "*   Modifique seu programa para exibir uma frase sobre cada animal, por exemplo, *Um cachorro seria um ótimo animal de estimação.*\n",
        "\n",
        "*   Acrescente uma linha no final de seu programa informando o que esses animais têm em comum. Você poderia exibir uma frase como *Qualquer um desses animais seria um ótimo animal de estimação!*"
      ]
    },
    {
      "cell_type": "code",
      "execution_count": null,
      "metadata": {
        "id": "8JdOfuV7_3lH"
      },
      "outputs": [],
      "source": [
        "cats = [\"gato\", \"leão\", \"guepardo\"]\n",
        "\n",
        "#Parte 1\n",
        "for feline in cats:\n",
        "    print(f\"O {feline} é um ótimo caçador.\")\n",
        "\n",
        "#Parte 2\n",
        "print(\"\\nQualquer um desses animais é um ótimo caçador.\")"
      ]
    },
    {
      "cell_type": "markdown",
      "metadata": {
        "id": "fut3u4LnYwaa"
      },
      "source": [
        "##4.3 – Contando até vinte\n",
        "Use um laço *for* para exibir os números de 1 a 20, incluindo-os."
      ]
    },
    {
      "cell_type": "code",
      "execution_count": null,
      "metadata": {
        "id": "DFxszhJlY13b"
      },
      "outputs": [],
      "source": [
        "for value in range(1,21):  # for item in range(x, y): --> Laço de repetição com valores numéricos, o qual armazena 'x'\n",
        "    print(value)           #                              na variavel 'item' e executa os comandos identados. Após\n",
        "                           #                              isso, \"pula\" para o próximo valor (x + 1) e repete o proces-\n",
        "                           #                              so até y - 1. O valor 'y' NÃO é executado."
      ]
    },
    {
      "cell_type": "markdown",
      "metadata": {
        "id": "FzkNVjmzY-D7"
      },
      "source": [
        "##4.4 – Um milhão\n",
        "Crie uma lista de números de um a um milhão e, então, use um laço *for* para exibir os números. (Se a saída estiver demorando demais, interrompa pressionando *CTRL-C* ou feche a janela de saída.)"
      ]
    },
    {
      "cell_type": "code",
      "execution_count": null,
      "metadata": {
        "id": "ywDeBY-YZE1t"
      },
      "outputs": [],
      "source": [
        "values = list(range(1, 1000001))  # lista = list(range(x, y)) --> Cria uma lista contendo os valores de 'x' até 'y-1'\n",
        "                                  #                               e armazena na variável 'lista'.\n",
        "for value in values:\n",
        "    print(value)"
      ]
    },
    {
      "cell_type": "markdown",
      "metadata": {
        "id": "Sx2oLwiuZFLD"
      },
      "source": [
        "##4.5 – Somando um milhão\n",
        "Crie uma lista de números de um a um milhão e, em seguida, use *min()* e *max()* para garantir que sua lista realmente começa em um e termina em um milhão. Além disso, utilize a função *sum()* para ver a rapidez com que Python é capaz de somar um milhão de números."
      ]
    },
    {
      "cell_type": "code",
      "execution_count": null,
      "metadata": {
        "id": "raVJqz9BZSEi"
      },
      "outputs": [],
      "source": [
        "values = list(range(1, 1000001))\n",
        "\n",
        "print(min(values))  # min(lista) --> Retorna o item de MENOR valor da lista.\n",
        "print(max(values))  # min(lista) --> Retorna o item de MENOR valor da lista.\n",
        "print(sum(values))  # sum(lista) --> Retorna a SOMA de TODOS os itens(valores) da lista."
      ]
    },
    {
      "cell_type": "markdown",
      "metadata": {
        "id": "17X3hK-kZSVq"
      },
      "source": [
        "##4.6 – Números ímpares\n",
        "Use o terceiro argumento da função *range()* para criar uma lista de números ímpares de 1 a 20. Utilize um laço *for* para exibir todos os números."
      ]
    },
    {
      "cell_type": "code",
      "execution_count": null,
      "metadata": {
        "id": "SWpEEKKWZfhR"
      },
      "outputs": [],
      "source": [
        "odd_numbers = list(range(1, 20, 2))  # range(x, y, z) --> Começa a execução no 'x', vai até 'y-1' e \"pula\" de \"z em z\".\n",
        "\n",
        "for odd in odd_numbers:\n",
        "    print(odd)"
      ]
    },
    {
      "cell_type": "markdown",
      "metadata": {
        "id": "vVm1HaUDZfwB"
      },
      "source": [
        "##4.7– Três\n",
        "Crie uma lista de múltiplos de 3, de 3 a 30. Use um laço *for* para exibir os números de sua lista."
      ]
    },
    {
      "cell_type": "code",
      "execution_count": null,
      "metadata": {
        "id": "WmXJLIluZlrp"
      },
      "outputs": [],
      "source": [
        "multiples_3 = list(range(3, 31, 3))\n",
        "\n",
        "for multiple_3 in multiples_3:\n",
        "    print(multiple_3)"
      ]
    },
    {
      "cell_type": "markdown",
      "metadata": {
        "id": "7tzHAjNBZmDq"
      },
      "source": [
        "##4.8 – Cubos\n",
        "Um número elevado à terceira potência é chamado de cubo. Por\n",
        "exemplo, o cubo de 2 é escrito como *2**3* em Python. Crie uma lista dos dez primeiros cubos (isto é, o cubo de cada inteiro de 1 a 10), e utilize um laço *for* para exibir o valor de cada cubo."
      ]
    },
    {
      "cell_type": "code",
      "execution_count": null,
      "metadata": {
        "id": "Pw34p10QZzOQ"
      },
      "outputs": [],
      "source": [
        "cubes = []\n",
        "for value in range(1, 11):\n",
        "    cubes.append(value**3)  # mesma coisa de:  cube = value**3\n",
        "                            #                  cubes.append(cube)\n",
        "print(cubes)"
      ]
    },
    {
      "cell_type": "markdown",
      "metadata": {
        "id": "lwBb-B52ZzlA"
      },
      "source": [
        "##4.9 – Comprehension de cubos\n",
        "Use uma list comprehension para gerar uma lista dos dez primeiros cubos."
      ]
    },
    {
      "cell_type": "code",
      "execution_count": null,
      "metadata": {
        "id": "KR8xmqmcZ5ey"
      },
      "outputs": [],
      "source": [
        "print([value**3 for value in range(1, 11)])"
      ]
    },
    {
      "cell_type": "markdown",
      "metadata": {
        "id": "lvWx-D6BibtT"
      },
      "source": [
        "##4.10 – Fatias\n",
        "Usando um dos programas que você escreveu neste capítulo, acrescente várias linhas no final do programa que façam o seguinte:\n",
        "\n",
        "*   Exiba a mensagem *Os três primeiros itens da lista são:*. Em seguida, use uma fatia para exibir os três primeiros itens da lista desse programa.\n",
        "\n",
        "*   Exiba a mensagem *Três itens do meio da lista são:*. Use uma fatia para exibir três itens do meio da lista.\n",
        "\n",
        "*   Exiba a mensagem *Os três últimos itens da lista são:*. Use uma fatia para exibir os três últimos itens da lista."
      ]
    },
    {
      "cell_type": "code",
      "execution_count": null,
      "metadata": {
        "id": "FdPIApqbi_VM"
      },
      "outputs": [],
      "source": [
        "#3.10\n",
        "teams = [\"Corinthians\", \"Palmeiras\", \"Flamengo\", \"São Paulo\", \"Atlético-MG\", \"Santos\", \"Internacional\"]\n",
        "\n",
        "#Parte 1\n",
        "print(f\"Os três primeiros itens da lista são: {teams[:3]}.\")  # lista[:x] --> Retorna a fatia do índice '0' até 'x-1' \n",
        "                                                              #               da lista.             \n",
        "#Parte 2\n",
        "print(f\"Os três itens do meio da lista são: {teams[2:5]}.\")   # lista[x:y] --> Retorna a fatia do índice 'x' até 'y-1'\n",
        "                                                              #                da lista.\n",
        "#Parte 3\n",
        "print(f\"Os três últimos itens da lista são: {teams[4:]}.\")    # lista[x:] --> Retorna a fatia do índice 'x' até o\n",
        "                                                              #               final da lista.\n",
        "\n",
        "                                                              # lista[-x:] --> Retorna a fatia do índice '-x' até o\n",
        "                                                              #               final da lista.\n",
        "\n",
        "                                                              # lista[:-x] --> Retorna a fatia do índice'0' até '-x-1'\n",
        "                                                              #                da lista."
      ]
    },
    {
      "cell_type": "markdown",
      "metadata": {
        "id": "q2g7JtMvjDqs"
      },
      "source": [
        "##4.11 – Minhas pizzas, suas pizzas\n",
        "Comece com seu programa do Exercício 4.1 (página 97). Faça uma cópia da lista de pizzas e chame-a de *friend_pizzas*. Então faça o seguinte: \n",
        "\n",
        "*   Adicione uma nova pizza à lista original.\n",
        "\n",
        "*   Adicione uma pizza diferente à lista *friend_pizzas*.\n",
        "\n",
        "*   Prove que você tem duas listas diferentes. Exiba a mensagem *Minhas pizzas favoritas são:*; em seguida, utilize um laço *for* para exibir a primeira lista. Exiba a mensagem *As pizzas favoritas de meu amigo são:*; em seguida, utilize um laço *for* para exibir a segunda lista. Certifique-se de que cada pizza nova esteja armazenada na lista apropriada."
      ]
    },
    {
      "cell_type": "code",
      "execution_count": null,
      "metadata": {
        "id": "6VAw0_34jbBa"
      },
      "outputs": [],
      "source": [
        "pizzas = [\"4 Queijos\", \"Brócolis com Bacon\", \"Portuguesa\"]\n",
        "\n",
        "friend_pizzas = pizzas[:] # lista[:] --> Retorna a lista inteira.\n",
        "\n",
        "#Parte 1\n",
        "pizzas.append(\"Calabresa\")\n",
        "\n",
        "#Parte 2\n",
        "friend_pizzas.append(\"Marguerita\")\n",
        "\n",
        "#Parte 3\n",
        "print(f\"Minhas pizzas favoritas são: \")\n",
        "for pizza in pizzas:\n",
        "    print(pizza)\n",
        "\n",
        "print(f\"\\nAs pizzas favoritas de meu amigo são: \")\n",
        "for pizza in friend_pizzas:\n",
        "    print(pizza)"
      ]
    },
    {
      "cell_type": "markdown",
      "metadata": {
        "id": "om46SZrLjbXS"
      },
      "source": [
        "##4.12 – Mais laços\n",
        "Todas as versões de foods.py nesta seção evitaram usar laços *for* para fazer exibições a fim de economizar espaço. Escolha uma versão de foods.py e escreva dois laços *for* para exibir cada lista de comidas."
      ]
    },
    {
      "cell_type": "code",
      "execution_count": null,
      "metadata": {
        "id": "yTJk4nEbjlmi"
      },
      "outputs": [],
      "source": [
        "my_foods = ['pizza', 'falafel', 'carrot cake', 'cannoli']\n",
        "for food in my_foods:\n",
        "    print(food)\n",
        "\n",
        "print()\n",
        "\n",
        "friend_foods = ['pizza', 'falafel', 'carrot cake', 'ice cream']\n",
        "for food in friend_foods:\n",
        "    print(food)"
      ]
    },
    {
      "cell_type": "markdown",
      "metadata": {
        "id": "5z0ZyOfoWl_p"
      },
      "source": [
        "##4.13 – Buffet\n",
        "Um restaurante do tipo buffet oferece apenas cinco tipos básicos de comida. Pense em cinco pratos simples e armazene-os em uma tupla.\n",
        "\n",
        "*   Use um laço *for* para exibir cada prato oferecido pelo restaurante.\n",
        "\n",
        "*   Tente modificar um dos itens e cerifique-se de que Python rejeita a mudança.\n",
        "\n",
        "*   O restaurante muda seu cardápio, substituindo dois dos itens com pratos diferentes. Acrescente um bloco de código que reescreva a tupla e, em seguida, use um laço *for* para exibir cada um dos itens do cardápio revisado."
      ]
    },
    {
      "cell_type": "code",
      "execution_count": null,
      "metadata": {
        "id": "tlV5yQ6AW6Pp"
      },
      "outputs": [],
      "source": [
        " plates = (\"lasanha\", \"strogonoff de carne\", \"bife\", \"filé de frango\")  # -> variavel = (...) --> Tupla: lista imutável\n",
        "                                                                        # -> Tuplas PODEM ser concatenada e repetida por um multiplicador \n",
        "#Parte 1                                                                # -> Não necessita dos parêntesis para armazenar, apenas separar\n",
        "for plate in plates:                                                    #    por vírgulas.\n",
        "    print(plate)\n",
        "\n",
        "#Parte 2\n",
        "plates[0] = \"strogonoff de frango\" \n",
        "\n",
        "#Parte 3\n",
        "plates = list(plates)  # \"Macete\" para modificar a tupla (transforme em lista e depois em tupla novamente)\n",
        "plates[1] = \"strogonoff de frango\"\n",
        "plates[3] = \"ovo frito\"\n",
        "plates = tuple(plates) # # variavel = tuple(lista) --> Trasnforma a lista em tupla e armazena em uma variável.\n",
        "\n",
        "print()\n",
        "for plate in plates:\n",
        "    print(plate)"
      ]
    },
    {
      "cell_type": "markdown",
      "metadata": {
        "id": "amP3XXeGcQpE"
      },
      "source": [
        "##4.14 – PEP 8\n",
        "Observe o guia de estilo da PEP 8 original em https://python.org/dev/peps/pep-0008/. Você não usará boa parte dele agora, mas pode ser interessante dar uma olhada."
      ]
    },
    {
      "cell_type": "markdown",
      "metadata": {
        "id": "IvCGFomWclqy"
      },
      "source": [
        "##4.15 – Revisão de código\n",
        "Escolha três programas que você escreveu neste capítulo e modifique-os para que estejam de acordo com a PEP 8:\n",
        "\n",
        "*   Use quatro espaços para cada nível de indentação. Configure seu editor de texto para inserir quatro espaços sempre que a tecla *TAB* for usada, caso ainda não tenha feito isso (consulte o Apêndice B para ver instruções sobre como fazê-lo).\n",
        "\n",
        "*   Use menos de 80 caracteres em cada linha e configure seu editor para que mostre uma linha vertical na posição do caractere de número 80.\n",
        "\n",
        "*   Não use linhas em branco em demasia em seus arquivos de programa."
      ]
    },
    {
      "cell_type": "markdown",
      "metadata": {
        "id": "xqSAhtI1dgHR"
      },
      "source": [
        "# ***5 - INSTRUÇÕES IF***"
      ]
    },
    {
      "cell_type": "markdown",
      "metadata": {
        "id": "OZnGkmI4gQTM"
      },
      "source": [
        "##5.1 – Testes condicionais\n",
        "Escreva uma série de testes condicionais. Exiba uma frase que descreva o teste e o resultado previsto para cada um. Seu código deverá ser semelhante a: car = 'subaru'\n",
        "\n",
        "print(\"Is car == 'subaru'? I predict True.\") print(car == 'subaru') \n",
        "\n",
        "print(\"\\nIs car == 'audi'? I predict False.\") print(car == 'audi')\n",
        "\n",
        "*   Observe atentamente seus resultados e certifique-se de que compreende por que cada linha é avaliada como *True* ou *False*.\n",
        "\n",
        "*   Crie pelo menos dez testes. Tenha no mínimo cinco testes avaliados como *True* e outros cinco avaliados como *False*."
      ]
    },
    {
      "cell_type": "code",
      "execution_count": null,
      "metadata": {
        "id": "L8kgyvVegsE7"
      },
      "outputs": [],
      "source": [
        "color = \"blue\"\n",
        "\n",
        "print(\"Is color == 'blue'? I predict True.\")\n",
        "print(color == \"blue\")\n",
        "print()\n",
        "\n",
        "print(\"Is color == 'Blue'? I predict False.\")\n",
        "print(color == \"Blue\")\n",
        "print()\n",
        "\n",
        "car = \"Fiat\"\n",
        "\n",
        "print(\"Is car == 'fiat'? I predict False.\")\n",
        "print(car == \"fiat\")\n",
        "print()\n",
        "\n",
        "print(\"Is car == 'Fiat'? I predict True.\")\n",
        "print(car == \"Fiat\")\n",
        "print()\n",
        "\n",
        "name = \"leonardo\"\n",
        "name = name.title()\n",
        "\n",
        "print(\"Is name == 'leonardo'? I predict False.\")\n",
        "print(name == \"leonardo\")\n",
        "print()\n",
        "\n",
        "print(\"Is name == 'Leonardo'? I predict True.\")\n",
        "print(name == \"Leonardo\")\n",
        "print()\n",
        "\n",
        "number = 23\n",
        "\n",
        "print(\"Is number == '23'? I predict False.\")\n",
        "print(number == \"23\")\n",
        "print()\n",
        "\n",
        "print(\"Is number == 23? I predict True.\")\n",
        "print(number == 23)\n",
        "print()\n",
        "\n",
        "number = '32'\n",
        "\n",
        "print(\"Is number == '32'? I predict True.\")\n",
        "print(number == \"32\")\n",
        "print()\n",
        "\n",
        "print(\"Is number == 32? I predict False.\")\n",
        "print(number == 32)"
      ]
    },
    {
      "cell_type": "code",
      "execution_count": null,
      "metadata": {
        "id": "uob9xj8_aeZJ"
      },
      "outputs": [],
      "source": [
        "# OBS!!!\n",
        "\n",
        "# Considerados False pelo programa:\n",
        "\n",
        "constantes definidas como False: None e False.\n",
        "\n",
        "zero de qualquer tipo numérico: 0, 0.0, 0j, Decimal(0), Fraction(0, 1)\n",
        "\n",
        "sequências vazias e coleções: '', (), [], {}, set(), range(0)"
      ]
    },
    {
      "cell_type": "markdown",
      "metadata": {
        "id": "RyM5c7chgscj"
      },
      "source": [
        "##5.2 – Mais testes condicionais\n",
        "Você não precisa limitar o número de testes que criar em dez. Se quiser testar mais comparações, escreva outros testes e acrescente-os em conditional_tests.py. Tenha pelo menos um resultado *True* e um *False* para cada um dos casos a seguir:\n",
        "\n",
        "*   testes de igualdade e de não igualdade com strings;\n",
        " \n",
        "*   testes usando a função *lower()*;\n",
        "\n",
        "*   testes numéricos que envolvam igualdade e não igualdade, maior e menor que, maior ou igual a e menor ou igual a;\n",
        "\n",
        "*   testes usando as palavras reservadas *and* e *or*;\n",
        "\n",
        "*   testes para verificar se um item está em uma lista;\n",
        "\n",
        "*   testes para verificar se um item não está em uma lista."
      ]
    },
    {
      "cell_type": "code",
      "execution_count": null,
      "metadata": {
        "id": "OiyDYrsPhzkC"
      },
      "outputs": [],
      "source": [
        "#Parte 1\n",
        "color = \"blue\"\n",
        "\n",
        "print(\"Is color == 'blue'? I predict True.\")\n",
        "print(color == \"blue\")\n",
        "print()\n",
        "\n",
        "print(\"Is color == 'Blue'? I predict False.\")\n",
        "print(color == \"Blue\")\n",
        "print()\n",
        "\n",
        "#Parte 2\n",
        "name = \"Leonardo\"\n",
        "name = name.lower()\n",
        "\n",
        "print(\"Is name == 'Leonardo'? I predict False.\")\n",
        "print(name == \"Leonardo\")\n",
        "print()\n",
        "\n",
        "print(\"Is name == 'leonardo'? I predict True.\")\n",
        "print(name == \"leonardo\")\n",
        "print()\n",
        "\n",
        "#Parte 3\n",
        "number = 23\n",
        "\n",
        "print(\"Is number 25 > 23? I predict True.\")\n",
        "print(25 > number)\n",
        "print()\n",
        "\n",
        "print(\"Is number 19 > 23? I predict False.\")\n",
        "print(19 > 23)\n",
        "print()\n",
        "\n",
        "#Parte 4\n",
        "pizza = \"calabresa\"\n",
        "\n",
        "print(\"Is pizza == 'calabresa' or 'marguerita'? I predict True.\")\n",
        "print(bool(pizza == \"calabresa\" or \"marguerita\"))\n",
        "print()\n",
        "\n",
        "pizzas = \"mussarela\" \n",
        "print(\"Is pizza == 'calabresa' and 'marguerita'? I predict False.\")\n",
        "print(bool(pizzas == \"calabresa\" and \"marguerita\"))\n",
        "print()\n",
        "\n",
        "#Parte 5\n",
        "colors = [\"blue\", \"red\", \"purple\"]\n",
        "\n",
        "print(\"Is 'green' in colors? I predict False.\")\n",
        "print(bool(\"green\" in colors))\n",
        "print()\n",
        "\n",
        "#Parte 6\n",
        "print(\"Is 'green' and 'yellow' not in colors? I predict True.\")\n",
        "print(bool(\"green\" and \"yellow\" not in colors))"
      ]
    },
    {
      "cell_type": "code",
      "execution_count": null,
      "metadata": {
        "id": "AN9DR9MiZOjD"
      },
      "outputs": [],
      "source": [
        "# OBS!!!\n",
        "\n",
        "# Expressão condicional com o operador OR\n",
        "\n",
        "name = input(\"Digite seu nome: \")        \n",
        "print(name or \"Você não digitou nada!\")  # Mesma coisa que: if name:\n",
        "                                         #                      print(name)\n",
        "                                         #                  else:\n",
        "                                         #                      print(\"Você não digitou nada!\")"
      ]
    },
    {
      "cell_type": "markdown",
      "metadata": {
        "id": "YXUzF8UsKMjl"
      },
      "source": [
        "##5.3 – Cores de alienígenas(I)\n",
        "Suponha que um alienígena acabou de ser atingido em um jogo. Crie uma variável chamada *alien_color* e atribua-lhe um valor igual a *'green'*, *'yellow'* ou *'red'*.\n",
        "\n",
        "*   Escreva uma instrução *if* para testar se a cor do alienígena é verde. Se for, mostre uma mensagem informando que o jogador acabou de ganhar cinco pontos.\n",
        "\n",
        "*   Escreva uma versão desse programa em que o teste *if* passe e outro em que ele falhe. (A versão que falha não terá nenhuma saída.)"
      ]
    },
    {
      "cell_type": "code",
      "execution_count": null,
      "metadata": {
        "id": "XoIrQTEbLTNS"
      },
      "outputs": [],
      "source": [
        "#Parte 1\n",
        "alien_color = \"green\"\n",
        "\n",
        "if alien_color == \"green\":  # if variavel 'condição' valor: --> Estrutura condicional, onde o bloco de comandos \n",
        "    print(\"Você ganhou 5 pontos!\")  #                           identado só é executado caso a condição estabelecida\n",
        "                                    #                            seja verdadeira."
      ]
    },
    {
      "cell_type": "code",
      "execution_count": null,
      "metadata": {
        "id": "uBJ0czrcNdeu"
      },
      "outputs": [],
      "source": [
        "alien_color = \"green\"\n",
        "\n",
        "if alien_color == \"red\":  # Nesse caso o bloco de comandos não é executado pois o resultado é 'False', ou seja, a \n",
        "    print(\"Você ganhou 5 pontos!\")  #                                      condição alien_color == \"red\" é falsa.\n",
        "\n",
        "# OBS!!!\n",
        "\n",
        "# == --> condição de IGUALDADE"
      ]
    },
    {
      "cell_type": "markdown",
      "metadata": {
        "id": "y1-YJwbdLTdS"
      },
      "source": [
        "##5.4 – Cores de alienígenas(II)\n",
        "Escolha uma cor para um alienígena, como foi feito no Exercício 5.3, e escreva uma cadeia *if-else*.\n",
        "\n",
        "*   Se a cor do alienígena for verde, mostre uma frase informando que o jogador acabou de ganhar cinco pontos por atingir o alienígena.\n",
        "\n",
        "*   Se a cor do alienígena não for verde, mostre uma frase informando que o jogador acabou de ganhar dez pontos.\n",
        "\n",
        "*   Escreva uma versão desse programa que execute o bloco *if* e outro que execute o bloco *else*."
      ]
    },
    {
      "cell_type": "code",
      "execution_count": null,
      "metadata": {
        "id": "igUY147-L0WR"
      },
      "outputs": [],
      "source": [
        "alien_color = \"green\"\n",
        "\n",
        "if alien_color == \"green\":\n",
        "    print(\"Você ganhou 5 pontos!\")\n",
        "else:  # else: --> caso a condição estabelecida em 'if' não seja verdadeira, será executado o bloco de comandos iden-\n",
        "    print(\"Você ganhou 10 pontos!\")  #                                                                tado em 'else'."
      ]
    },
    {
      "cell_type": "code",
      "execution_count": null,
      "metadata": {
        "id": "FIw-iAPuQAxO"
      },
      "outputs": [],
      "source": [
        "alien_color = \"yellow\"\n",
        "\n",
        "if alien_color == \"green\":\n",
        "    print(\"Você ganhou 5 pontos!\")\n",
        "else:  # A condição em 'if' é falsa, portanto o bloco de 'else' será executado.\n",
        "    print(\"Você ganhou 10 pontos!\")  "
      ]
    },
    {
      "cell_type": "markdown",
      "metadata": {
        "id": "-F4Wd2hTL0tx"
      },
      "source": [
        "##5.5 – Cores de alienígenas(III)\n",
        "Transforme sua cadeia *if-else* do Exercício 5.4 em uma cadeia *if-elif-else*.\n",
        "\n",
        "*   Se o alienígena for verde, mostre uma mensagem informando que o jogador ganhou cinco pontos.\n",
        "\n",
        "*   Se o alienígena for amarelo, mostre uma mensagem informando que o jogador ganhou dez pontos.\n",
        "\n",
        "*   Se o alienígena for vermelho, mostre uma mensagem informando que o jogador ganhou quinze pontos.\n",
        "\n",
        "*   Escreva três versões desse programa, garantindo que cada mensagem seja exibida para a cor apropriada do alienígena."
      ]
    },
    {
      "cell_type": "code",
      "execution_count": null,
      "metadata": {
        "id": "G25akwK2MJcY"
      },
      "outputs": [],
      "source": [
        "alien_color = \"green\"\n",
        "\n",
        "if alien_color == \"green\":\n",
        "    print(\"Você ganhou 5 pontos!\")\n",
        "elif alien_color == \"yellow\":  # elif variavel 'condição' valor: --> Mesma ideia do 'else', porém usada geralmente \n",
        "    print(\"Você ganhou 10 pontos!\")  #                               quando existem 3 ou mais valores para serem tes-\n",
        "else:                                #                               tados. \n",
        "    print(\"Você ganhou 15 pontos!\")"
      ]
    },
    {
      "cell_type": "code",
      "execution_count": null,
      "metadata": {
        "id": "toCbMPYuRqyC"
      },
      "outputs": [],
      "source": [
        "alien_color = \"yellow\"\n",
        "\n",
        "if alien_color == \"green\":  # Condição falsa\n",
        "    print(\"Você ganhou 5 pontos!\")\n",
        "elif alien_color == \"yellow\":  # Condição verdadeira, logo executa o bloco e encerra o programa.\n",
        "    print(\"Você ganhou 10 pontos!\")\n",
        "else:                                \n",
        "    print(\"Você ganhou 15 pontos!\")"
      ]
    },
    {
      "cell_type": "code",
      "execution_count": null,
      "metadata": {
        "id": "G4rwSaMxRrBC"
      },
      "outputs": [],
      "source": [
        "alien_color = \"red\"\n",
        "\n",
        "if alien_color == \"green\":  # Condição falsa\n",
        "    print(\"Você ganhou 5 pontos!\")\n",
        "elif alien_color == \"yellow\":  # Condição falsa\n",
        "    print(\"Você ganhou 10 pontos!\") \n",
        "else:  # Como 'if' e 'elif' são condições falsas, o bloco 'else' será executado.                               \n",
        "    print(\"Você ganhou 15 pontos!\")"
      ]
    },
    {
      "cell_type": "markdown",
      "metadata": {
        "id": "t2cWtwJeMJtA"
      },
      "source": [
        "##5.6 – Estágios da vida\n",
        "Escreva uma cadeia *if-elif-else* que determine o estágio da vida de uma pessoa. Defina um valor para a variável *age* e então:\n",
        "\n",
        "*   Se a pessoa tiver menos de 2 anos de idade, mostre uma mensagem dizendo que ela é um bebê.\n",
        "\n",
        "*   Se a pessoa tiver pelo menos 2 anos, mas menos de 4, mostre uma mensagem dizendo que ela é uma criança.\n",
        "\n",
        "*   Se a pessoa tiver pelo menos 4 anos, mas menos de 13, mostre uma mensagem dizendo que ela é um(a) garoto(a).\n",
        "\n",
        "*   Se a pessoa tiver pelo menos 13 anos, mas menos de 20, mostre uma mensagem dizendo que ela é um(a) adolescente.\n",
        "\n",
        "*   Se a pessoa tiver pelo menos 20 anos, mas menos de 65, mostre uma mensagem dizendo que ela é adulto.\n",
        "\n",
        "*   Se a pessoa tiver 65 anos ou mais, mostre uma mensagem dizendo que essa pessoa é idoso."
      ]
    },
    {
      "cell_type": "code",
      "execution_count": null,
      "metadata": {
        "id": "zW_vvEIfMpFW"
      },
      "outputs": [],
      "source": [
        "age = 18\n",
        "\n",
        "if age < 2:\n",
        "    print(\"Essa pessoa é um bebê!\")\n",
        "elif age < 4:  # ou --> if 2 <= age < 4 --> Nesse caso, idade é MAIOR ou igual a 2.\n",
        "    print(\"Essa pessoa é uma criança!\")\n",
        "elif age < 13:  # ou --> if 4 <= age < 13\n",
        "    print(\"Essa pessoa é um(a) garoto(a)!\")\n",
        "elif age < 20:  #        ...\n",
        "    print(\"Essa pessoa é um(a) adolescente!\")\n",
        "elif age < 65:\n",
        "    print(\"Essa pessoa é um(a) adulto(a)!\")\n",
        "else:\n",
        "    print(\"Essa pessoa é um(a) idoso(a)!\")\n",
        "\n",
        "# OBS!!!\n",
        "\n",
        "# '<': menor que\n",
        "# '>': maior que\n",
        "# '<=': menor ou igual a\n",
        "# '>=': maior ou igual a "
      ]
    },
    {
      "cell_type": "markdown",
      "metadata": {
        "id": "hSJosplUMqj-"
      },
      "source": [
        "##5.7 – Fruta favorita\n",
        "Faça uma lista de suas frutas favoritas e, então, escreva uma série de instruções *if* independentes que verifiquem se determinadas frutas estão em sua lista.\n",
        "\n",
        "*   Crie uma lista com suas três frutas favoritas e chame-a de *favorite_fruits*.\n",
        "\n",
        "*   Escreva cinco instruções *if*. Cada instrução deve verificar se uma determinada fruta está em sua lista. Se estiver, o bloco *if* deverá exibir uma frase, por exemplo, *Você realmente gosta de bananas!*"
      ]
    },
    {
      "cell_type": "code",
      "execution_count": null,
      "metadata": {
        "id": "qbROx5aMM2ae"
      },
      "outputs": [],
      "source": [
        "favorite_fruits = [\"uva\", \"laranja\", \"melancia\"]\n",
        "\n",
        "if \"uva\" in favorite_fruits:  # if valor in lista/tupla: --> Verifica se determinado valor é um item da lista/tupla.\n",
        "    print(\"Você realmente gosta de uvas!\")  #                Se for, retorna 'True' e executa o bloco. Se não for,\n",
        "if \"banana\" in favorite_fruits:             #                retorna 'False' e pula para o próximo bloco/comando.\n",
        "    print(\"Você realmente gosta de bananas!\")\n",
        "if \"pera\" in favorite_fruits:\n",
        "    print(\"Você realmente gosta de peras!\")\n",
        "if \"melancia\" in favorite_fruits:\n",
        "    print(\"Você realmente gosta de melancias!\")\n",
        "if \"laranja\" in favorite_fruits:\n",
        "    print(\"Você realmente gosta de laranjas!\")"
      ]
    },
    {
      "cell_type": "markdown",
      "metadata": {
        "id": "Bd2kvsQaXHw2"
      },
      "source": [
        "##5.8 – Olá admin\n",
        "Crie uma lista com cinco ou mais nomes de usuários, incluindo o nome *'admin'*. Suponha que você esteja escrevendo um código que exibirá uma saudação a cada usuário depois que eles fizerem login em um site. Percorra a lista com um laço e mostre uma saudação para cada usuário:\n",
        "\n",
        "*   Se o nome do usuário for *'admin'*, mostre uma saudação especial, por exemplo, *Olá admin, gostaria de ver um relatório de status?*\n",
        "\n",
        "*   Caso contrário, mostre uma saudação genérica, como *Olá Eric, obrigado por fazer login novamente.*"
      ]
    },
    {
      "cell_type": "code",
      "execution_count": null,
      "metadata": {
        "id": "4yT9i2GqZooV"
      },
      "outputs": [],
      "source": [
        "users = [\"gvrossum\", \"dennhie\", \"Bjjarnne\", \"admin\", \"and_hejlsberg\"]\n",
        "\n",
        "for user in users:\n",
        "    if user.lower() == \"admin\":\n",
        "        print(f\"Olá {user}, gostaria de ver um relatório de status?\")\n",
        "    else:\n",
        "        print(f\"Olá {user}, obrigado por fazer login novamente.\")"
      ]
    },
    {
      "cell_type": "code",
      "execution_count": null,
      "metadata": {
        "id": "Q1UCPmMiGpP8"
      },
      "outputs": [],
      "source": [
        "# OBS!!!\n",
        "\n",
        "users = [\"gvrossum\", \"dennhie\", \"Bjjarnne\", \"admin\", \"and_hejlsberg\"]\n",
        "\n",
        "comeca_com_n = False\n",
        "\n",
        "for user in users:\n",
        "    if user.lower().startswith('n'):  # var.startswith('letra') --> Verifica se a palavra em 'var' começa com a letra dentro dos parênteses \n",
        "        comeca_com_n = True \n",
        "\n",
        "if comeca_com_n:\n",
        "    print(\"Existe um usuário que começa com 'n'.\")\n",
        "else:\n",
        "    print(\"Não existe um usuário que começa com 'n'.\")"
      ]
    },
    {
      "cell_type": "markdown",
      "metadata": {
        "id": "VzfWNtpxZo71"
      },
      "source": [
        "##5.9 – Sem usuários\n",
        "Acrescente um teste *if* em hello_admin.py para garantir que a lista de usuários não esteja vazia.\n",
        "\n",
        "*   Se a lista estiver vazia, mostre a mensagem *Precisamos encontrar alguns usuários!*\n",
        "\n",
        "*   Remova todos os nomes de usuário de sua lista e certifique-se de que a mensagem correta seja exibida."
      ]
    },
    {
      "cell_type": "code",
      "execution_count": null,
      "metadata": {
        "id": "2HF0dlVNZ9Ti"
      },
      "outputs": [],
      "source": [
        "users = []\n",
        "\n",
        "if users == []:\n",
        "    print(\"Precisamos encontrar alguns usuários!\")\n",
        "else:\n",
        "    for user in users:\n",
        "        if user.lower() == \"admin\":\n",
        "            print(f\"Olá {user}, gostaria de ver um relatório de status?\")\n",
        "        else:\n",
        "            print(f\"Olá {user}, obrigado por fazer login novamente.\")"
      ]
    },
    {
      "cell_type": "markdown",
      "metadata": {
        "id": "9FbINycbZ9ny"
      },
      "source": [
        "##5.10 – Verificando nomes de usuários\n",
        "Faça o seguinte para criar um programa que simule o modo como os sites garantem que todos tenham um nome de usuário único.\n",
        "\n",
        "*   Crie uma lista chamada *current_users* com cinco ou mais nomes de usuários.\n",
        "\n",
        "*   Crie outra lista chamada *new_users* com cinco nomes de usuários. Garanta que um ou dois dos novos usuários também estejam na lista *current_users*.\n",
        "\n",
        "*   Percorra a lista *new_users* com um laço para ver se cada novo nome de usuário já foi usado. Em caso afirmativo, mostre uma mensagem informando que a pessoa deverá fornecer um novo nome. Se um nome de usuário não foi usado, apresente uma mensagem dizendo que o nome do usuário está disponível.\n",
        "\n",
        "*   Certifique-se de que sua comparação não levará em conta as diferenças entre letras maiúsculas e minúsculas. Se *'John'* foi usado, *'JOHN'* não deverá ser aceito."
      ]
    },
    {
      "cell_type": "code",
      "execution_count": null,
      "metadata": {
        "id": "UFfew-kJaff5"
      },
      "outputs": [],
      "source": [
        "current_users = [\"gvanrossum\", \"dennhie\", \"bjjarnne\", \"James_Gosling_01\", \"And_Hejlsberg\"]\n",
        "\n",
        "new_users = [\"gvrossum\", \"andhejlsberg\", \"hiedenn\", \"BjJarNNe\", \"james_gosling_01\"]\n",
        "\n",
        "for user in new_users:\n",
        "    if user.lower() in current_users:\n",
        "        print(f\"O usuário '{user}' já está sendo utilizado. Forneça outro nome.\")\n",
        "    else:\n",
        "        print(f\"O usuário '{user}' está disponível.\")"
      ]
    },
    {
      "cell_type": "code",
      "execution_count": null,
      "metadata": {
        "id": "l7GTsYHukqm4"
      },
      "outputs": [],
      "source": [
        "current_users = [\"gvanrossum\", \"dennhie\", \"bjjarnne\", \"James_Gosling_01\", \"And_Hejlsberg\"]\n",
        "new_users = [\"gvrossum\", \"andhejlsberg\", \"hiedenn\", \"BjJarNNe\", \"james_gosling_01\"]\n",
        "current_users_lower = []\n",
        "\n",
        "for user in current_users:\n",
        "    current_users_lower.append(user.lower())\n",
        "\n",
        "for user in new_users:\n",
        "    if user.lower() in current_users_lower:\n",
        "        print(f\"O usuário '{user}' já está sendo utilizado. Forneça outro nome.\")\n",
        "    else:\n",
        "        print(f\"O usuário '{user}' está disponível.\")"
      ]
    },
    {
      "cell_type": "markdown",
      "metadata": {
        "id": "9XmehIyUafxh"
      },
      "source": [
        "##5.11 – Números ordinais\n",
        "Números ordinais indicam sua posição em uma lista, por exemplo, *1st* ou *2nd*, em inglês. A maioria dos números ordinais nessa língua termina com *th*, exceto 1, 2 e 3.\n",
        "\n",
        "*   Armazene os números de 1 a 9 em uma lista.\n",
        "\n",
        "*   Percorra a lista com um laço.\n",
        "\n",
        "*   Use uma cadeia *if-elif-else* no laço para exibir a terminação apropriada para cada número ordinal. Sua saída deverá conter *'1st 2nd 3rd 4th 5th 6th 7th 8th 9th'*, e cada resultado deve estar em uma linha separada."
      ]
    },
    {
      "cell_type": "code",
      "execution_count": null,
      "metadata": {
        "id": "WdqzsVVMa6rY"
      },
      "outputs": [],
      "source": [
        "numbers = list(range(1, 10))  # numbers = [1, 2, 3, 4, 5, 6, 7, 8, 9]\n",
        "\n",
        "for number in numbers:\n",
        "    if number == 1:\n",
        "        print(f\"{number}st\")\n",
        "    elif number == 2:\n",
        "        print(f\"{number}nd\")\n",
        "    elif number == 3:\n",
        "        print(f\"{number}rd\")\n",
        "    else:\n",
        "        print(f\"{number}th\")"
      ]
    },
    {
      "cell_type": "markdown",
      "metadata": {
        "id": "rXknCx5ea7Dx"
      },
      "source": [
        "##5.12 – Estilizando instruções if\n",
        "Revise os programas que você escreveu neste capítulo e certifique-se de que os testes condicionais foram estilizados de forma apropriada.\n"
      ]
    },
    {
      "cell_type": "markdown",
      "metadata": {
        "id": "f_rdt3UHjzZi"
      },
      "source": [
        "##5.13 – Suas ideias\n",
        "A essa altura, você é um programador mais capacitado do que era quando começou a ler este livro. Agora que você tem melhor noção de como situações do mundo real são modeladas em programas, talvez esteja pensando em alguns problemas que poderia resolver com seus próprios programas. Registre qualquer ideia nova que tiver sobre problemas que você queira resolver à medida que suas habilidades em programação continuam a melhorar. Considere jogos que você queira escrever, conjuntos de dados que possa querer explorar e aplicações web que gostaria de criar.\n"
      ]
    },
    {
      "cell_type": "markdown",
      "metadata": {
        "id": "EUUGU5hwkLLz"
      },
      "source": [
        "# ***6 - DICIONÁRIOS***"
      ]
    },
    {
      "cell_type": "markdown",
      "metadata": {
        "id": "_v8LwT2HkQ65"
      },
      "source": [
        "##6.1 – Pessoa\n",
        "Use um dicionário para armazenar informações sobre uma pessoa que você conheça. Armazene seu primeiro nome, o sobrenome, a idade e a cidade em que ela vive. Você deverá ter chaves como *first_name*, *last_name*, *age* e *city*. Mostre cada informação armazenada em seu dicionário.\n"
      ]
    },
    {
      "cell_type": "code",
      "execution_count": null,
      "metadata": {
        "id": "I1O5EF1DkfS4"
      },
      "outputs": [],
      "source": [
        "person = {                      # dicionario = {\"chave\": valor} --> O dicionario permite armazenar diversas infor-\n",
        "    \"first_name\": 'Cristiano',  #                                   mações, seguindo o padrão \"chave\": valor\n",
        "    \"last_name\": 'Ronaldo',\n",
        "    \"age\": 37,\n",
        "    \"city\": 'Manchester'       # OBS!!! --> Não esquecer de colocar vírgula após cada valor caso queira acrescentar\n",
        "}                               #            outro par chave-valor.\n",
        "\n",
        "print(person)"
      ]
    },
    {
      "cell_type": "markdown",
      "metadata": {
        "id": "LFUicOOEkiWA"
      },
      "source": [
        "##6.2 – Números favoritos\n",
        "Use um dicionário para armazenar os números favoritos de algumas pessoas. Pense em cinco nomes e use-os como chaves em seu dicionário. Pense em um número favorito para cada pessoa e armazene cada um como um valor em seu dicionário. Exiba o nome de cada pessoa e seu número favorito. Para que seja mais divertido ainda, faça uma enquete com alguns amigos e obtenha alguns dados reais para o seu programa.\n"
      ]
    },
    {
      "cell_type": "code",
      "execution_count": null,
      "metadata": {
        "id": "_NfnEOrWrI0h"
      },
      "outputs": [],
      "source": [
        "favorite_numbers = {\n",
        "    \"Roger Guedes\": 123,\n",
        "    \"Cristiano Ronaldo\": 7,\n",
        "    \"Cássio\": 12,\n",
        "    \"Messi\": 10,\n",
        "    \"Neymar\": 11\n",
        "}\n",
        "\n",
        "print(favorite_numbers)"
      ]
    },
    {
      "cell_type": "markdown",
      "metadata": {
        "id": "MMkLTIiwlZYP"
      },
      "source": [
        "##6.3 – Glossário\n",
        "Um dicionário Python pode ser usado para modelar um dicionário de verdade. No entanto, para evitar confusão, vamos chamá-lo de glossário.\n",
        "\n",
        "*   Pense em cinco palavras relacionadas à programação que você conheceu nos capítulos anteriores. Use essas palavras como chaves em seu glossário e armazene seus significados como valores.\n",
        "\n",
        "*   Mostre cada palavra e seu significado em uma saída formatada de modo elegante. Você pode exibir a palavra seguida de dois-pontos e depois o seu significado, ou apresentar a palavra em uma linha e então exibir seu significado indentado em uma segunda linha. Utilize o caractere de quebra de linha (*\\n*) para inserir uma linha em branco entre cada par palavrasignificado em sua saída.\n"
      ]
    },
    {
      "cell_type": "code",
      "execution_count": null,
      "metadata": {
        "id": "-OZe2ncxrEcB"
      },
      "outputs": [],
      "source": [
        "glossary = {\n",
        "    \"if\": \"estrutura condicional 'se'\",\n",
        "    \"for\": \"estrutura de repetição 'para'\",\n",
        "    \".lower()\": 'deixa todas as letras minúsculas',\n",
        "    \".upper()\": 'deixa todas as letras maiúsculas',\n",
        "    \"float\": 'número real (com ponto flutuante)' \n",
        "}\n",
        "\n",
        "print(f\"if: {glossary['if']}\\n\")  # dicionario['chave'] --> Retorna o valor da chave especificada.\n",
        "print(f\"for: {glossary['for']}\\n\")\n",
        "print(f\".lower(): {glossary['.lower()']}\\n\")\n",
        "print(f\".upper(): {glossary['.upper()']}\\n\")\n",
        "print(f\"float: {glossary['float']}\")\n",
        "\n",
        "# OBS!!!\n",
        "\n",
        "# dicionario['chave'] = valor --> adiciona um novo par chave-valor ou altera um já existente\n",
        "#                                 no dicionario com a chave e valor especificados.\n",
        "\n",
        "# del dicionario['chave'] --> remove o par chave-valor do dicionario."
      ]
    },
    {
      "cell_type": "code",
      "execution_count": null,
      "metadata": {
        "id": "m93GK2a009hm"
      },
      "outputs": [],
      "source": [
        "# OBS!!!\n",
        "\n",
        "glossary = {\n",
        "    \"if\": \"estrutura condicional 'se'\",\n",
        "    \"for\": \"estrutura de repetição 'para'\",\n",
        "    \".lower()\": 'deixa todas as letras minúsculas',\n",
        "    \".upper()\": 'deixa todas as letras maiúsculas',\n",
        "    \"float\": 'número real (com ponto flutuante)' \n",
        "}\n",
        "\n",
        "glossary.update({'teste': 'testando'})  # dicionario.update({...}) --> adiciona um novo par chave-valor ou altera um já existente\n",
        "                                        #                              no dicionario com a chave e valor especificados.\n",
        "if glossary.get('teste') is not None:  # Evita erros que encerram a execução do programa\n",
        "    print(glossary.get('teste'))\n",
        "else:\n",
        "    print(\"Chave inexistente!\")"
      ]
    },
    {
      "cell_type": "markdown",
      "metadata": {
        "id": "je7ReGAdlqp2"
      },
      "source": [
        "##6.4 – Glossário(II)\n",
        "Agora que você já sabe como percorrer um dicionário com um laço, limpe o código do Exercício 6.3 (página 148), substituindo sua sequência de instruções print por um laço que percorra as chaves e os valores do dicionário. Quando tiver certeza de que seu laço funciona, acrescente mais cinco termos de Python ao seu glossário. Ao executar seu programa novamente, essas palavras e significados novos deverão ser automaticamente incluídos na saída.\n"
      ]
    },
    {
      "cell_type": "code",
      "execution_count": null,
      "metadata": {
        "id": "gnv0xiizrDEp"
      },
      "outputs": [],
      "source": [
        "glossary = {\n",
        "    \"if\": \"estrutura condicional 'se'\",\n",
        "    \"for\": \"estrutura de repetição 'para'\",\n",
        "    \".lower()\": 'deixa todas as letras minúsculas',\n",
        "    \".upper()\": 'deixa todas as letras maiúsculas',\n",
        "    \"float\": 'número real (com ponto flutuante)',\n",
        "    \"int\": 'número inteiro',\n",
        "    \"input\": 'comando de entrada de dados',\n",
        "    \"print\": 'comando de saída de dados',\n",
        "    \"while\": \"estrutra de repetição 'enquanto'\",\n",
        "    \"tupla\": 'lista imutável'\n",
        "    \n",
        "}\n",
        "\n",
        "for word, meaning in glossary.items():  # for key, value in dicionario.items(): --> Percorre todos os itens do\n",
        "    print(f\"{word}: {meaning}\\n\")       #                                           dicionario, onde 'key' = chave\n",
        "                                        #                                                           'value' = valor "
      ]
    },
    {
      "cell_type": "markdown",
      "metadata": {
        "id": "PlU8oJgIt4_C"
      },
      "source": [
        "##6.5 – Rios\n",
        "Crie um dicionário que contenha três rios importantes e o país que cada rio corta. Um par chave-valor poderia ser *'nilo'*: *'egito'*.\n",
        "\n",
        "*   Use um laço para exibir uma frase sobre cada rio, por exemplo, *O Nilo corre pelo Egito.*\n",
        "\n",
        "*   Use um laço para exibir o nome de cada rio incluído no dicionário.\n",
        "\n",
        "*   Use um laço para exibir o nome de cada país incluído no dicionário."
      ]
    },
    {
      "cell_type": "code",
      "execution_count": null,
      "metadata": {
        "id": "RBTOI0Oa7IYY"
      },
      "outputs": [],
      "source": [
        "#Parte 1\n",
        "rivers = {\n",
        "    \"Nilo\": 'Egito',\n",
        "    \"Mississipi\": 'Estados Unidos',\n",
        "    \"Amazonas\": 'Brasil'\n",
        "}\n",
        "\n",
        "for river, country in rivers.items():\n",
        "    print(f\"O rio {river} corre pelo {country}.\")\n",
        "print()\n",
        "\n",
        "#Parte 2\n",
        "for river in rivers.keys():  # for key in dicionario.keys(): --> Percorre todas as CHAVES do dicionário, onde \n",
        "    print(river)             #                                   'key' = chave \n",
        "print()\n",
        "\n",
        "#Parte 3\n",
        "for country in rivers.values():  # for value in dicionario.values(): --> Percorre todos os VALORES do dicionário, \n",
        "    print(country)               #                                       onde 'value' = valor"
      ]
    },
    {
      "cell_type": "markdown",
      "metadata": {
        "id": "OLyrgE7S7MUH"
      },
      "source": [
        "##6.6 – Enquete\n",
        "Utilize o código em favorite_languages.py (página 150).\n",
        "\n",
        "*   Crie uma lista de pessoas que devam participar da enquete sobre linguagem\n",
        "favorita. Inclua alguns nomes que já estejam no dicionário e outros que não\n",
        "estão.\n",
        "\n",
        "*   Percorra a lista de pessoas que devem participar da enquete. Se elas já\n",
        "tiverem respondido à enquete, mostre uma mensagem agradecendo-lhes por responder. Se ainda não participaram da enquete, apresente uma mensagem convidando-as a responder.\n"
      ]
    },
    {
      "cell_type": "code",
      "execution_count": null,
      "metadata": {
        "id": "rl-KH4Dw7aKI"
      },
      "outputs": [],
      "source": [
        "favorite_languages = {\n",
        "    'jen': 'python', \n",
        "    'sarah': 'c', \n",
        "    'edward': 'ruby', \n",
        "    'phil': 'python'\n",
        "}\n",
        "\n",
        "persons = [\"Joao\", \"Lucas\", \"Edward\", \"Phil\", \"Zé\", ]\n",
        "\n",
        "for person in persons:\n",
        "    if person.lower() in favorite_languages.keys():\n",
        "        print(f\"{person}, obrigado por responder a enquete.\")\n",
        "    else:\n",
        "        print(f\"{person}, gostaria de rsponder a enquete?\")"
      ]
    },
    {
      "cell_type": "markdown",
      "metadata": {
        "id": "kwY09llMkgiW"
      },
      "source": [
        "##6.7 – Pessoas\n",
        "Comece com o programa que você escreveu no Exercício 6.1 (página 147). Crie dois novos dicionários que representem pessoas diferentes e armazene os três dicionários em uma lista chamada *people*. Percorra sua lista de pessoas com um laço. À medida que percorrer a lista, apresente tudo que você sabe sobre cada pessoa.\n"
      ]
    },
    {
      "cell_type": "code",
      "execution_count": null,
      "metadata": {
        "id": "0xQx9T_8lEpU"
      },
      "outputs": [],
      "source": [
        "person_0 = {\n",
        "    \"first_name\": 'Cristiano',\n",
        "    \"last_name\": 'Ronaldo',\n",
        "    \"age\": 37,\n",
        "    \"city\": 'Manchester'\n",
        "}\n",
        "\n",
        "person_1 = {\n",
        "    \"first_name\": 'Lionel',\n",
        "    \"last_name\": 'Messi',\n",
        "    \"age\": 34,\n",
        "    \"city\": 'Paris'\n",
        "}\n",
        "\n",
        "person_2 = {\n",
        "    \"first_name\": 'Neymar',\n",
        "    \"last_name\": 'Junior',\n",
        "    \"age\": 30,\n",
        "    \"city\": 'Paris'\n",
        "}\n",
        "\n",
        "people = [person_0, person_1, person_2]  # lista = [dicionario_0, dicionario_1, ...] --> uma lista pode armazenar \n",
        "                                         #                                               quantos dicionários forem\n",
        "for person in people:                    #                                               necessários para o programa.\n",
        "    print(person)"
      ]
    },
    {
      "cell_type": "markdown",
      "metadata": {
        "id": "eWAMx3qqlFB0"
      },
      "source": [
        "##6.8 – Animais de estimação\n",
        "Crie vários dicionários, em que o nome de cada dicionário seja o nome de um animal de estimação. Em cada dicionário, inclua o tipo do animal e o nome do dono. Armazene esses dicionários em uma lista chamada *pets*. Em seguida, percorra sua lista com um laço e, à medida que fizer isso, apresente tudo que você sabe sobre cada animal de estimação."
      ]
    },
    {
      "cell_type": "code",
      "execution_count": null,
      "metadata": {
        "id": "Pv9Nl8-qlQ5M"
      },
      "outputs": [],
      "source": [
        "cuta = {\n",
        "    \"animal\": 'macaco-prego',\n",
        "    \"dono(a)\": 'Emerson Sheik' \n",
        "}\n",
        "\n",
        "nalla = {\n",
        "    \"animal\": 'cachorro',\n",
        "    \"dono(a)\": 'Marcelo'\n",
        "}\n",
        "\n",
        "atom = {\n",
        "    \"animal\": 'cachorro',\n",
        "    \"dono(a)\": 'Alexis Sanchez' \n",
        "}\n",
        "\n",
        "flush = {\n",
        "    \"animal\": 'cachorro',\n",
        "    \"dono(a)\": 'Neymar'\n",
        "}\n",
        "\n",
        "pets = [cuta, nalla, atom, flush]\n",
        "\n",
        "for pet in pets:\n",
        "    print(pet)"
      ]
    },
    {
      "cell_type": "markdown",
      "metadata": {
        "id": "rWQfxR0MlRLm"
      },
      "source": [
        "##6.9 – Lugares favoritos\n",
        "Crie um dicionário chamado favorite_places. Pense em três nomes para usar como chaves do dicionário e armazene de um a três lugares favoritos para cada pessoa. Para deixar este exercício um pouco mais interessante, peça a alguns amigos que nomeiem alguns de seus lugares favoritos. Percorra o dicionário com um laço e apresente o nome de cada pessoa e seus lugares favoritos.\n"
      ]
    },
    {
      "cell_type": "code",
      "execution_count": null,
      "metadata": {
        "id": "-28kAak1lfJ9"
      },
      "outputs": [],
      "source": [
        "favorite_places = {\n",
        "    \"Cássio\": ['São Paulo', 'Yokohama'],                      # key: [valor_0, valor_1, ...] --> lista dentro de\n",
        "    \"Cristiano Ronaldo\": ['Madrid', 'Lisboa', 'Manchester'],  #   dicionário é utilizada quando existe mais de 1\n",
        "    \"Neymar\": ['Santos', 'Barcelona','Paris']                 #   1 valor para cada chave.\n",
        "}\n",
        "\n",
        "for name, places in favorite_places.items():\n",
        "    print(f\"Lugares favoritos do {name}: {places}\")"
      ]
    },
    {
      "cell_type": "markdown",
      "metadata": {
        "id": "CHuS9aGYlfas"
      },
      "source": [
        "##6.10 – Números favoritos\n",
        "Modifique o seu programa do Exercício 6.2 (página 147) para que cada pessoa possa ter mais de um número favorito. Em seguida, apresente o nome de cada pessoa, juntamente com seus números favoritos.\n"
      ]
    },
    {
      "cell_type": "code",
      "execution_count": null,
      "metadata": {
        "id": "Ssra_8lXliXV"
      },
      "outputs": [],
      "source": [
        "favorite_numbers = {\n",
        "    \"Roger Guedes\": [123, 10],\n",
        "    \"Cristiano Ronaldo\": [7, 9, 17],\n",
        "    \"Cássio\": [12, 24], \n",
        "    \"Messi\": [10, 31],\n",
        "    \"Neymar\": [11, 10]\n",
        "}\n",
        "\n",
        "for name, number in favorite_numbers.items():  \n",
        "    print(f\"O(s) número(s) favorito(s) do {name} é(são) {number}.\")"
      ]
    },
    {
      "cell_type": "markdown",
      "metadata": {
        "id": "VRVyktZPlipD"
      },
      "source": [
        "##6.11 – Cidades\n",
        "Crie um dicionário chamado *cities*. Use os nomes de três cidades como chaves em seu dicionário. Crie um dicionário com informações sobre cada cidade e inclua o país em que a cidade está localizada, a população aproximada e um fato sobre essa cidade. As chaves do dicionário de cada cidade devem ser algo como *country*, *population* e *fact*. Apresente o nome de cada cidade e todas as informações que você armazenou sobre ela.\n"
      ]
    },
    {
      "cell_type": "code",
      "execution_count": null,
      "metadata": {
        "id": "mBMuErDglvSU"
      },
      "outputs": [],
      "source": [
        "cities = {\n",
        "    \"São José do Rio Preto\": {  # dicionario = {key: {dicionario}} --> dicionario dentro de dicionario é usado quando\n",
        "        \"country\": 'Brasil',    #                                      é necessário inserir mais de um tipo de valor.\n",
        "        \"population\": 465000,\n",
        "        \"fact\": 'clima imprevisível'   \n",
        "    },\n",
        "    \"Yakutia\": {\n",
        "        \"country\": 'Rússia',\n",
        "        \"population\": 305000,\n",
        "        \"fact\": 'frio'\n",
        "    },\n",
        "    \"Kuwait\": {\n",
        "        \"country\": 'Kuwait',\n",
        "        \"population\": 2100000,\n",
        "        \"fact\": 'calor'\n",
        "    }\n",
        "}\n",
        "\n",
        "for city, informations in cities.items():\n",
        "    print(f\"{city}: {informations}\")"
      ]
    },
    {
      "cell_type": "markdown",
      "metadata": {
        "id": "x7KR3UgVlvjc"
      },
      "source": [
        "##6.12 – Extensões\n",
        "Estamos trabalhando agora com exemplos complexos o bastante para poderem ser estendidos de várias maneiras. Use um dos programas de exemplo deste capítulo e estenda-o acrescentando novas chaves e valores, alterando o contexto do programa ou melhorando a formatação da saída.\n"
      ]
    },
    {
      "cell_type": "markdown",
      "metadata": {
        "id": "gXs-PqdWI4gG"
      },
      "source": [
        "# ***7 - ENTRADA DE USUÁRIO E LAÇO WHILE***"
      ]
    },
    {
      "cell_type": "markdown",
      "metadata": {
        "id": "yLxUJ9S0I9ts"
      },
      "source": [
        "##7.1 – Locação de automóveis\n",
        "Escreva um programa que pergunte ao usuário qual tipo de carro ele gostaria de alugar. Mostre uma mensagem sobre esse carro, por exemplo, “Deixe-me ver se consigo um Subaru para você.”"
      ]
    },
    {
      "cell_type": "code",
      "execution_count": null,
      "metadata": {
        "id": "zAo2uip0JIp7"
      },
      "outputs": [],
      "source": [
        "car = input(\"Qual carro você gostaria de alugar? \")  # variavel = input() --> comando de entrada de dados, no qual o\n",
        "                                                     #                        usuário vai inserir o valor que será\n",
        "print(f\"Deixe-me ver se consigo um(a) {car} para você.\")  #                   armazenado na variavel."
      ]
    },
    {
      "cell_type": "markdown",
      "metadata": {
        "id": "oWVYFP5HJI96"
      },
      "source": [
        "##7.2 – Lugares em um restaurante\n",
        "Escreva um programa que pergunte ao usuário quantas pessoas estão em seu grupo para jantar. Se a resposta for maior que oito, exiba uma mensagem dizendo que eles deverão esperar uma mesa. Caso contrário, informe que sua mesa está pronta.\n"
      ]
    },
    {
      "cell_type": "code",
      "execution_count": null,
      "metadata": {
        "id": "BZyptjgHJMsT"
      },
      "outputs": [],
      "source": [
        "number_persons = int(input(\"Quantas pessoas estão em seu grupo para jantar? \"))\n",
        "\n",
        "if number_persons > 8:\n",
        "    print(\"Vocês deverão esperar uma mesa.\")\n",
        "else:\n",
        "    print(\"Sua mesa está pronta.\")"
      ]
    },
    {
      "cell_type": "markdown",
      "metadata": {
        "id": "9YMu1zKaJM9D"
      },
      "source": [
        "##7.3 – Múltiplos de dez\n",
        "Peça um número ao usuário e, em seguida, informe se o número é múltiplo de dez ou não.\n"
      ]
    },
    {
      "cell_type": "code",
      "execution_count": null,
      "metadata": {
        "id": "1DMrIX4fJR0M"
      },
      "outputs": [],
      "source": [
        "number = int(input(\"Digite um número: \"))\n",
        "\n",
        "if number % 10 == 0:\n",
        "    print(\"O número é múltiplo de 10.\")\n",
        "else:\n",
        "    print(\"O número não é múltiplo de 10.\")"
      ]
    },
    {
      "cell_type": "code",
      "execution_count": null,
      "metadata": {
        "id": "NKNeeFZqaxss"
      },
      "outputs": [],
      "source": [
        "# OBS!!!\n",
        "\n",
        "# O comando 'continue' faz com que o programa ignore o restante do código e volte ao início do laço.\n",
        "\n",
        "# Exemplo: imprimir apenas os números pares entre 1 e 10.\n",
        "\n",
        "contador = 1\n",
        "while contador <= 10:\n",
        "    contador += 1\n",
        "    if contador % 2 != 0:\n",
        "        continue  # Quando o número é ímpar, o programa retorna ao início do loop e ignora o 'print'.\n",
        "    print(contador)"
      ]
    },
    {
      "cell_type": "code",
      "execution_count": null,
      "metadata": {
        "id": "H3fL9fsQpry-"
      },
      "outputs": [],
      "source": [
        "# OBS!!!\n",
        "\n",
        "# while/else\n",
        "\n",
        "contador = 1\n",
        "while contador <= 10:\n",
        "    if contador > 5:\n",
        "        break  # Força o encerramento do laço\n",
        "    print(contador)\n",
        "    contador += 1\n",
        "else:  # Só será executado caso a comparação em 'while' retorne False, ou seja, quando acaba de maneira \"natural\"\n",
        "    print(\"Teste 1\")\n",
        "print(\"Teste 2\")  # Será executado assim que o laço for encerrado, independente se foi de maneira \"natural\" ou não"
      ]
    },
    {
      "cell_type": "markdown",
      "metadata": {
        "id": "3LkFxwOONGkt"
      },
      "source": [
        "##7.4 – Ingredientes para uma pizza\n",
        "Escreva um laço que peça ao usuário para fornecer uma série de ingredientes para uma pizza até que o valor *'quit'* seja fornecido. À medida que cada ingrediente é especificado,  apresente uma mensagem informando que você acrescentará esse ingrediente à pizza.\n"
      ]
    },
    {
      "cell_type": "code",
      "execution_count": null,
      "metadata": {
        "id": "5KC06cKmQzu8"
      },
      "outputs": [],
      "source": [
        "topping = '' # necessário para começar o laço while neste caso\n",
        "\n",
        "print(\"Digite o ingrediente caso queira adicioná-lo na pizza ou 'quit' caso queira parar:\\n\")\n",
        "while topping != \"quit\":  # while variavel 'condição' valor: --> estrutura de repetição 'enquanto'. Enquanto a condi-  \n",
        "    topping = input()     #                                      ção for verdadeira, o bloco de comandos continuará\n",
        "    if topping != \"quit\": #                                      sendo executado.\n",
        "        print(f\"\\nAcrescentarei {topping} à pizza.\\n\")  \n",
        "\n",
        "# o comando 'if' foi necessário para que a palavra 'quit' não fosse imprimida na tela do usuário no último 'print'."
      ]
    },
    {
      "cell_type": "code",
      "execution_count": null,
      "metadata": {
        "id": "djJ7QRveNGHI"
      },
      "outputs": [],
      "source": [
        "print(\"Digite o ingrediente caso queira adicioná-lo na pizza ou 'quit' caso queira parar:\\n\")\n",
        "while True:  # Será executado até que o comando 'break' seja utilizado.\n",
        "    topping = input()\n",
        "    if topping == \"quit\":\n",
        "        break  # encerra o bloco de comandos.\n",
        "    else:\n",
        "        print(f\"\\nAcrescentarei {topping} à pizza.\\n\")"
      ]
    },
    {
      "cell_type": "markdown",
      "metadata": {
        "id": "_aOoO9WINR90"
      },
      "source": [
        "##7.5 – Ingressos para o cinema\n",
        "Um cinema cobra preços diferentes para os ingressos de acordo com a idade de uma pessoa. Se uma pessoa tiver menos de 3 anos de idade, o ingresso será gratuito; se tiver entre 3 e 12 anos, o ingresso custará 10 dólares; se tiver mais de 12 anos, o ingresso custará 15 dólares. Escreva um laço em que você pergunte a idade aos usuários e, então, informe-lhes o preço do ingresso do cinema."
      ]
    },
    {
      "cell_type": "code",
      "execution_count": null,
      "metadata": {
        "id": "NrVU4yCgUfOy"
      },
      "outputs": [],
      "source": [
        "print(\"Digite a idade da pessoa ou 'quit' para encerrar o programa:\\n\")\n",
        "while True:\n",
        "    age = input()\n",
        "    if age == \"quit\":\n",
        "        break\n",
        "    elif int(age) < 3:\n",
        "        print(\"\\nO ingresso será gratuito.\\n\")\n",
        "    elif int(age) <= 12:\n",
        "        print(\"\\nO ingresso custará 10 dólares.\\n\")\n",
        "    elif int(age) > 12:\n",
        "        print(\"\\nO ingresso custará 15 dólares.\\n\")"
      ]
    },
    {
      "cell_type": "markdown",
      "metadata": {
        "id": "Fe-p4eoENloj"
      },
      "source": [
        "##7.6 – Três saídas\n",
        "Escreva versões diferentes do Exercício 7.4 ou do Exercício 7.5 que faça o seguinte, pelo menos uma vez: \n",
        "\n",
        "*   use um teste condicional na instrução *while* para encerrar o laço; \n",
        "\n",
        "*   use uma variável *active* para controlar o tempo que o laço executará; \n",
        "\n",
        "*   use uma instrução *break* para sair do laço quando o usuário fornecer o valor *'quit'*.\n"
      ]
    },
    {
      "cell_type": "code",
      "execution_count": null,
      "metadata": {
        "id": "G1I_SAdMN1HT"
      },
      "outputs": [],
      "source": [
        "print(\"Digite a idade da pessoa ou '0' para encerrar o programa:\\n\")\n",
        "age = ''\n",
        "while age != 0:\n",
        "    if age != 0:\n",
        "        age = int(input())\n",
        "        if 0 < age < 3:\n",
        "            print(\"\\nO ingresso será gratuito.\\n\")\n",
        "        if 3 < age <= 12:\n",
        "            print(\"\\nO ingresso custará 10 dólares.\\n\")\n",
        "        if age > 12:\n",
        "            print(\"\\nO ingresso custará 15 dólares.\\n\")"
      ]
    },
    {
      "cell_type": "code",
      "execution_count": null,
      "metadata": {
        "id": "JGaXZp0qVooR"
      },
      "outputs": [],
      "source": [
        "print(\"Digite a idade da pessoa ou 'quit' para encerrar o programa:\\n\")\n",
        "\n",
        "active = True\n",
        "while active:  # Enquanto a variável 'active' for igual a 'True' o bloco de comandos será executado.\n",
        "    age = input()\n",
        "    if age == \"quit\":\n",
        "        active = False  # O bloco de comandos será encerrado.\n",
        "    elif int(age) < 3:\n",
        "        print(\"\\nO ingresso será gratuito.\\n\")\n",
        "    elif int(age) <= 12:\n",
        "        print(\"\\nO ingresso custará 10 dólares.\\n\")\n",
        "    elif int(age) > 12:\n",
        "        print(\"\\nO ingresso custará 15 dólares.\\n\")"
      ]
    },
    {
      "cell_type": "code",
      "execution_count": null,
      "metadata": {
        "id": "WRx_b3z4Vo_g"
      },
      "outputs": [],
      "source": [
        "print(\"Digite a idade da pessoa ou 'quit' para encerrar o programa:\\n\")\n",
        "while True:\n",
        "    age = input()\n",
        "    if age == \"quit\":\n",
        "        break\n",
        "    elif int(age) < 3:\n",
        "        print(\"\\nO ingresso será gratuito.\\n\")\n",
        "    elif int(age) <= 12:\n",
        "        print(\"\\nO ingresso custará 10 dólares.\\n\")\n",
        "    elif int(age) > 12:\n",
        "        print(\"\\nO ingresso custará 15 dólares.\\n\")"
      ]
    },
    {
      "cell_type": "markdown",
      "metadata": {
        "id": "IJBe0w_aN3bM"
      },
      "source": [
        "##7.7 – Infinito\n",
        "Escreva um laço que nunca termine e execute-o. (Para encerrar o laço, pressione *CTRL-C* ou feche a janela que está exibindo a saída.)"
      ]
    },
    {
      "cell_type": "code",
      "execution_count": null,
      "metadata": {
        "id": "WCGODGWwN9hz"
      },
      "outputs": [],
      "source": [
        "while True:\n",
        "    number = float(input(\"Digite um número: \"))\n",
        "#   if number == \"0\":\n",
        "#       break\n",
        "#   else:\n",
        "    print(f\"{number}\\n\")"
      ]
    },
    {
      "cell_type": "code",
      "execution_count": null,
      "metadata": {
        "id": "_w0TiXLzX36j"
      },
      "outputs": [],
      "source": [
        "contador = 1\n",
        "\n",
        "while contador < 8:\n",
        "    number = float(input(\"Digite um número: \"))\n",
        "    print(f\"{number}\\n\")\n",
        "#   contador += 1"
      ]
    },
    {
      "cell_type": "markdown",
      "metadata": {
        "id": "8gFWfm54dzSj"
      },
      "source": [
        "##7.8 – Lanchonete\n",
        "Crie uma lista chamada *sandwich_orders* e a preencha com\n",
        "os nomes de vários sanduíches. Em seguida, crie uma lista vazia chamada *finished_sandwiches*. Percorra a lista de pedidos de sanduíches com um laço e mostre uma mensagem para cada pedido, por exemplo, *Preparei seu sanduíche de atum*. À medida que cada sanduíche for preparado, transfira-o para a lista de sanduíches prontos. Depois que todos os sanduíches estiverem prontos, mostre uma mensagem que liste cada sanduíche preparado.\n"
      ]
    },
    {
      "cell_type": "code",
      "execution_count": null,
      "metadata": {
        "id": "_J5nibu5itP_"
      },
      "outputs": [],
      "source": [
        "sandwich_orders = [\"picanha\", \"frango\", \"filé mignon\", \"atum\", \"camarão\"]  # Pedidos não preparados;\n",
        "finished_sandwiches = []  # Pedidos preparados;\n",
        "\n",
        "while sandwich_orders:  # while lista: --> Enquanto a lista contem algum item, o bloco de comandos será executado;\n",
        "    preparing_sandwich = sandwich_orders.pop()  # Remove o ÚLTIMO item da lista de pedidos e armazena na variável;\n",
        "    print(f\"Preparei seu sanduíche de {preparing_sandwich}.\\n\")  # Informa o usuário que o sanduíche foi preparado;\n",
        "    finished_sandwiches.append(preparing_sandwich)  # Adiciona o sanduíche pronto na lista de pedidos preparados;\n",
        "\n",
        "print(\"Sanduíches preparados: \")\n",
        "for finished_sandwich in finished_sandwiches:\n",
        "    print(finished_sandwich)  # Lista cada sanduíche que foi preparado."
      ]
    },
    {
      "cell_type": "markdown",
      "metadata": {
        "id": "v9OyhG-CeHdk"
      },
      "source": [
        "##7.9 – Sem pastrami\n",
        "Usando a lista *sandwich_orders* do Exercício 7.8, garanta\n",
        "que o sanduíche de *'pastrami'* apareça na lista pelo menos três vezes. Acrescente um código próximo ao início de seu programa para exibir uma mensagem informando que a lanchonete está sem pastrami e, então, use um laço *while* para remover todas as ocorrências de *'pastrami'* e *sandwich_orders*. Garanta que nenhum sanduíche de pastrami acabe em *finished_sandwiches*.\n",
        "\n"
      ]
    },
    {
      "cell_type": "code",
      "execution_count": null,
      "metadata": {
        "id": "qwSkIDxaeWjU"
      },
      "outputs": [],
      "source": [
        "sandwich_orders = [\"picanha\", \"pastrami\", \"pastrami\", \"atum\", \"pastrami\"]\n",
        "finished_sandwiches = []\n",
        "\n",
        "print(\"A lanchonete está sem pastrami.\\n\")\n",
        "\n",
        "while \"pastrami\" in sandwich_orders:    # while item in lista: --> Enquanto determinado item estiver em uma lista, o \n",
        "    sandwich_orders.remove(\"pastrami\")  #                          bloco de comandos será executado.\n",
        "\n",
        "while sandwich_orders:  \n",
        "    preparing_sandwich = sandwich_orders.pop()  \n",
        "    print(f\"Preparei seu sanduíche de {preparing_sandwich}.\\n\")  \n",
        "    finished_sandwiches.append(preparing_sandwich)\n",
        "\n",
        "print(\"Sanduíches preparados: \")\n",
        "for finished_sandwich in finished_sandwiches:\n",
        "    print(finished_sandwich)"
      ]
    },
    {
      "cell_type": "markdown",
      "metadata": {
        "id": "LStDeH6zeW5b"
      },
      "source": [
        "##7.10 – Férias dos sonhos\n",
        "Escreva um programa que faça uma enquete sobre as férias dos sonhos dos usuários. Escreva um prompt semelhante a este: *Se pudesse visitar um lugar do mundo, para onde você iria?* Inclua um bloco de código que apresente os resultados da enquete."
      ]
    },
    {
      "cell_type": "code",
      "execution_count": null,
      "metadata": {
        "id": "47X0-H5Pekny"
      },
      "outputs": [],
      "source": [
        "survey = {}\n",
        "\n",
        "active = True\n",
        "while active:\n",
        "    name = input(\"Qual é o seu nome? \")\n",
        "    locate = input(\"Se pudesse visitar um lugar do mundo, para onde você iria? \")\n",
        "    survey[name] = locate\n",
        "    repeat = input(\"Outra pessoa vai responder a enquete? (sim/nao) \")\n",
        "    if repeat.lower() == \"nao\":\n",
        "        active = False \n",
        "    else:\n",
        "        print()\n",
        "\n",
        "print(\"\\n--- Resultado da enqute ---\")\n",
        "for name, locate in survey.items():\n",
        "    print(f\"{name.title()} gostaria de ir a(ao) {locate.title()}.\")"
      ]
    },
    {
      "cell_type": "markdown",
      "metadata": {
        "id": "bSSRgVcDq1_n"
      },
      "source": [
        "# ***8 - FUNÇÕES***"
      ]
    },
    {
      "cell_type": "markdown",
      "metadata": {
        "id": "_DhdCRdEq_TJ"
      },
      "source": [
        "##8.1 – Mensagem\n",
        "Escreva uma função chamada *display_message()* que mostre uma frase informando a todos o que você está aprendendo neste capítulo. Chame a função e certifique-se de que a mensagem seja exibida corretamente.\n"
      ]
    },
    {
      "cell_type": "code",
      "execution_count": null,
      "metadata": {
        "id": "lv_sKGQoOl2Z"
      },
      "outputs": [],
      "source": [
        "def display_message():  # def função(): --> Utilizada quando queremos executar uma tarefa em particular mais vezes em\n",
        "    \"\"\"Retorna uma mensagem já designada\"\"\"    # um programa. Dessa maneira, ao invés de copiar todo o\n",
        "    print(\"Neste capítulo estou aprendendo sobre as funções!\") # código novamente, basta \"chamar\" a função criada.\n",
        "                                                               \n",
        "display_message()"
      ]
    },
    {
      "cell_type": "code",
      "execution_count": null,
      "metadata": {
        "id": "qk-_Pej-ttHO"
      },
      "outputs": [],
      "source": [
        "# OBS!!!\n",
        "\n",
        "def a(x, y):\n",
        "    return x * y\n",
        "var = a(2, 3)\n",
        "print(var)\n",
        "\n",
        "\n",
        "a = lambda x, y: x * y  # lambda --> função anônima\n",
        "var = a(2, 3)\n",
        "print(var)"
      ]
    },
    {
      "cell_type": "markdown",
      "metadata": {
        "id": "qZ-MvzNDOmKr"
      },
      "source": [
        "##8.2 – Livro favorito\n",
        "Escreva uma função chamada *favorite_book()* que aceite um parâmetro *title*. A função deve exibir uma mensagem como *Um dos meus livros favoritos é Alice no país das maravilhas.* Chame a função e não se esqueça de incluir o título do livro como argumento na chamada da função.\n"
      ]
    },
    {
      "cell_type": "code",
      "execution_count": null,
      "metadata": {
        "id": "uj87ttJROxS5"
      },
      "outputs": [],
      "source": [
        "def favorite_book(title):  # def função(parâmetro): --> Parâmetro é uma informação de que a função precisa para execu-\n",
        "    \"\"\"Retorna o nome favorito do livro do usuário como argumento\"\"\"\n",
        "    print(f\"Um dos meus livros favoritos é {title}.\") # tar sua tarefa.\n",
        "                                                      # \n",
        "favorite_book('The Walking Dead')  # função(argumento) --> Um argumento é uma informação passada para uma função em \n",
        "                                   #                       sua chamada.  Quando chamamos a função, colocamos entre \n",
        "                                   #                       parênteses o valor com que queremos que a função trabalhe."
      ]
    },
    {
      "cell_type": "code",
      "execution_count": null,
      "metadata": {
        "id": "N1ZDathxugdM"
      },
      "outputs": [],
      "source": [
        "# OBS!!!\n",
        "\n",
        "# Uma lista com produtos e preços\n",
        "lista_de_produtos = [\n",
        "    ['P1', 13],  # item[0] -> Nome, item[1] -> preço\n",
        "    ['P2', 6],  # item[0] -> Nome, item[1] -> preço\n",
        "    ['P3', 7],  # item[0] -> Nome, item[1] -> preço\n",
        "    ['P4', 50],  # item[0] -> Nome, item[1] -> preço\n",
        "    ['P5', 8],  # item[0] -> Nome, item[1] -> preço\n",
        "]\n",
        " \n",
        " \n",
        "# Função para ordenação\n",
        "# O item não é a lista, mas cada um\n",
        "# dos produtos da lista\n",
        "def ordena(item):\n",
        "    # item[1] é o preço do produto\n",
        "    return item[1]\n",
        " \n",
        " \n",
        "# Ordena\n",
        "# A função utilizada pela key vai receber cada\n",
        "# um dos items (produtos) como se fosse uma iteração\n",
        "lista_de_produtos.sort(key=ordena)\n",
        " \n",
        "# Retorna a lista ordenada pelo preço (item[1])\n",
        "print(lista_de_produtos)"
      ]
    },
    {
      "cell_type": "code",
      "execution_count": null,
      "metadata": {
        "id": "QO_yRaZar-IB"
      },
      "outputs": [],
      "source": [
        "# OBS!!!\n",
        "\n",
        "lista = [\n",
        "    ['P1', 13],\n",
        "    ['P2', 6],\n",
        "    ['P3', 7],\n",
        "    ['P4', 50],\n",
        "    ['P5', 8],\n",
        "]\n",
        "\n",
        "def func(item):\n",
        "    return item[1]\n",
        "\n",
        "lista.sort(key=func)\n",
        "print(lista)\n",
        "\n",
        "\n",
        "lista.sort(key=lambda item: item[1], reverse=True)\n",
        "print(lista)\n",
        "\n",
        "print(sorted(lista, key=lambda i: i[0], reverse=True))"
      ]
    },
    {
      "cell_type": "markdown",
      "metadata": {
        "id": "4OzXSRjgVnfo"
      },
      "source": [
        "##8.3 – Camiseta\n",
        "Escreva uma função chamada *make_shirt()* que aceite um tamanho e o texto de uma mensagem que deverá ser estampada na camiseta. A função deve exibir uma frase que mostre o tamanho da camiseta e a mensagem estampada.\n"
      ]
    },
    {
      "cell_type": "code",
      "execution_count": null,
      "metadata": {
        "id": "elt_KmKDVuUX"
      },
      "outputs": [],
      "source": [
        "def make_shirt(tamanho, texto):  # Podem ser definidos quantos parâmetros forem necessários.\n",
        "    \"\"\"Retorna o tamanho de uma camiseta e sua mensagem nos argumentos, de acordo com os parâmetros\"\"\"\n",
        "    print(f'O tamanho da camiseta será {tamanho} e a mensagem será \"{texto}\".')\n",
        "\n",
        "make_shirt('G', 'Boa noite!')  # Argumentos posicionais -> Devem ser chamados na mesma posição em que estão os parâmetros.\n",
        "make_shirt(texto='Boa noite!', tamanho='G')  # Argumentos nomeados (keyboard arguments) --> Os parâmetros podem ser\n",
        "                                             #                            especificados antes de chamar os argumentos,\n",
        "                                             #                            dessa maneira a posição não importará.      "
      ]
    },
    {
      "cell_type": "markdown",
      "metadata": {
        "id": "uQqY30UmVuld"
      },
      "source": [
        "##8.4 – Camisetas grandes\n",
        "Modifique a função *make_shirt()* de modo que as camisetas sejam grandes por default, com uma mensagem *Eu amo Python.* Crie uma camiseta grande e outra média com a mensagem default, e uma camiseta de qualquer tamanho com uma mensagem diferente.\n"
      ]
    },
    {
      "cell_type": "code",
      "execution_count": null,
      "metadata": {
        "id": "Xl57VfifV4v_"
      },
      "outputs": [],
      "source": [
        "def make_shirt(tamanho='G', texto='Eu amo Python.'):\n",
        "    \"\"\"Retorna o tamanho de uma camiseta e sua mensagem nos argumentos, de acordo com os parâmetros\"\"\"\n",
        "    print(f'O tamanho da camiseta será {tamanho} e a mensagem será \"{texto}\".')\n",
        "\n",
        "make_shirt()                               # tamanho='G', texto='Eu amo Python.'\n",
        "make_shirt('M')                            # tamanho='M', texto='Eu amo Python.'\n",
        "make_shirt(texto='Eu amo o Corinthians.')  # tamanho='G', texto='Eu amo o Corinthians.'"
      ]
    },
    {
      "cell_type": "markdown",
      "metadata": {
        "id": "e4Hg6eNZV5H_"
      },
      "source": [
        "##8.5 – Cidades\n",
        "Escreva uma função chamada *describe_city()* que aceite o nome de uma cidade e seu país. A função deve exibir uma frase simples, como *Reykjavik está localizada na Islândia.* Forneça um valor default ao parâmetro que representa o país. Chame sua função para três cidades diferentes em que pelo menos uma delas não esteja no país default.\n"
      ]
    },
    {
      "cell_type": "code",
      "execution_count": null,
      "metadata": {
        "id": "Pj2baoHlWBIP"
      },
      "outputs": [],
      "source": [
        "def describe_city(nome, pais='brasil'):\n",
        "    \"\"\"Retorna os argumentos no formato 'arg_1, arg_2', de acordo com os parâmetros\"\"\"\n",
        "    print(f\"{nome.title()} está localizada na(o) {pais.title()}.\")\n",
        "\n",
        "describe_city('são josé do rio preto')\n",
        "describe_city('paris', 'frança')\n",
        "describe_city('são paulo')"
      ]
    },
    {
      "cell_type": "markdown",
      "metadata": {
        "id": "ni9LEeShrjYn"
      },
      "source": [
        "##8.6 – Nomes de cidade\n",
        "Escreva uma função chamada *city_country()* que aceite o nome de uma cidade e seu país. A função deve devolver uma string formatada assim: \"Santiago, Chile\" \n",
        "\n",
        "Chame sua função com pelo menos três pares cidade-país e apresente o valor devolvido.\n"
      ]
    },
    {
      "cell_type": "code",
      "execution_count": null,
      "metadata": {
        "id": "0nHOytL0rrhu"
      },
      "outputs": [],
      "source": [
        "def city_country(city, country):\n",
        "    \"\"\"Retorna os argumentos no formato 'arg_1, arg_2', de acordo com os parâmetros\"\"\"\n",
        "    informations = city + ', ' + country\n",
        "    return informations.title()  # O valor devolvido pela função é chamado de valor de retorno. A instrução 'return'\n",
        "                                 # toma um valor que está em uma função e o envia de volta à linha que a chamou. \n",
        "\n",
        "city_1 = city_country('são josé do rio preto', 'brasil')  # Quando chamamos uma função que devolve um valor, precisa-\n",
        "                                                          # mos fornecer uma variável em que o valor de retorno possa\n",
        "city_2 = city_country('paris', 'frança')                  # ser armazenado.\n",
        "\n",
        "print(city_1)\n",
        "print(city_2)"
      ]
    },
    {
      "cell_type": "markdown",
      "metadata": {
        "id": "kwrmqlAnrr2G"
      },
      "source": [
        "##8.7 – Álbum\n",
        "Escreva uma função chamada *make_album()* que construa um dicionário descrevendo um álbum musical. A função deve aceitar o nome de um artista e o título de um álbum e deve devolver um dicionário contendo essas duas informações. Use a função para criar três dicionários que representem álbuns diferentes. Apresente cada valor devolvido para mostrar que os dicionários estão armazenando as informações do álbum corretamente.\n",
        "\n",
        "Acrescente um parâmetro opcional em *make_album()* que permita armazenar o número de faixas em um álbum. Se a linha que fizer a chamada incluir um valor para o número de faixas, acrescente esse valor ao dicionário do álbum. Faça pelo menos uma nova chamada da função incluindo o número de faixas em um álbum.\n"
      ]
    },
    {
      "cell_type": "code",
      "execution_count": null,
      "metadata": {
        "id": "hNbDx2XwsF-8"
      },
      "outputs": [],
      "source": [
        "def make_album(nome_artista, titulo_album, faixas=''):  # parametro='' ou parametro=None --> Parâmetro opcional\n",
        "    \"\"\"Retorna um dicionário que contém os parâmetros como chaves e os argumentos como valores\"\"\"\n",
        "    album = {'nome_artista': nome_artista, 'titulo_album': titulo_album}\n",
        "    if faixas:  # Se o parâmetro 'faixas' for chamado, faixas=True e executa o bloco de comandos.\n",
        "        album['faixas'] = faixas\n",
        "    return album\n",
        "\n",
        "album_1 = make_album('Guido Van Rossum', 'Python', 1991)\n",
        "album_2 = make_album('Dennis Ritchie', 'C')\n",
        "album_3 = make_album('Bjarne Stroustrup', 'C++', 1983)\n",
        "album_4 = make_album('Anders Hejlsberg', 'C#')\n",
        "\n",
        "print(album_1)\n",
        "print(album_2)\n",
        "print(album_3)\n",
        "print(album_4)"
      ]
    },
    {
      "cell_type": "markdown",
      "metadata": {
        "id": "jRBUG1gKsGQF"
      },
      "source": [
        "##8.8 – Álbuns dos usuários\n",
        "Comece com o seu programa do Exercício 8.7. Escreva um laço *while* que permita aos usuários fornecer o nome de um artista e o título de um álbum. Depois que tiver essas informações, chame *make_album()* com as entradas do usuário e apresente o dicionário criado. Lembre-se de incluir um valor de saída no laço *while*.\n"
      ]
    },
    {
      "cell_type": "code",
      "execution_count": null,
      "metadata": {
        "id": "j0kJYXmUsOUO"
      },
      "outputs": [],
      "source": [
        "def make_album(nome_artista, titulo_album):\n",
        "    \"\"\"Retorna um dicionário que contém os parâmetros como chaves e os argumentos como valores\"\"\"\n",
        "    album_dict = {'nome_artista': nome_artista, 'titulo_album': titulo_album}\n",
        "    return album_dict\n",
        "\n",
        "print(\"Insira as informações: (ou insira 'q' para sair)\\n\")\n",
        "while True:                                       \n",
        "    nome_artista = input(\"Nome do artista: \")       # Enquanto o usuário não inserir 'q' para parar o laço, o bloco de\n",
        "    if nome_artista == 'q':                         # comandos continuará sendo executado.                                                   \n",
        "        break\n",
        "    titulo_album = input(\"Título do album: \")\n",
        "    if titulo_album == 'q':\n",
        "        break\n",
        "    album = make_album(nome_artista, titulo_album)\n",
        "    print(f\"{album}\\n\")"
      ]
    },
    {
      "cell_type": "markdown",
      "metadata": {
        "id": "vSx8UtJt1SuH"
      },
      "source": [
        "##8.9 – Mágicos\n",
        "Crie uma lista de nomes de mágicos. Passe a lista para uma\n",
        "função chamada *show_magicians()* que exiba o nome de cada mágico da lista.\n"
      ]
    },
    {
      "cell_type": "code",
      "execution_count": null,
      "metadata": {
        "id": "bk8OgnbMiNsu"
      },
      "outputs": [],
      "source": [
        "def show_magicians(magicians):\n",
        "    \"\"\"Retorna uma listagens dos mágicos presentes na lista designada como parâmetro\"\"\"\n",
        "    for magician in magicians:\n",
        "        print(magician.title())\n",
        "\n",
        "magicians = ['cristiano ronaldo', 'reus', 'messi', 'neymar']\n",
        "show_magicians(magicians)"
      ]
    },
    {
      "cell_type": "markdown",
      "metadata": {
        "id": "CgDH8YuNiN_O"
      },
      "source": [
        "##8.10 – Grandes mágicos\n",
        "Comece com uma cópia de seu programa do Exercício 8.9. Escreva uma função chamada *make_great()* que modifique a lista de mágicos acrescentando a expressão *o Grande* ao nome de cada mágico. Chame *show_magicians()* para ver se a lista foi realmente modificada.\n"
      ]
    },
    {
      "cell_type": "code",
      "execution_count": null,
      "metadata": {
        "id": "tyhsZ_6niX6G"
      },
      "outputs": [],
      "source": [
        "def show_magicians(magicians):\n",
        "    \"\"\"Retorna uma listagens dos mágicos presentes na lista designada como parâmetro\"\"\"\n",
        "    for magician in magicians:  # Percorre cada mágico da lista de mágicos.\n",
        "        print(magician)\n",
        "\n",
        "def make_great(magicians):\n",
        "    \"\"\"Retorna uma nova lista com o acréscimo de 'o Grande ' no início de cada item da lista parâmetro\"\"\"\n",
        "    great_magicians = []  # Cria uma lista vazia para armazenar os novos nomes de mágicos.\n",
        "    while magicians:\n",
        "        magician = magicians.pop()  # Remove cada item da lista de magos e armazena na variavel 'magician'.\n",
        "        great_magician = 'o Grande ' + magician.title()  # Armazena a junção de 'o Grande ' com o nome do mágico na variável 'great_magician'.\n",
        "        great_magicians.append(great_magician)  # Adiciona o valor armazenado na variável na nova lista.\n",
        "\n",
        "    for great_magician in great_magicians:  # Percorre cada novo nome de mágico na nova lista.\n",
        "        magicians.append(great_magician)  # Armazena os novos nomes dos mágicos na lista principal novamente para ser chamada na função 'show_magician'.\n",
        "\n",
        "magicians = ['cristiano ronaldo', 'reus', 'messi', 'neymar']\n",
        "\n",
        "show_magicians(magicians)\n",
        "print()\n",
        "make_great(magicians)\n",
        "show_magicians(magicians)"
      ]
    },
    {
      "cell_type": "code",
      "execution_count": null,
      "metadata": {
        "id": "2w2Xi_0oojCq"
      },
      "outputs": [],
      "source": [
        "def show_magicians(magicians):\n",
        "    for magician in magicians:\n",
        "        print(magician.title())\n",
        "\n",
        "def show_great_magicians(magicians):\n",
        "    for i in range(len(magicians)):\n",
        "        for magician in magicians:\n",
        "            magicians[i] = 'o Grande ' + magician.title()\n",
        "            print(magicians[i])\n",
        "        break\n",
        "\n",
        "magicians = ['cristiano ronaldo', 'reus', 'messi', 'neymar']\n",
        "\n",
        "show_magicians(magicians)\n",
        "print()\n",
        "show_great_magicians(magicians)"
      ]
    },
    {
      "cell_type": "markdown",
      "metadata": {
        "id": "_OpsDZ9yiaQ2"
      },
      "source": [
        "##8.11 – Mágicos inalterados\n",
        "Comece com o trabalho feito no Exercício 8.10. Chame a função *make_great()* com uma cópia da lista de nomes de mágicos. Como a lista original não será alterada, devolva a nova lista e armazene-a em uma lista separada. Chame *show_magicians()* com cada lista para mostrar que você tem uma lista de nomes originais e uma lista com a expressão *o Grande* adicionada ao nome de cada mágico."
      ]
    },
    {
      "cell_type": "code",
      "execution_count": null,
      "metadata": {
        "id": "q1U6FopBinE-"
      },
      "outputs": [],
      "source": [
        "def show_magicians(magicians):\n",
        "    \"\"\"Retorna uma listagens dos mágicos presentes na lista designada como parâmetro\"\"\"\n",
        "    for magician in magicians:\n",
        "        print(magician)\n",
        "\n",
        "def make_great(magicians):\n",
        "    \"\"\"Retorna a lista designada como parâmetro com o acréscimo de 'o Grande ' no início de cada item\"\"\"\n",
        "    great_magicians = []\n",
        "    while magicians:\n",
        "        magician = magicians.pop()\n",
        "        great_magician = 'o Grande ' + magician.title()\n",
        "        great_magicians.append(great_magician)\n",
        "\n",
        "    for great_magician in great_magicians: \n",
        "        magicians.append(great_magician)\n",
        "\n",
        "    return magicians  # Necessário usar o return pois foi utilizada uma cópia de magicians (magicians[:]) na chamada.\n",
        "\n",
        "magicians = ['cristiano ronaldo', 'reus', 'messi', 'neymar']\n",
        "\n",
        "print(\"Original Magicians: \")\n",
        "show_magicians(magicians)\n",
        "\n",
        "print(\"\\nGreat Magicians: \")\n",
        "great_magicians = make_great(magicians[:])\n",
        "show_magicians(great_magicians)"
      ]
    },
    {
      "cell_type": "markdown",
      "metadata": {
        "id": "xbWSlMOyv6Jv"
      },
      "source": [
        "##8.12 – Sanduíches\n",
        "Escreva uma função que aceite uma lista de itens que uma pessoa quer em um sanduíche. A função deve ter um parâmetro que agrupe tantos itens quantos forem fornecidos pela chamada da função e deve apresentar um resumo do sanduíche pedido. Chame a função três vezes usando um número diferente de argumentos a cada vez.\n"
      ]
    },
    {
      "cell_type": "code",
      "execution_count": null,
      "metadata": {
        "id": "9sBvvQW9xByk"
      },
      "outputs": [],
      "source": [
        "def make_sandwich(*toppings):  # (*parâmetro) --> Permite passar um número arbitrário de argumentos.\n",
        "    \"\"\"Retorna uma listagem de todos os ingredientes inseridos como argumentos\"\"\"\n",
        "    print(\"Ingredientes do sanduíche: \")\n",
        "    for topping in toppings:\n",
        "        print(f\"- {topping}\")\n",
        "\n",
        "make_sandwich('picanha', 'salada', 'molho barbecue')\n",
        "print()\n",
        "make_sandwich('frango', 'salada')\n",
        "print()\n",
        "make_sandwich('hambúrguer', 'ovo', 'bacon', 'salada', 'batata palha', 'catupiry')"
      ]
    },
    {
      "cell_type": "markdown",
      "metadata": {
        "id": "h--zKY9WxCR1"
      },
      "source": [
        "##8.13 – Perfil do usuário\n",
        "Comece com uma cópia de user_profile.py, da página 210. Crie um perfil seu chamando *build_profile()*, usando seu primeiro nome e o sobrenome, além de três outros pares chave-valor que o descrevam."
      ]
    },
    {
      "cell_type": "code",
      "execution_count": null,
      "metadata": {
        "id": "3xlCv-r6xIUE"
      },
      "outputs": [],
      "source": [
        "def build_profile(first_name, last_name, **user_info):  # (param1, param2, ..., **parametro) --> Argumentos nomeados arbitrários.\n",
        "    \"\"\"Retorna um dicionario tendo os parametros como chaves e os argumentos como valores\"\"\"\n",
        "    profile = {}                                       \n",
        "\n",
        "    profile['first_name'] = first_name.title()\n",
        "    profile['last_name'] = last_name.title()\n",
        "\n",
        "    for key, value in user_info.items():\n",
        "        profile[key] = value\n",
        "\n",
        "    return profile\n",
        "\n",
        "user_profile = build_profile('leonardo', 'borgato', hobby='futebol', age=18)\n",
        "print(user_profile)"
      ]
    },
    {
      "cell_type": "code",
      "execution_count": null,
      "metadata": {
        "id": "GtxmR9mSUvsj"
      },
      "outputs": [],
      "source": [
        "# OBS!!!\n",
        "\n",
        "def func(*args, **kwargs):\n",
        "    print(args)\n",
        "\n",
        "    idade = kwargs.get('idade')  # variavel = kwargs.get('chave') --> Caso a chave não exista, armazena None na variável e\n",
        "    if idade is not None:        #                                    não exibe nenhum erro.\n",
        "        print(idade)\n",
        "    else:\n",
        "        print(\"Idade não existe.\")\n",
        "\n",
        "lista1 = [1, 2, 3, 4, 5]\n",
        "lista2 = [6, 7, 8, 9, 10]\n",
        "\n",
        "func(*lista1, *lista2, nome='Joao', sobrenome='Silva')"
      ]
    },
    {
      "cell_type": "code",
      "execution_count": null,
      "metadata": {
        "id": "rdctJIUhV41W"
      },
      "outputs": [],
      "source": [
        "# OBS!!!\n",
        "\n",
        "def func(*args, **kwargs):\n",
        "    print(args)\n",
        "\n",
        "    idade = kwargs['idade']      #Caso a chave não exista, mostrará uma mensagem de erro e interromperá o programa\n",
        "    if idade is not None:     \n",
        "        print(idade)\n",
        "    else:\n",
        "        print(\"Idade não existe.\")\n",
        "\n",
        "lista1 = [1, 2, 3, 4, 5]\n",
        "lista2 = [6, 7, 8, 9, 10]\n",
        "\n",
        "func(*lista1, *lista2, nome='Joao', sobrenome='Silva')"
      ]
    },
    {
      "cell_type": "markdown",
      "metadata": {
        "id": "syH4CqCZxIks"
      },
      "source": [
        "##8.14 – Carros\n",
        "Escreva uma função que armazene informações sobre um carro\n",
        "em um dicionário. A função sempre deve receber o nome de um fabricante e um modelo. Um número arbitrário de argumentos nomeados então deverá ser aceito. Chame a função com as informações necessárias e dois outros pares nome-valor, por exemplo, uma cor ou um opcional. Sua função deve ser apropriada para uma chamada como esta: *car = make_car(‘subaru’, ‘outback’, color=’blue’, tow_package=True)* Mostre o dicionário devolvido para garantir que todas as informações foram armazenadas corretamente.\n"
      ]
    },
    {
      "cell_type": "code",
      "execution_count": null,
      "metadata": {
        "id": "GV5-_-atxXUj"
      },
      "outputs": [],
      "source": [
        "def make_car(manufacturer, model, **car_info):\n",
        "    \"\"\"Retorna um dicionario tendo os parametros como chaves e os argumentos como valores\"\"\"\n",
        "    car_dict = {}\n",
        "    car_info['manufacturer'] = manufacturer.title()\n",
        "    car_info['model'] = model.title()\n",
        "\n",
        "    for key, value in car_info.items():\n",
        "        car_dict[key] = value\n",
        "\n",
        "    return car_dict\n",
        "\n",
        "car = make_car('chevrolet', 'onix', color='white', sunroof=True)\n",
        "print(car)"
      ]
    },
    {
      "cell_type": "markdown",
      "metadata": {
        "id": "5wzd9L0R8mqE"
      },
      "source": [
        "##OBS\n",
        "Importar módulo: p.190"
      ]
    },
    {
      "cell_type": "markdown",
      "metadata": {
        "id": "m4awotcfAfuE"
      },
      "source": [
        "##8.15 – Impressão de modelos\n",
        "Coloque as funções do exemplo print_models.py em um arquivo separado de nome printing_functions.py. Escreva uma instrução\n",
        "import no início de print_models.py e modifique o arquivo para usar as funções importadas.\n"
      ]
    },
    {
      "cell_type": "markdown",
      "metadata": {
        "id": "QuGuIGmbCS2s"
      },
      "source": [
        "##8.16 – Importações\n",
        "Usando um programa que você tenha escrito e que contenha uma única função, armazene essa função em um arquivo separado. Importe a função para o arquivo principal de seu programa e chame-a usando cada uma das seguintes abordagens: import *nome_do_módulo* from *nome_do_módulo* import *nome_da_função* from *nome_do_módulo* import *nome_da_função* as *nf* import *nome_do_módulo* as *nm* from *nome_do_módulo* import*"
      ]
    },
    {
      "cell_type": "markdown",
      "metadata": {
        "id": "Mq8-JWURCsCb"
      },
      "source": [
        "##8.17 – Estilizando funções\n",
        "Escolha quaisquer três programas que você escreveu neste capítulo e garanta que estejam de acordo com as diretrizes de estilo descritas nesta seção.\n"
      ]
    },
    {
      "cell_type": "markdown",
      "metadata": {
        "id": "xe3EJnbkC5dd"
      },
      "source": [
        "# ***9 - CLASSES***"
      ]
    },
    {
      "cell_type": "markdown",
      "metadata": {
        "id": "z-C5_OnvC-eL"
      },
      "source": [
        "##9.1 – Restaurante\n",
        "Crie uma classe chamada Restaurant. O método *__init__()* de *Restaurant* deve armazenar dois atributos: *restaurant_name* e *cuisine_type*. Crie um método chamado *describe_restaurant()* que mostre essas duas informações, e um método de nome *open_restaurant()* que exiba uma mensagem informando que o restaurante está aberto.\n",
        "\n",
        "Crie uma instância chamada *restaurant* a partir de sua classe. Mostre os dois atributos individualmente e, em seguida, chame os dois métodos.\n"
      ]
    },
    {
      "cell_type": "code",
      "execution_count": null,
      "metadata": {
        "id": "emyVekJFdK3-"
      },
      "outputs": [],
      "source": [
        "class Restaurant():  # Classe --> Usar sempre letras maiúsculas.\n",
        "    \"\"\"Modelagem simples de um restaurante\"\"\"\n",
        "    def __init__(self, restaurant_name, cuisine_type):  # Método __init__(self, ...)\n",
        "        \"\"\"Inicializa os atributos que descrevem um restaurante\"\"\"\n",
        "        self.restaurant_name = restaurant_name  # Necessário usar self.\n",
        "        self.cuisine_type = cuisine_type\n",
        "\n",
        "    def describe_restaurant(self):  # Método\n",
        "        \"\"\"Descreve o restaurante\"\"\"\n",
        "        print(f\"Nome do restaurante: {self.restaurant_name.title()}\")\n",
        "        print(f\"Tipo de cozinha: {self.cuisine_type}\")\n",
        "\n",
        "    def open_restaurant(self):  # Método\n",
        "        \"\"\"Informa que o restaurante está aberto\"\"\"\n",
        "        print(f\"\\nO {self.restaurant_name.title()} está aberto!\")\n",
        "\n",
        "restaurant = Restaurant('brazuca', 'brasileira')  # instância\n",
        "\n",
        "print(f\"Nome do restaurante: {restaurant.restaurant_name.title()}\")  # {instância.parametro_1}\n",
        "print(f\"Tipo de cozinha: {restaurant.cuisine_type}\\n\")  # {instância.parametro_2}\n",
        "\n",
        "restaurant.describe_restaurant()  # Chamada de método\n",
        "restaurant.open_restaurant()"
      ]
    },
    {
      "cell_type": "markdown",
      "metadata": {
        "id": "iSScTpdudLJW"
      },
      "source": [
        "##9.2 – Três restaurantes\n",
        "Comece com a classe do Exercício 9.1. Crie três instâncias diferentes da classe e chame *describe_restaurant()* para cada\n",
        "instância."
      ]
    },
    {
      "cell_type": "code",
      "execution_count": null,
      "metadata": {
        "id": "70m-1vUbdU9O"
      },
      "outputs": [],
      "source": [
        "class Restaurant():  \n",
        "    \"\"\"Modelagem simples de um restaurante\"\"\"\n",
        "    def __init__(self, restaurant_name, cuisine_type):\n",
        "        \"\"\"Inicializa os atributos que descrevem um restaurante\"\"\"  \n",
        "        self.restaurant_name = restaurant_name  \n",
        "        self.cuisine_type = cuisine_type\n",
        "\n",
        "    def describe_restaurant(self): \n",
        "        \"\"\"Descreve o restaurante\"\"\" \n",
        "        print(f\"Nome do restaurante: {self.restaurant_name.title()}\")\n",
        "        print(f\"Tipo de cozinha: {self.cuisine_type}\\n\")\n",
        "\n",
        "    def open_restaurant(self):\n",
        "        \"\"\"Informa que o restaurante está aberto\"\"\"  \n",
        "        print(f\"O {self.restaurant_name.title()} está aberto!\")\n",
        "\n",
        "restaurant_1 = Restaurant('brazuca', 'brasileira') \n",
        "restaurant_2 = Restaurant('parisie', 'francesa') \n",
        "restaurant_3 = Restaurant('mamma mia', 'italiana')\n",
        "\n",
        "restaurant_1.describe_restaurant()\n",
        "restaurant_2.describe_restaurant()\n",
        "restaurant_3.describe_restaurant()"
      ]
    },
    {
      "cell_type": "markdown",
      "metadata": {
        "id": "5rRpRJcVdVNe"
      },
      "source": [
        "##9.3 – Usuários\n",
        "Crie uma classe chamada User. Crie dois atributos de nomes *first_name* e *last_name* e, então, crie vários outros atributos normalmente armazenados em um perfil de usuário. Escreva um método de nome *describe_user()* que apresente um resumo das informações do usuário. Escreva outro método chamado *greet_user()* que mostre uma saudação personalizada ao usuário. Crie várias instâncias que representem diferentes usuários e chame os dois métodos para cada usuário.\n"
      ]
    },
    {
      "cell_type": "code",
      "execution_count": null,
      "metadata": {
        "id": "98wAIu61djN5"
      },
      "outputs": [],
      "source": [
        "class User():\n",
        "    def __init__(self, first_name, last_name, username, age):\n",
        "        \"\"\"Inicializa os atributos que descrevem um usuário\"\"\"\n",
        "        self.first_name = first_name.title()\n",
        "        self.last_name = last_name.title()\n",
        "        self.username = username.lower()\n",
        "        self.age = age\n",
        "    \n",
        "    def describe_user(self):\n",
        "        \"\"\"descreve as informações do usuário\"\"\"\n",
        "        print(f\"Primeiro nome: {self.first_name}\")\n",
        "        print(f\"Último nome: {self.last_name}\")\n",
        "        print(f\"Nome de usuário: {self.username}\")\n",
        "        print(f\"Idade: {self.age}\")\n",
        "    \n",
        "    def greet_user(self):\n",
        "        \"\"\"exibe uma saudação ao usuário\"\"\"\n",
        "        print(f\"\\nOlá {self.username}, seja bem vindo(a)!\\n\")\n",
        "\n",
        "user_1 = User('renato', 'augusto', 'reinatoaug8', 34)\n",
        "user_2 = User('fagner', 'lemos', 'fagnin23', 32)\n",
        "user_3 = User('cássio', 'ramos', 'cassior12', 35)\n",
        "\n",
        "user_1.describe_user()\n",
        "user_1.greet_user()\n",
        "user_2.describe_user()\n",
        "user_2.greet_user()\n",
        "user_3.describe_user()\n",
        "user_3.greet_user()"
      ]
    },
    {
      "cell_type": "markdown",
      "metadata": {
        "id": "RD6DEZxHm_BY"
      },
      "source": [
        "##9.4 – Pessoas atendidas\n",
        "Comece com seu programa do Exercício 9.1 (página 225). Acrescente um atributo chamado *number_served* cujo valor default é 0. Crie uma instância chamada *restaurant* a partir dessa classe. Apresente o número de clientes atendidos pelo restaurante e, em seguida, mude esse valor e exiba-o novamente. Adicione um método chamado *set_number_served()* que permita definir o número de clientes atendidos. Chame esse método com um novo número e mostre o valor novamente.\n",
        "Acrescente um método chamado *increment_number_served()* que permita incrementar o número de clientes servidos. Chame esse método com qualquer número que você quiser e que represente quantos clientes foram atendidos, por exemplo, em um dia de funcionamento.\n"
      ]
    },
    {
      "cell_type": "code",
      "execution_count": null,
      "metadata": {
        "id": "NmSjZZL5T6SM"
      },
      "outputs": [],
      "source": [
        "class Restaurant():  \n",
        "    \"\"\"Modelagem simples de um restaurante\"\"\"\n",
        "    def __init__(self, restaurant_name, cuisine_type):\n",
        "        \"\"\"Inicializa os atributos que descrevem um restaurante\"\"\"  \n",
        "        self.restaurant_name = restaurant_name  \n",
        "        self.cuisine_type = cuisine_type\n",
        "        self.number_served = 0  # Novo atributo com valor default\n",
        "\n",
        "    def describe_restaurant(self): \n",
        "        \"\"\"Descreve o restaurante\"\"\" \n",
        "        print(f\"Nome do restaurante: {self.restaurant_name.title()}\")\n",
        "        print(f\"Tipo de cozinha: {self.cuisine_type}\\n\")\n",
        "\n",
        "    def open_restaurant(self):\n",
        "        \"\"\"Informa que o restaurante está aberto\"\"\"  \n",
        "        print(f\"O {self.restaurant_name.title()} está aberto!\")\n",
        "\n",
        "    def set_number_served(self, served):  # Modificando o valor de um atributo (number_served)\n",
        "        \"\"\"Atualiza o número de clientes servidos\"\"\"\n",
        "        self.number_served = served\n",
        "\n",
        "    def increment_number_served(self, number):  # Incrementando um valor ao valor de um atributo (number_served)\n",
        "        \"\"\"Soma a quantidade especifica ao número de pedidos\"\"\"\n",
        "        self.number_served += number\n",
        "\n",
        "    def customers_served(self):\n",
        "        \"\"\"Exibe o número de clientes servidos\"\"\"\n",
        "        print(f\"Clientes servidos: {self.number_served}\")\n",
        "        \n",
        "restaurant = Restaurant('brazuca', 'brasileira')\n",
        "restaurant.customers_served()  # Valor defaut = 0\n",
        "\n",
        "restaurant.number_served = 5  # Atualiza o number_served através da instância\n",
        "restaurant.customers_served()\n",
        "\n",
        "restaurant.set_number_served(10)  # Atualiza o number_served através do método\n",
        "restaurant.customers_served()\n",
        "\n",
        "restaurant.increment_number_served(5)  # Incrementa um valor ao number_served através do método\n",
        "restaurant.customers_served()"
      ]
    },
    {
      "cell_type": "markdown",
      "metadata": {
        "id": "N6d5XffNT6k8"
      },
      "source": [
        "##9.5 – Tentativas de login\n",
        "Acrescente um atributo chamado *login_attempts* à sua classe *User* do Exercício 9.3 (página 226). Escreva um método chamado *increment_login_attempts()* que incremente o valor de *login_attempts* em 1. Escreva outro método chamado *reset_login_attempts()* que reinicie o valor de *login_attempts* com 0. Crie uma instância da classe *User* e chame *increment_login_attempts()* várias vezes. Exiba o valor de *login_attempts* para garantir que ele foi incrementado de forma apropriada e, em seguida, chame *reset_login_attempts()*. Exiba *login_attempts* novamente para garantir que seu valor foi reiniciado com 0.\n"
      ]
    },
    {
      "cell_type": "code",
      "execution_count": null,
      "metadata": {
        "id": "Ne4XJ5EIUZdq"
      },
      "outputs": [],
      "source": [
        "class User():\n",
        "    def __init__(self, first_name, last_name, username, age):\n",
        "        \"\"\"Inicializa os atributos que descrevem um usuário\"\"\"\n",
        "        self.first_name = first_name.title()\n",
        "        self.last_name = last_name.title()\n",
        "        self.username = username.lower()\n",
        "        self.age = age\n",
        "        self.login_attempts = 0\n",
        "    \n",
        "    def describe_user(self):\n",
        "        \"\"\"Descreve as informações do usuário\"\"\"\n",
        "        print(f\"Primeiro nome: {self.first_name}\")\n",
        "        print(f\"Último nome: {self.last_name}\")\n",
        "        print(f\"Nome de usuário: {self.username}\")\n",
        "        print(f\"Idade: {self.age}\")\n",
        "    \n",
        "    def greet_user(self):\n",
        "        \"\"\"Exibe uma saudação ao usuário\"\"\"\n",
        "        print(f\"\\nOlá {self.username}, seja bem vindo a Uber!\\n\")\n",
        "\n",
        "    def increment_login_attempts(self):\n",
        "        \"\"\"Incrementa o valor 1 à cada tentativa de login\"\"\"\n",
        "        self.login_attempts += 1\n",
        "\n",
        "    def reset_login_attempts(self):\n",
        "        \"\"\"Reseta o número de tentativas de login\"\"\"\n",
        "        self.login_attempts = 0\n",
        "\n",
        "user_1 = User('cássio', 'ramos', 'cassior12', 35)\n",
        "print(f\"Tentativas de login(1): {user_1.login_attempts}\\n\")\n",
        "\n",
        "user_1.increment_login_attempts()\n",
        "user_1.increment_login_attempts()\n",
        "user_1.increment_login_attempts()\n",
        "user_1.increment_login_attempts()\n",
        "print(f\"Tentativas de login(2): {user_1.login_attempts}\\n\")\n",
        "\n",
        "user_1.reset_login_attempts()\n",
        "print(f\"Tentativas de login(3): {user_1.login_attempts}\")"
      ]
    },
    {
      "cell_type": "markdown",
      "metadata": {
        "id": "YrZlt1MUhUEN"
      },
      "source": [
        "##9.6 – Sorveteria\n",
        "Uma sorveteria é um tipo específico de restaurante. Escreva\n",
        "uma classe chamada *IceCreamStand* que herde da classe *Restaurant* escrita no Exercício 9.1 (página 225) ou no Exercício 9.4 (página 232). Qualquer versão da classe funcionará; basta escolher aquela de que você mais gosta. Adicione um atributo chamado *flavors* que armazene uma lista de sabores de sorvete. Escreva um método para mostrar esses sabores. Crie uma instância de *IceCreamStand* e chame esse método.\n"
      ]
    },
    {
      "cell_type": "code",
      "execution_count": null,
      "metadata": {
        "id": "lmEI4quRhdZW"
      },
      "outputs": [],
      "source": [
        "class Restaurant():  \n",
        "    \"\"\"Modelagem simples de um restaurante\"\"\"\n",
        "    def __init__(self, restaurant_name, cuisine_type):\n",
        "        \"\"\"Inicializa os atributos que descrevem um restaurante\"\"\"  \n",
        "        self.restaurant_name = restaurant_name  \n",
        "        self.cuisine_type = cuisine_type\n",
        "        self.number_served = 0  \n",
        "\n",
        "    def describe_restaurant(self): \n",
        "        \"\"\"Descreve o restaurante\"\"\" \n",
        "        print(f\"Nome do restaurante: {self.restaurant_name.title()}\")\n",
        "        print(f\"Tipo de cozinha: {self.cuisine_type}\\n\")\n",
        "\n",
        "    def open_restaurant(self):\n",
        "        \"\"\"Informa que o restaurante está aberto\"\"\"  \n",
        "        print(f\"O {self.restaurant_name.title()} está aberto!\")\n",
        "\n",
        "    def set_number_served(self, served):  \n",
        "        \"\"\"Atualiza o número de clientes servidos\"\"\"\n",
        "        self.number_served = served\n",
        "\n",
        "    def increment_number_served(self, number): \n",
        "        \"\"\"Soma a quantidade especifica ao número de pedidos\"\"\"\n",
        "        self.number_served += number\n",
        "\n",
        "    def customers_served(self):\n",
        "        \"\"\"Exibe o número de clientes servidos\"\"\"\n",
        "        print(f\"Clientes servidos: {self.number_served}\")\n",
        "        \n",
        "class IceCreamStand(Restaurant):  # Classe-filha(Classe-pai)\n",
        "    def __init__(self, restaurant_name, cuisine_type, *flavors):\n",
        "        \"\"\"Inicializa os atributos que descrevem uma sorveteria\"\"\"\n",
        "        super().__init__(restaurant_name, cuisine_type)  # chama o método __init__ da classe pai para os atributos desejados\n",
        "        self.flavors = flavors\n",
        "    \n",
        "    def show_flavors(self):\n",
        "        \"\"\"Listagem dos sabores de sorvete\"\"\"\n",
        "        for flavor in self.flavors:\n",
        "            print(flavor)\n",
        "\n",
        "ice_cream_stand = IceCreamStand('Geladoca', 'sorveteria', 'morango', 'chocolate', 'baunilha', 'creme', 'abacaxi')\n",
        "ice_cream_stand.show_flavors()"
      ]
    },
    {
      "cell_type": "markdown",
      "metadata": {
        "id": "YW86L_Zujb9o"
      },
      "source": [
        "##9.7 – Admin\n",
        "Um administrador é um tipo especial de usuário. Escreva uma\n",
        "classe chamada *Admin* que herde da classe *User* escrita no Exercício 9.3 (página 226), ou no Exercício 9.5 (página 232). Adicione um atributo *privileges* que armazene uma lista de strings como \"can add post\", \"can delete post\", \"can ban user\", e assim por diante. Escreva um método chamado *show_privileges()* que liste o conjunto de privilégios de um administrador. Crie uma instância de *Admin* e chame seu método.\n"
      ]
    },
    {
      "cell_type": "code",
      "execution_count": null,
      "metadata": {
        "id": "oSDKzdrljsSg"
      },
      "outputs": [],
      "source": [
        "class User():\n",
        "    \"\"\"Representação de um usuário\"\"\"\n",
        "    def __init__(self, first_name, last_name, username, age):\n",
        "        \"\"\"Inicializa os atributos que descrevem um usuário\"\"\"\n",
        "        self.first_name = first_name.title()\n",
        "        self.last_name = last_name.title()\n",
        "        self.username = username.lower()\n",
        "        self.age = age\n",
        "        self.login_attempts = 0\n",
        "    \n",
        "    def describe_user(self):\n",
        "        \"\"\"descreve as informações do usuário\"\"\"\n",
        "        print(f\"Primeiro nome: {self.first_name}\")\n",
        "        print(f\"Último nome: {self.last_name}\")\n",
        "        print(f\"Nome de usuário: {self.username}\")\n",
        "        print(f\"Idade: {self.age}\")\n",
        "    \n",
        "    def greet_user(self):\n",
        "        \"\"\"exibe uma saudação ao usuário\"\"\"\n",
        "        print(f\"\\nOlá {self.username}, seja bem vindo(a)!\\n\")\n",
        "\n",
        "    def increment_login_attempts(self):\n",
        "        \"\"\"Incrementa o valor 1 à cada tentativa de login\"\"\"\n",
        "        self.login_attempts += 1\n",
        "\n",
        "    def reset_login_attempts(self):\n",
        "        \"\"\"Reseta o número de tentativas de login\"\"\"\n",
        "        self.login_attempts = 0\n",
        "\n",
        "list_privileges = ['can add post', 'can delete post', 'can ban user']  # Lista de privilégios\n",
        "class Admin(User):\n",
        "    \"\"\"Representação de um administrador\"\"\"\n",
        "    def __init__(self, first_name, last_name, username, age):\n",
        "        super().__init__(first_name, last_name, username, age)\n",
        "        self.privileges = list_privileges  # Arnazena 'list_privileges' no atributo 'self.privileges'\n",
        "\n",
        "    def show_privileges(self):\n",
        "        print(\"Privilégios de administrador: \")\n",
        "        for privilege in self.privileges:\n",
        "            print(privilege)\n",
        "\n",
        "user_1 = Admin('cássio', 'ramos', 'cassior12', 35)\n",
        "user_1.show_privileges()"
      ]
    },
    {
      "cell_type": "markdown",
      "metadata": {
        "id": "skBIkIEijsjo"
      },
      "source": [
        "##9.8 – Privilégios\n",
        "Escreva uma classe *Privileges* separada. A classe deve ter um atributo *privileges* que armazene uma lista de strings conforme descrita no Exercício 9.7. Transfira o método *show_privileges()* para essa classe. Crie uma instância de *Privileges* como um atributo da classe *Admin*. Crie uma nova instância de *Admin* e use seu método para exibir os privilégios."
      ]
    },
    {
      "cell_type": "code",
      "execution_count": null,
      "metadata": {
        "id": "SRhHmGw6j8Ou"
      },
      "outputs": [],
      "source": [
        "class User():\n",
        "    \"\"\"Representação de um usuário\"\"\"\n",
        "    def __init__(self, first_name, last_name, username, age):\n",
        "        \"\"\"Inicializa os atributos que descrevem um usuário\"\"\"\n",
        "        self.first_name = first_name.title()\n",
        "        self.last_name = last_name.title()\n",
        "        self.username = username.lower()\n",
        "        self.age = age\n",
        "        self.login_attempts = 0\n",
        "    \n",
        "    def describe_user(self):\n",
        "        \"\"\"descreve as informações do usuário\"\"\"\n",
        "        print(f\"Primeiro nome: {self.first_name}\")\n",
        "        print(f\"Último nome: {self.last_name}\")\n",
        "        print(f\"Nome de usuário: {self.username}\")\n",
        "        print(f\"Idade: {self.age}\")\n",
        "    \n",
        "    def greet_user(self):\n",
        "        \"\"\"exibe uma saudação ao usuário\"\"\"\n",
        "        print(f\"\\nOlá {self.username}, seja bem vindo!\\n\")\n",
        "\n",
        "    def increment_login_attempts(self):\n",
        "        \"\"\"Incrementa o valor 1 à cada tentativa de login\"\"\"\n",
        "        self.login_attempts += 1\n",
        "\n",
        "    def reset_login_attempts(self):\n",
        "        \"\"\"Reseta o número de tentativas de login\"\"\"\n",
        "        self.login_attempts = 0\n",
        "\n",
        "list_privileges = ['can add post', 'can delete post', 'can ban user']\n",
        "class Privileges():\n",
        "    \"\"\"Representação de privilégios\"\"\"\n",
        "    def __init__(self, privileges=list_privileges):  # Define o valor padrão do atributo 'privileges' como 'list_privileges'\n",
        "        self.privileges = privileges  # Arnazena a lista de privilégios no atributo 'privileges'\n",
        "\n",
        "    def show_privileges(self):\n",
        "        print(\"Privilégios de administrador: \")\n",
        "        for privilege in self.privileges:\n",
        "            print(privilege)\n",
        "\n",
        "class Admin(User):\n",
        "    \"\"\"Representação de um administrador\"\"\"\n",
        "    def __init__(self, first_name, last_name, username, age):\n",
        "        super().__init__(first_name, last_name, username, age)\n",
        "        self.privileges = Privileges()  # Cria uma nova instância(default, pois não foi especificado nenhum valor) de \n",
        "                                        # 'Privileges()' e armazena no atributo 'self.privileges'\n",
        "user_1 = Admin('cássio', 'ramos', 'cassior12', 35)\n",
        "user_1.describe_user()\n",
        "print()\n",
        "user_1.privileges.show_privileges()  # Encontra o atributo 'privileges' da instância 'user_1' e usa o método 'show_privileges()' "
      ]
    },
    {
      "cell_type": "markdown",
      "metadata": {
        "id": "NSNRAhK7j8il"
      },
      "source": [
        "##9.9 – Upgrade de bateria\n",
        "Use a última versão de electric_car.py desta seção. Acrescente um método chamado *upgrade_battery()* na classe *Battery*. Esse método deve verificar a capacidade da bateria e defini-la com 85 se o valor for diferente. Crie um carro elétrico com uma capacidade de bateria default, chame *get_range()* uma vez e, em seguida, chame *get_range()* uma segunda vez após fazer um upgrade da bateria. Você deverá ver um aumento na distância que o carro é capaz de percorrer.\n"
      ]
    },
    {
      "cell_type": "code",
      "execution_count": null,
      "metadata": {
        "id": "eo1yvPa3kF2_"
      },
      "outputs": [],
      "source": [
        "class Car(): \n",
        "    \"\"\"Uma tentativa simples de representar um carro.\"\"\"\n",
        "    def __init__(self, make, model, year):\n",
        "        self.make = make\n",
        "        self.model = model \n",
        "        self.year = year \n",
        "        self.odometer_reading = 0\n",
        "\n",
        "    def get_descriptive_name(self): \n",
        "        long_name = str(self.year) + ' ' + self.make + ' ' + self.model \n",
        "        return long_name.title()\n",
        "\n",
        "    def read_odometer(self): \n",
        "        print(\"This car has \" + str(self.odometer_reading) + \" miles on it.\")\n",
        "    \n",
        "    def update_odometer(self, mileage): \n",
        "        if mileage >= self.odometer_reading: \n",
        "            self.odometer_reading = mileage \n",
        "        else: \n",
        "            print(\"You can't roll back an odometer!\")\n",
        "    \n",
        "    def increment_odometer(self, miles): \n",
        "        self.odometer_reading += miles\n",
        "\n",
        "class Battery(): \n",
        "    \"\"\"Uma tentativa simples de modelar uma bateria para um carro elétrico.\"\"\"\n",
        "    def __init__(self, battery_size=70): \n",
        "        \"\"\"Inicializa os atributos da bateria.\"\"\"\n",
        "        self.battery_size = battery_size\n",
        "\n",
        "    def describe_battery(self): \n",
        "        \"\"\"Exibe uma frase que descreve a capacidade da bateria.\"\"\"\n",
        "        print(\"This car has a \" + str(self.battery_size) + \"-kWh battery.\")\n",
        "\n",
        "    def get_range(self): \n",
        "        \"\"\"Exibe uma frase sobre a distância que o carro é capaz de percorrer com essa bateria.\"\"\"\n",
        "        if self.battery_size == 70: \n",
        "            range = 240\n",
        "        elif self.battery_size == 85: \n",
        "            range = 270\n",
        "\n",
        "        message = \"This car can go approximately \" + str(range) \n",
        "        message += \" miles on a full charge.\"\n",
        "        print(message)\n",
        "\n",
        "    def upgrade_battery(self):\n",
        "        self.battery_size = 85\n",
        "\n",
        "class ElectricCar(Car): \n",
        "    \"\"\"Representa aspectos específicos de veículos elétricos.\"\"\"\n",
        "    def __init__(self, make, model, year): \n",
        "        \"\"\"Inicializa os atributos da classe-pai.\"\"\"\n",
        "        super().__init__(make, model, year)\n",
        "        self.battery = Battery()\n",
        "\n",
        "my_tesla = ElectricCar('tesla', 'model s', 2016)\n",
        "print(my_tesla.get_descriptive_name())\n",
        "my_tesla.battery.describe_battery()  # Sem upgrade\n",
        "my_tesla.battery.get_range()         # Sem upgrade\n",
        "\n",
        "print()\n",
        "\n",
        "my_tesla.battery.upgrade_battery()   # Upgrade\n",
        "my_tesla.battery.describe_battery()  # Com upgrade\n",
        "my_tesla.battery.get_range()         # Com upgrade"
      ]
    },
    {
      "cell_type": "markdown",
      "metadata": {
        "id": "aPeGWfVx0OnC"
      },
      "source": [
        "##OBS\n",
        "Importar classes: p.218"
      ]
    },
    {
      "cell_type": "markdown",
      "metadata": {
        "id": "i7oUfGrK18pu"
      },
      "source": [
        "##9.10 – Importando Restaurant\n",
        "Usando sua classe *Restaurant* mais recente, armazene-a em um módulo. Crie um arquivo separado que importe *Restaurant*. Crie uma instância de *Restaurant* e chame um de seus métodos para mostrar que a instrução *import* funciona de forma apropriada.\n"
      ]
    },
    {
      "cell_type": "markdown",
      "metadata": {
        "id": "RHoqX-h72GyI"
      },
      "source": [
        "##9.11 – Importando Admin\n",
        "Comece com seu programa do Exercício 9.8 (página 241). Armazene as classes *User*, *Privileges* e *Admin* em um módulo. Crie um arquivo separado e uma instância de *Admin* e chame *show_privileges()* para mostrar que tudo está funcionando de forma apropriada.\n"
      ]
    },
    {
      "cell_type": "markdown",
      "metadata": {
        "id": "aaQo3XAn2S-E"
      },
      "source": [
        "##9.12 – Vários módulos\n",
        "Armazene a classe *User* em um módulo e as classes *Privileges* e *Admin* em um módulo separado. Em outro arquivo, crie uma instância de *Admin* e chame *show_privileges()* para mostrar que tudo continua funcionando de forma apropriada.\n"
      ]
    },
    {
      "cell_type": "markdown",
      "metadata": {
        "id": "9-XwRjjX2dwH"
      },
      "source": [
        "##9.13 – Reescrevendo o programa com OrderedDict\n",
        "Comece com o Exercício 6.4 (página 155), em que usamos um dicionário-padrão para representar um glossário. Reescreva o programa usando a classe *OrderedDict* e certifique-se de que a ordem da saída coincida com a ordem em que os pares chave-valor foram adicionados ao dicionário.\n"
      ]
    },
    {
      "cell_type": "code",
      "execution_count": null,
      "metadata": {
        "id": "H11oj-uxY4ri"
      },
      "outputs": [],
      "source": [
        "glossary = {\n",
        "    \"if\": \"estrutura condicional 'se'\",\n",
        "    \"for\": \"estrutura de repetição 'para'\",\n",
        "    \".lower()\": 'deixa todas as letras minúsculas',\n",
        "    \".upper()\": 'deixa todas as letras maiúsculas',\n",
        "    \"float\": 'número real (com ponto flutuante)' \n",
        "}\n",
        "\n",
        "for word, meaning in glossary.items(): \n",
        "    print(f\"{word}: {meaning}\\n\")      "
      ]
    },
    {
      "cell_type": "code",
      "execution_count": null,
      "metadata": {
        "id": "ApAKLl2bZv0I"
      },
      "outputs": [],
      "source": [
        "from collections import OrderedDict  # Importa a classe OrderedDict, que mantêm o controle da ordem em que os pares \n",
        "                                     # chave-valor são adicionados.\n",
        "glossary = OrderedDict()\n",
        "\n",
        "glossary[\"if\"] = \"estrutura condicional 'se'\"\n",
        "glossary[\".upper()\"] = 'deixa todas as letras maiúsculas'\n",
        "glossary[\"for\"] = \"estrutura de repetição 'para'\"\n",
        "glossary[\"float\"] = 'número real (com ponto flutuante)'\n",
        "glossary[\".lower()\"] = 'deixa todas as letras minúsculas'\n",
        "\n",
        "for palavra, significado in glossary.items():\n",
        "    print(f\"{palavra}: {significado}\\n\")"
      ]
    },
    {
      "cell_type": "markdown",
      "metadata": {
        "id": "ib6wZwj-Y48j"
      },
      "source": [
        "##9.14 – Dados\n",
        "O módulo *random* contém funções que geram números aleatórios\n",
        "de várias maneiras. A função *randint()* devolve um inteiro no intervalo especificado por você. O código a seguir devolve um número entre 1 e 6: from random import randint x = randint(1, 6) \n",
        "\n",
        "Crie uma classe *Die* com um atributo chamado *sides*, cujo valor default é 6. Escreva um método chamado *roll_die()* que exiba um número aleatório entre 1 e o número de lados do dado. Crie um dado de seis dados e lance-o dez vezes. Crie um dado de dez lados e outro de vinte lados. Lance cada dado dez vezes.\n"
      ]
    },
    {
      "cell_type": "code",
      "execution_count": null,
      "metadata": {
        "id": "gjMWvJZAZO1L"
      },
      "outputs": [],
      "source": [
        "from random import randint  # random --> Módulo que contém funções que geram números aleatórios de várias maneiras\n",
        "\n",
        "class Die():\n",
        "    \"\"\"Representa um dado\"\"\"\n",
        "    def __init__(self, sides=6):\n",
        "        \"\"\"Descreve um dado\"\"\"\n",
        "        self.sides = sides\n",
        "\n",
        "    def roll_die(self):\n",
        "        \"\"\"Rola um dado de retorna um dos lados\"\"\"\n",
        "        self.side = randint(1, self.sides)  # x = randint(y, z) --> Devolve um inteiro no intervalo de 'y' a 'z'.\n",
        "        print(self.side)\n",
        "    \n",
        "dado_6_lados = Die()     # ou dado_6_lados = Die(6)\n",
        "print(\"Dado de 6 lados: \")\n",
        "for i in range(10):\n",
        "    dado_6_lados.roll_die()\n",
        "\n",
        "\n",
        "dado_10_lados = Die(10)\n",
        "print(\"\\nDado de 10 lados: \")\n",
        "for i in range(10):\n",
        "    dado_10_lados.roll_die()\n",
        "\n",
        "dado_20_lados = Die(20)\n",
        "print(\"\\nDado de 20 lados: \")\n",
        "for i in range(10):\n",
        "    dado_20_lados.roll_die()"
      ]
    },
    {
      "cell_type": "markdown",
      "metadata": {
        "id": "52C_7IhHZPG7"
      },
      "source": [
        "##9.15 – Módulo Python da semana\n",
        "Um excelente recurso para explorar a biblioteca-padrão de Python é um site chamado Python Module of the Week (Módulo Python da semana). Acesse http://pymotw.com/ e observe a tabela de conteúdo. Encontre um módulo que pareça ser interessante e leia a sua descrição ou explore a documentação dos módulos *collections* e *random*.\n"
      ]
    },
    {
      "cell_type": "markdown",
      "metadata": {
        "id": "ehk-_7ZUBa1z"
      },
      "source": [
        "# ***10 - ARQUIVOS E EXCEÇÕES***"
      ]
    },
    {
      "cell_type": "markdown",
      "metadata": {
        "id": "rLUrmcsmB3m6"
      },
      "source": [
        "##OBS\n",
        "Arquivos: p. 228"
      ]
    },
    {
      "cell_type": "markdown",
      "metadata": {
        "id": "ZZKNu93UA9fL"
      },
      "source": [
        "##10.1 – Aprendendo Python\n",
        "Abra um arquivo em branco em seu editor de texto e escreva algumas linhas que sintetizem o que você aprendeu sobre Python até agora. Comece cada linha com a expressão Em Python podemos.... Salve o arquivo como *learning_python.txt* no mesmo diretório em que estão seus exercícios deste capítulo. Escreva um programa que leia o arquivo e mostre o que você escreveu, três vezes. Exiba o conteúdo uma vez lendo o arquivo todo, uma vez percorrendo o objeto arquivo com um laço e outra armazenando as linhas em uma lista e então trabalhando com ela fora do bloco *with*.\n"
      ]
    },
    {
      "cell_type": "code",
      "execution_count": null,
      "metadata": {
        "id": "Eaq9r_8ABJfi"
      },
      "outputs": [],
      "source": [
        "with open('learning_python.txt') as file_object:  # with open('nome_arquivo.txt') as file_object: --> necessario para abrir o arquivo .txt\n",
        "    contents = file_object.read()  # armazena o texto na variavel contents\n",
        "\n",
        "print(contents.rstrip())  # .rstrip() --> Remover a  ultima linha em branco\n",
        "\n",
        "# OBS!!!\n",
        "\n",
        "# ('caminho_completo_arquivo') --> caso esteja em outro diretório"
      ]
    },
    {
      "cell_type": "code",
      "execution_count": null,
      "metadata": {
        "id": "SOoJr6AaCyaf"
      },
      "outputs": [],
      "source": [
        "filename = 'learning_python.txt'\n",
        "\n",
        "with open(filename) as file_object: \n",
        "    for line in file_object:\n",
        "        print(line.rstrip())"
      ]
    },
    {
      "cell_type": "code",
      "execution_count": null,
      "metadata": {
        "id": "4wGJKEjdDtbt"
      },
      "outputs": [],
      "source": [
        "filename = 'learning_python.txt'\n",
        "\n",
        "with open(filename) as file_object: \n",
        "    lines = file_object.readlines()  # .readlines() --> armazena as linhas do arquivo em uma lista\n",
        "\n",
        "for line in lines:\n",
        "    print(line.rstrip())"
      ]
    },
    {
      "cell_type": "code",
      "execution_count": null,
      "metadata": {
        "id": "HJnab8gmydC0"
      },
      "outputs": [],
      "source": [
        "# OBS!!!\n",
        "\n",
        "file = open('teste.txt', 'w+')  # 'w+' --> escrever e ler\n",
        "file.write('Linha 1\\n')\n",
        "file.write('Linha 2\\n')\n",
        "file.write('Linha 3')\n",
        "\n",
        "file.seek(0, 0)\n",
        "print('Lendo linhas: ')\n",
        "print(file.read())\n",
        "\n",
        "print('\\n################\\n')\n",
        "\n",
        "file.seek(0, 0)\n",
        "print('Lendo linhas: ')\n",
        "print(file.readline(), end='')\n",
        "print(file.readline(), end='')\n",
        "print(file.readline(), end='')\n",
        "\n",
        "print('\\n################\\n')\n",
        "\n",
        "file.seek(0, 0)\n",
        "print('Lendo linhas: ')\n",
        "for linha in file.readlines():   # for linha in file:\n",
        "    print(linha, end='')"
      ]
    },
    {
      "cell_type": "markdown",
      "metadata": {
        "id": "tVFc4jieEQ95"
      },
      "source": [
        "##10.2 – Aprendendo C\n",
        "Você pode usar o método *replace()* para substituir qualquer palavra por uma palavra diferente em uma string. Eis um exemplo rápido que mostra como substituir a palavra *'dog'* por *'cat'* em uma frase:\n",
        "\n",
        "*message = \"I really like dogs.\"*\n",
        "\n",
        "*message.replace('dog', 'cat')* 'I really like cats.'\n",
        "\n",
        "Leia cada linha do arquivo *learning_python.txt* que você acabou de criar e substitua a palavra *Python* pelo nome de outra linguagem, por exemplo, *C*. Mostre cada linha modificada na tela."
      ]
    },
    {
      "cell_type": "code",
      "execution_count": null,
      "metadata": {
        "id": "rlK_ppcLEt0S"
      },
      "outputs": [],
      "source": [
        "filename = 'learning_python.txt'\n",
        "\n",
        "with open(filename) as file_object:\n",
        "    for line in file_object:\n",
        "        print(line.replace('Python', 'C'))"
      ]
    },
    {
      "cell_type": "markdown",
      "metadata": {
        "id": "BGTyZ0E1GBax"
      },
      "source": [
        "##10.3 – Convidado\n",
        "Escreva um programa que pergunte o nome ao usuário. Quando ele responder, escreva o nome em um arquivo chamado *guest.txt*.\n"
      ]
    },
    {
      "cell_type": "code",
      "execution_count": null,
      "metadata": {
        "id": "caex1wjpbh1n"
      },
      "outputs": [],
      "source": [
        "name = input(\"Qual o seu nome? \")\n",
        "\n",
        "filename = 'guest.txt'\n",
        "with open(filename, 'w') as file_object:  # 'w' --> Escrever no arquivo\n",
        "    file_object.write(name.title())"
      ]
    },
    {
      "cell_type": "markdown",
      "metadata": {
        "id": "hf29Up8Vbkkk"
      },
      "source": [
        "##10.4 – Lista de convidados\n",
        "Escreva um laço *while* que pergunte o nome aos usuários. Quando fornecerem seus nomes, apresente uma saudação na tela e acrescente uma linha que registre a visita do usuário em um arquivo chamado *guest_book.txt*. Certifique-se de que cada entrada esteja em uma nova linha do arquivo."
      ]
    },
    {
      "cell_type": "code",
      "execution_count": null,
      "metadata": {
        "id": "6tAeWGxzbtml"
      },
      "outputs": [],
      "source": [
        "print(\"Digite 'q' caso queira parar\\n\")\n",
        "\n",
        "while True:    \n",
        "    name = input(\"Qual o seu nome? \")\n",
        "    if name.lower() == 'q':\n",
        "        break\n",
        "    else:\n",
        "        print(f\"Olá {name.title()}!\\n\")\n",
        "\n",
        "        filename = 'guest_book.txt'\n",
        "        with open(filename, 'a') as file_object:  # 'a' --> cria um arquivo novo se não existir ou concatena com ele caso já exista\n",
        "            file_object.write(f\"{name.title()} visitou o programa.\\r\\n\")  # OBS: não estava realizando a quebra de linha com \\n,\n",
        "                                                                          # portanto utilizei \\r\\n."
      ]
    },
    {
      "cell_type": "markdown",
      "metadata": {
        "id": "UCi_x4sibt93"
      },
      "source": [
        "##10.5 – Enquete sobre programação\n",
        "Escreva um laço *while* que pergunte às pessoas por que elas gostam de programação. Sempre que alguém fornecer um motivo, acrescente-o em um arquivo que armazene todas as respostas.\n"
      ]
    },
    {
      "cell_type": "code",
      "execution_count": null,
      "metadata": {
        "id": "VOoD0uh_b0E_"
      },
      "outputs": [],
      "source": [
        "while True:\n",
        "    answers = input(\"Por que você gosta de programação? \")\n",
        "    repeat = input(\"Outra pessoa vai responder a enquete? (sim/nao) \")\n",
        "    if repeat.lower() == \"nao\":\n",
        "        break \n",
        "    else:\n",
        "        print()\n",
        "\n",
        "    filename = 'survey.txt'\n",
        "    with open(filename, 'a') as file_object:\n",
        "        file_object.write(answers.capitalize() + \"\\r\\n\")"
      ]
    },
    {
      "cell_type": "markdown",
      "metadata": {
        "id": "n_bXqJ-hrB_K"
      },
      "source": [
        "##10.6 – Adição\n",
        "Um problema comum quando pedir entradas numéricas ocorre quando as pessoas fornecem texto no lugar de números. Ao tentar converter a entrada para um *int*, você obterá um *TypeError*. Escreva um programa que peça dois números ao usuário. Some-os e mostre o resultado. Capture o *TypeError* caso algum dos valores de entrada não seja um número e apresente uma mensagem de erro simpática. Teste seu programa fornecendo dois números e, em seguida, digite um texto no lugar de um número."
      ]
    },
    {
      "cell_type": "code",
      "execution_count": null,
      "metadata": {
        "id": "wkaZizLLK03o"
      },
      "outputs": [],
      "source": [
        "print(\"Digite '0' para sair\")\n",
        "while True:\n",
        "    try:\n",
        "        numero_1 = float(input(\"\\nDigite um número: \"))\n",
        "        if numero_1 == 0:\n",
        "            break\n",
        "        numero_2 = float(input(\"Digite outro número: \"))\n",
        "\n",
        "    except ValueError:  # erro em transformar 'string' em 'float'\n",
        "        print(\"Insira um número válido!\")  # mostra essa mensagem ao usuário ao invés do traceback\n",
        "    \n",
        "    else:\n",
        "        print(f\"{numero_1} + {numero_2} = {numero_1 + numero_2:.2f}\")  # se estiver tudo correto no 'try', o else será executado"
      ]
    },
    {
      "cell_type": "code",
      "execution_count": null,
      "metadata": {
        "id": "ADb4lb-fdm7Y"
      },
      "outputs": [],
      "source": [
        "# OUTRO EXEMPLO DE ERRO\n",
        "\n",
        "print(\"Give me two numbers, and I'll divide them.\")\n",
        "print(\"Enter 'q' to quit.\")\n",
        "while True: \n",
        "    first_number = input(\"\\nFirst number: \") \n",
        "    if first_number == 'q': \n",
        "        break \n",
        "    second_number = input(\"Second number: \") \n",
        "    \n",
        "    try: \n",
        "        answer = int(first_number) / int(second_number) \n",
        "    \n",
        "    except ZeroDivisionError:  # erro de divisão por 0\n",
        "        print(\"You can't divide by 0!\") \n",
        "    \n",
        "    else: print(answer)"
      ]
    },
    {
      "cell_type": "code",
      "execution_count": null,
      "metadata": {
        "id": "o2d5zWPe167A"
      },
      "outputs": [],
      "source": [
        "# OBS\n",
        "\n",
        "# Imprimir o nome do erro quando usar Exception\n",
        "\n",
        "try:\n",
        "    print(2 / 0)\n",
        "except Exception as e:\n",
        "    print(e.__class__.__name__)"
      ]
    },
    {
      "cell_type": "code",
      "execution_count": null,
      "metadata": {
        "id": "QM-OJS1n9OZ2"
      },
      "outputs": [],
      "source": [
        "# OBS\n",
        "\n",
        "# Levantando exceções (raise)\n",
        "\n",
        "def divide(n1, n2):\n",
        "    if n2 == 0:\n",
        "        raise ValueError(\"n2 não pode ser 0.\")\n",
        "    return n1/n2\n",
        "\n",
        "try:\n",
        "    print(divide(n1=2, n2=0))\n",
        "except ValueError as error:\n",
        "    print(\"Você está tentando dividir por 0.\")\n",
        "    print(\"Log:\", error)"
      ]
    },
    {
      "cell_type": "code",
      "execution_count": null,
      "metadata": {
        "id": "m0Z5p4rqz2_J"
      },
      "outputs": [],
      "source": [
        "# OBS!!!\n",
        "\n",
        "try:\n",
        "    print('Teste')\n",
        "except Exception:\n",
        "    print('Erro')\n",
        "finally:\n",
        "    print('Sempre será executado!')"
      ]
    },
    {
      "cell_type": "markdown",
      "metadata": {
        "id": "2KIwFmKQK1LA"
      },
      "source": [
        "##10.7 – Calculadora para adição\n",
        "Coloque o código do Exercício 10.6 em um laço *while* para que o usuário possa continuar fornecendo números, mesmo se cometerem um erro e digitarem um texto no lugar de um número.\n"
      ]
    },
    {
      "cell_type": "code",
      "execution_count": null,
      "metadata": {
        "id": "E7VUSYXoK_7l"
      },
      "outputs": [],
      "source": [
        "print(\"Digite '0' para sair\")\n",
        "while True:\n",
        "    try:\n",
        "        numero_1 = float(input(\"\\nDigite um número: \"))\n",
        "        if numero_1 == 0:\n",
        "            break\n",
        "        numero_2 = float(input(\"Digite outro número: \"))\n",
        "\n",
        "    except ValueError:\n",
        "        print(\"Insira um número válido!\")  \n",
        "    \n",
        "    else:\n",
        "        print(f\"{numero_1} + {numero_2} = {numero_1 + numero_2:.2f}\")"
      ]
    },
    {
      "cell_type": "code",
      "source": [
        "# Outro exemplo de Try / Except\n",
        "\n",
        "def converte_numero(valor):\n",
        "    try:\n",
        "        valor = int(valor)\n",
        "        return valor\n",
        "    except ValueError:\n",
        "        try:\n",
        "            valor = float(valor)\n",
        "            return valor\n",
        "        except ValueError:\n",
        "            pass\n",
        "\n",
        "while True:\n",
        "    numero = converte_numero(input('Digite um número (0 para sair): '))\n",
        "\n",
        "    if numero == 0:\n",
        "        break\n",
        "\n",
        "    if numero is not None:\n",
        "        print(numero * 5)\n",
        "    else:\n",
        "        print('Não é um número.')"
      ],
      "metadata": {
        "id": "YLxXnkdXJ1rn"
      },
      "execution_count": null,
      "outputs": []
    },
    {
      "cell_type": "markdown",
      "metadata": {
        "id": "Zfq-74gZLAK3"
      },
      "source": [
        "##10.8 – Gatos e cachorros\n",
        "Crie dois arquivos, *cats.txt* e *dogs.txt*. Armazene pelo menos três nomes de gatos no primeiro arquivo e três nomes de cachorro no segundo arquivo. Escreva um programa que tente ler esses arquivos e mostre o\n",
        "conteúdo do arquivo na tela. Coloque seu código em um bloco *try-except* para capturar o erro *FileNotFound* e apresente uma mensagem simpática caso o arquivo não esteja presente. Mova um dos arquivos para um local diferente de seu sistema e garanta que o código no bloco *except* seja executado de forma apropriada.\n"
      ]
    },
    {
      "cell_type": "code",
      "execution_count": null,
      "metadata": {
        "id": "E3iaOP18LPzP"
      },
      "outputs": [],
      "source": [
        "filenames = ['cats.txt', 'birds.txt', 'dogs.txt']\n",
        "\n",
        "for filename in filenames:\n",
        "    try:\n",
        "        with open(filename, 'r') as file_object:\n",
        "            lines = file_object.readlines()\n",
        "\n",
        "    except FileNotFoundError:\n",
        "        print(f\"Arquivo '{filename}' não encontrado.\")\n",
        "\n",
        "    else:\n",
        "        for line in lines:\n",
        "            print(line.rstrip())\n",
        "    print()"
      ]
    },
    {
      "cell_type": "code",
      "execution_count": null,
      "metadata": {
        "id": "PT4hU2010iZI"
      },
      "outputs": [],
      "source": [
        "# OBS!!!\n",
        "\n",
        "with open ('teste.txt', 'w+') as f_object:\n",
        "    f_object.write('Linha 1\\n')\n",
        "    f_object.write('Linha 2\\n')\n",
        "    f_object.write('Linha 3')\n",
        "\n",
        "    f_object.seek(0)\n",
        "    print('Lendo linhas:')\n",
        "    print(f_object.read())"
      ]
    },
    {
      "cell_type": "markdown",
      "metadata": {
        "id": "b0VQej8gLQKf"
      },
      "source": [
        "##10.9 – Gatos e cachorros silenciosos\n",
        "Modifique o seu bloco *except* do Exercício 10.8 para falhar silenciosamente caso um dos arquivos esteja ausente.\n"
      ]
    },
    {
      "cell_type": "code",
      "execution_count": null,
      "metadata": {
        "id": "k48SSkqMLgFX"
      },
      "outputs": [],
      "source": [
        "filenames = ['cats.txt', 'birds.txt', 'dogs.txt']\n",
        "\n",
        "for filename in filenames:\n",
        "    try:\n",
        "        with open(filename, 'r') as file_object:\n",
        "            lines = file_object.readlines()\n",
        "\n",
        "    except FileNotFoundError:\n",
        "        pass  # Nenhum traceback é gerado e não há nenhuma saída em resposta ao erro levantado.\n",
        "\n",
        "    else:\n",
        "        for line in lines:\n",
        "            print(line.rstrip())\n",
        "    print()"
      ]
    },
    {
      "cell_type": "markdown",
      "metadata": {
        "id": "KCI14hoALgdi"
      },
      "source": [
        "##10.10 – Palavras comuns\n",
        "Acesse o Projeto Gutenberg (http://gutenberg.org/ ) e encontre alguns textos que você gostaria de analisar. Faça download dos arquivos-texto dessas obras ou copie o texto puro de seu navegador para um arquivo-texto em seu computador.\n",
        "\n",
        "Você pode usar o método *count()* para descobrir quantas vezes uma palavra ou expressão aparece em uma string. Por exemplo, o código a seguir conta\n",
        "quantas vezes a palavra *'row'* aparece em uma string:\n",
        "\n",
        "*line = \"Row, row, row your boat\"*\n",
        "\n",
        "*line.count('row') 2*\n",
        "\n",
        "*line.lower().count('row') 3*\n",
        "\n",
        "Observe que converter a string para letras minúsculas usando *lower()* faz com que todas as formas da palavra que você está procurando sejam capturadas, independentemente do modo como elas estiverem grafadas.\n",
        "Escreva um programa que leia os arquivos que você encontrou no Projeto\n",
        "Gutenberg e determine quantas vezes a palavra *'the'* aparece em cada texto.\n"
      ]
    },
    {
      "cell_type": "code",
      "execution_count": null,
      "metadata": {
        "id": "nM9jo6HsMIdd"
      },
      "outputs": [],
      "source": [
        "filenames = ['alice_in_wonderland.txt', 'arsene_lupin.txt']\n",
        "\n",
        "for filename in filenames:\n",
        "    with open(filename, 'rt') as file_object:\n",
        "        contents = file_object.read()\n",
        "        the_number = contents.lower().count('the')  # .count(valor) --> retorna quantas vezes um valor aparece em uma string\n",
        "        print(f\"'{filename}' tem {the_number} 'the'.\") "
      ]
    },
    {
      "cell_type": "code",
      "execution_count": null,
      "metadata": {
        "id": "SVUZL36WsgTa"
      },
      "outputs": [],
      "source": [
        "def count_words(filename):\n",
        "    \"\"\"Conta o número aproximado de palavras em um arquivo\"\"\"\n",
        "    try: \n",
        "        with open(filename) as f_obj: \n",
        "            contents = f_obj.read() \n",
        "    except FileNotFoundError: \n",
        "        print(f\"Sorry, the file '{filename}' does not exist.\"\") \n",
        "    else: # Conta o número aproximado de palavras no arquivo\n",
        "        words = contents.split() \n",
        "        num_words = len(words) \n",
        "        print(f\"The file {filename} has about {str(num_words)} words.\")\n",
        "\n",
        "filenames = ['alice_in_wonderland.txt', 'arsene_lupin.txt']\n",
        "\n",
        "for filename in filenames:\n",
        "    count_words(filename)"
      ]
    },
    {
      "cell_type": "markdown",
      "metadata": {
        "id": "FVNmQ2ZLMA-R"
      },
      "source": [
        "##10.11 – Número favorito\n",
        "Escreva um programa que pergunte qual é o número favorito de um usuário. Use *json.dump()* para armazenar esse número em um arquivo. Escreva um programa separado que leia esse valor e apresente a mensagem “Eu sei qual é o seu número favorito! É _____.”.\n"
      ]
    },
    {
      "cell_type": "code",
      "execution_count": null,
      "metadata": {
        "id": "2YZ8idhKDT9T"
      },
      "outputs": [],
      "source": [
        "import json\n",
        "\n",
        "number = int(input(\"Qual o seu número favorito? \"))\n",
        "\n",
        "filename = 'number.json'\n",
        "with open(filename, 'w') as file_object:\n",
        "    json.dump(number, file_object)  # json.dump --> armazena dados em um arquivo permitindo reutilizá-lo novamente depois, mesmo fechando o programa."
      ]
    },
    {
      "cell_type": "code",
      "execution_count": null,
      "metadata": {
        "id": "X62f6IvGEOLt"
      },
      "outputs": [],
      "source": [
        "import json\n",
        "\n",
        "filename = 'number.json'\n",
        "with open(filename) as f_obj:\n",
        "    number = json.load(f_obj)  # json.load --> lê/carrega os dados armazenados no arquivo aberto\n",
        "    print(f\"Eu sei qual é o seu número favorito! É {number}.\")"
      ]
    },
    {
      "cell_type": "markdown",
      "metadata": {
        "id": "mZHcynMoDUNT"
      },
      "source": [
        "##10.12 – Lembrando o número favorito\n",
        "Combine os dois programas do Exercício 10.11 em um único arquivo. Se o número já estiver armazenado, informe o número favorito ao usuário. Caso contrário, pergunte ao usuário qual é o seu número favorito e armazene-o em um arquivo. Execute o programa duas vezes para garantir que ele funciona.\n"
      ]
    },
    {
      "cell_type": "code",
      "execution_count": null,
      "metadata": {
        "id": "bw_nph4SDcVD"
      },
      "outputs": [],
      "source": [
        "import json\n",
        "\n",
        "filename = 'number.json' \n",
        "try:\n",
        "    with open(filename) as f_obj:\n",
        "        number = json.load(f_obj)\n",
        "\n",
        "except FileNotFoundError:\n",
        "    number = int(input(\"Qual o seu número favorito? \"))\n",
        "    filename = 'number.json'\n",
        "    with open(filename, 'w') as f_obj:\n",
        "        json.dump(number, f_obj)\n",
        "\n",
        "else:\n",
        "    print(f\"Eu sei qual é o seu número favorito! É {number}.\")"
      ]
    },
    {
      "cell_type": "markdown",
      "metadata": {
        "id": "EVBPv6-6Dcmr"
      },
      "source": [
        "##10.13 – Verificando se é o usuário correto\n",
        "A última listagem de remember_me.py supõe que o usuário já forneceu seu nome ou que o programa está executando pela primeira vez. Devemos modificá-lo para o caso de o usuário atual não ser a pessoa que usou o programa pela última vez. Antes de exibir uma mensagem de boas-vindas de volta em *greet_user()*, pergunte ao usuário se seu nome está correto. Se não estiver, chame *get_new_username()* para obter o nome correto.\n"
      ]
    },
    {
      "cell_type": "code",
      "execution_count": null,
      "metadata": {
        "id": "4OZObIo7Dkk6"
      },
      "outputs": [],
      "source": [
        "import json\n",
        "\n",
        "def get_stored_username(): \n",
        "    \"\"\"Obtém o nome do usuário já armazenado se estiver disponível.\"\"\"\n",
        "    filename = 'username.json'\n",
        "    try: \n",
        "        with open(filename) as f_obj: \n",
        "            username = json.load(f_obj)     \n",
        "    except FileNotFoundError: \n",
        "        return None     \n",
        "    else: \n",
        "        return username\n",
        "\n",
        "def get_new_username(): \n",
        "    \"\"\"Pede um novo nome de usuário.\"\"\"\n",
        "    username = input(\"What is your name? \") \n",
        "    filename = 'username.json'\n",
        "    with open(filename, 'w') as f_obj: \n",
        "        json.dump(username, f_obj) \n",
        "    return username\n",
        "\n",
        "def greet_user(): \n",
        "    \"\"\"Saúda o usuário pelo nome.\"\"\"\n",
        "    username = get_stored_username()\n",
        "    if username == None:\n",
        "        username = get_new_username()\n",
        "        print(f\"We'll remember you when you come back, {username}!\")\n",
        "    else:\n",
        "        correct_name = input(f\"Your name is {username}? (yes/no) \")\n",
        "        if correct_name.lower() == 'yes': \n",
        "            print(f\"Welcome back, {username}!\") \n",
        "        else: \n",
        "            username = get_new_username() \n",
        "            print(f\"We'll remember you when you come back, {username}!\")\n",
        "\n",
        "greet_user()"
      ]
    },
    {
      "cell_type": "markdown",
      "source": [
        "##Obs: CSV"
      ],
      "metadata": {
        "id": "iln70ILfQeY7"
      }
    },
    {
      "cell_type": "code",
      "source": [
        "\"\"\"\n",
        "Comma Separated Values - CSV (Valores separados por vírgula)\n",
        "É um formato de dados muito usado em tabelas (Excel, Google Sheets), bases de\n",
        "dados, clientes de e-mail, etc...\n",
        "\"\"\"\n",
        "\n",
        "import csv\n",
        "\n",
        "\n",
        "with open('clientes.csv', 'r') as arquivo:\n",
        "    # Retorna listas\n",
        "    dados = csv.reader(arquivo)\n",
        "\n",
        "    # next() --> retirar cabeçalho (primeira linha)\n",
        "\n",
        "    for dado in dados:\n",
        "        print(dado)\n",
        "\n",
        "print()\n",
        "\n",
        "with open('clientes.csv', 'r') as arquivo:\n",
        "    # Retorna dicionários\n",
        "    dados = csv.DictReader(arquivo)\n",
        "\n",
        "    # next() --> retirar cabeçalho (primeira linha)\n",
        "\n",
        "    for dado in dados:\n",
        "        print(dado)  # dado['Nome'], dado['Sobrenome'], ...\n",
        "\n",
        "print()\n",
        "\n",
        "with open('clientes.csv', 'r') as arquivo:\n",
        "    # List Comprehension permite que utilize a variável dados fora do with\n",
        "    dados = [info for info in csv.DictReader(arquivo)]\n",
        "\n",
        "for dado in dados:\n",
        "    print(dado)\n",
        "\n",
        "print()\n",
        "\n",
        "with open('clientes_2.csv', 'w') as arquivo:\n",
        "    escritor = csv.writer(\n",
        "        arquivo, delimiter=',', quotechar='\"', quoting=csv.QUOTE_ALL\n",
        "    )\n",
        "\n",
        "    chaves = dados[0].keys()\n",
        "    chaves = list(chaves)\n",
        "    escritor.writerow(\n",
        "        [\n",
        "            chaves[0],\n",
        "            chaves[1],\n",
        "            chaves[2],\n",
        "            chaves[3]\n",
        "        ]\n",
        "    )\n",
        "\n",
        "    for dado in dados:\n",
        "        escritor.writerow(\n",
        "            [\n",
        "                dado['Nome'],\n",
        "                dado['Sobrenome'],\n",
        "                dado['E-mail'],\n",
        "                dado['Telefone']\n",
        "            ]\n",
        "        )\n"
      ],
      "metadata": {
        "id": "rsi5ztaJQdUx"
      },
      "execution_count": null,
      "outputs": []
    },
    {
      "cell_type": "markdown",
      "metadata": {
        "id": "xjRwV3DFWM0M"
      },
      "source": [
        "# ***11 - TESTANDO SEU CÓDIGO***"
      ]
    },
    {
      "cell_type": "markdown",
      "metadata": {
        "id": "EGcMQOvQWS_r"
      },
      "source": [
        "##11.1 – Cidade, país\n",
        "Escreva uma função que aceite dois parâmetros: o nome de uma cidade e o nome de um país. A função deve devolver uma única string no formado *Cidade, País*, por exemplo, *Santiago, Chile*. Armazene a função em um módulo chamado city_functions.py.\n",
        "\n",
        "Crie um arquivo de nome test_cities.py que teste a função que você acabou de escrever (lembre-se de que é necessário importar *unittest* e a função que você quer testar). Escreva um método chamado *test_city_country()* para conferir se a chamada à sua função com valores como *'santiago'* e *'chile'* resulta na string correta. Execute test_cities.py e garanta que *test_city_country()* passe no teste.\n"
      ]
    },
    {
      "cell_type": "code",
      "execution_count": null,
      "metadata": {
        "id": "ZOrwUDoiheVj"
      },
      "outputs": [],
      "source": [
        "def city_country(name, country):\n",
        "    formated_city_country = name.title() + ', ' + country.title()\n",
        "    return formated_city_country"
      ]
    },
    {
      "cell_type": "code",
      "execution_count": null,
      "metadata": {
        "id": "mSvT5OJyiXAk"
      },
      "outputs": [],
      "source": [
        "import unittest\n",
        "\n",
        "class CitiesTestCase(unittest.TestCase):\n",
        "    \"\"\"Testes para a função 'city_coutry'\"\"\"\n",
        "    def test_city_country(self):\n",
        "        \"\"\"Cidade como 'Santiago, Chile' funciona?\"\"\"\n",
        "        santiago_chile = city_country('santiago', 'chile')\n",
        "        self.assertEqual(santiago_chile, 'Santiago, Chile')\n",
        "\n",
        "if __name__ == '__main__':\n",
        "    unittest.main(argv=['first-arg-is-ignored'], exit=False)  # Apenas unittest.main() não estava funcionando"
      ]
    },
    {
      "cell_type": "markdown",
      "metadata": {
        "id": "s6aT5q86hhsj"
      },
      "source": [
        "##11.2 – População\n",
        "Modifique sua função para que ela exija um terceiro parâmetro, *population*. Agora ela deve devolver uma única string no formato *Cidade, País – população xxx*, por exemplo, *Santiago, Chile – população 5000000*. Execute test_cities.py novamente. Certifique-se de que *test_city_country()* falhe dessa vez.\n",
        "\n",
        "Modifique a função para que o parâmetro *population* seja opcional. Execute test_cities.py novamente e garanta que *test_city_country()* passe novamente. Escreva um segundo teste chamado *test_city_country_population()* que verifique se você pode chamar sua função com os valores *'santiago'*, *'chile'* e *'population=5000000'*. Execute test_cities.py novamente e garanta que esse novo teste passe.\n"
      ]
    },
    {
      "cell_type": "code",
      "execution_count": null,
      "metadata": {
        "id": "_pIrwZoinP1O"
      },
      "outputs": [],
      "source": [
        "def city_country(name, country, population):\n",
        "    formated_city_country = name.title() + ', ' + country.title() + ' - população ' + str(population)\n",
        "    return formated_city_country"
      ]
    },
    {
      "cell_type": "code",
      "execution_count": null,
      "metadata": {
        "id": "5_R7PlfmiDMy"
      },
      "outputs": [],
      "source": [
        "import unittest\n",
        "\n",
        "class CitiesTestCase(unittest.TestCase):\n",
        "    \"\"\"Testes para a função 'city_coutry'\"\"\"\n",
        "    def test_city_country(self):\n",
        "        \"\"\"Cidade como 'Santiago, Chile' funciona?\"\"\"\n",
        "        santiago_chile = city_country('santiago', 'chile')\n",
        "        self.assertEqual(santiago_chile, 'Santiago, Chile')\n",
        "\n",
        "if __name__ == '__main__':\n",
        "    unittest.main(argv=['first-arg-is-ignored'], exit=False)"
      ]
    },
    {
      "cell_type": "code",
      "execution_count": null,
      "metadata": {
        "id": "9zbx78TOsixq"
      },
      "outputs": [],
      "source": [
        "def city_country(name, country, population=0):\n",
        "    formated_city_country = name.title() + ', ' + country.title()\n",
        "    if population:\n",
        "        formated_city_country += ' - população ' + str(population)\n",
        "    return formated_city_country"
      ]
    },
    {
      "cell_type": "code",
      "execution_count": null,
      "metadata": {
        "id": "eyYQXSDisjCa"
      },
      "outputs": [],
      "source": [
        "import unittest\n",
        "\n",
        "class CitiesTestCase(unittest.TestCase):\n",
        "    \"\"\"Testes para a função 'city_coutry'\"\"\"\n",
        "    def test_city_country(self):\n",
        "        \"\"\"Cidade como 'Santiago, Chile' funciona?\"\"\"\n",
        "        santiago_chile = city_country('santiago', 'chile')\n",
        "        self.assertEqual(santiago_chile, 'Santiago, Chile')\n",
        "\n",
        "    def test_city_country_population(self):\n",
        "        \"\"\"Posso incluir o argumento 'population'?\"\"\"\n",
        "        santiago_chile = city_country('santiago', 'chile', population=5000000)\n",
        "        self.assertEqual(santiago_chile, 'Santiago, Chile - população 5000000')\n",
        "\n",
        "if __name__ == '__main__':\n",
        "    unittest.main(argv=['first-arg-is-ignored'], exit=False)"
      ]
    },
    {
      "cell_type": "code",
      "execution_count": null,
      "metadata": {
        "id": "9MLVHeCR3afh"
      },
      "outputs": [],
      "source": [
        "# OBS!!!\n",
        "\n",
        "assertEqual(a, b) --> Verifica se a == b\n",
        "\n",
        "assertNotEqual(a, b) --> Verifica se a != b\n",
        "\n",
        "assertTrue(x) --> Verifica se x é True\n",
        "\n",
        "assertFalse(x) --> Verifica se x é False\n",
        "\n",
        "assertIn(item, lista) --> Verifica se item está em lista\n",
        "\n",
        "assertNotIn(item, lista) --> Verifica se item nãoestá em lista"
      ]
    },
    {
      "cell_type": "markdown",
      "metadata": {
        "id": "UChm3on-uzW-"
      },
      "source": [
        "##11.3 – Funcionário\n",
        "Escreva uma classe chamada *Employee*. O método *init()* deve aceitar um primeiro nome, um sobrenome e um salário anual, e deve armazenar cada uma dessas informações como atributos. Escreva um método de nome *give_raise()* que some cinco mil dólares ao salário anual, por default, mas que também aceite um valor diferente de aumento.\n",
        "\n",
        "Escreva um caso de teste para *Employee*. Crie dois métodos de teste, *test_give_default_raise()* e *test_give_custom_raise()*. Use o método *setUp()* para que não seja necessário criar uma nova instância de funcionário em cada método de teste. Execute seu caso de teste e certifique-se de que os dois testes passem.\n"
      ]
    },
    {
      "cell_type": "code",
      "execution_count": null,
      "metadata": {
        "id": "-7fxH2aM2Khn"
      },
      "outputs": [],
      "source": [
        "class Employee():\n",
        "    \"\"\"Representação de um funcionário\"\"\"\n",
        "    def __init__(self, first_name, last_name, annual_salary):\n",
        "        \"\"\"Informações de um funcionário\"\"\"\n",
        "        self.first_name = first_name.title()\n",
        "        self.last_name = last_name.title()\n",
        "        self.annual_salary = annual_salary\n",
        "    \n",
        "    def give_raise(self, amount=5000):\n",
        "        \"\"\"Aumento do salário anual\"\"\"\n",
        "        self.annual_salary += amount"
      ]
    },
    {
      "cell_type": "code",
      "execution_count": null,
      "metadata": {
        "id": "KGMH20fy4f-y"
      },
      "outputs": [],
      "source": [
        "import unittest\n",
        "\n",
        "class EmployeeTest(unittest.TestCase):\n",
        "    \"\"\"Teste para a classe Employee\"\"\"\n",
        "    def setUp(self):  # Qualquer objeto criado no método setUp() estará disponível a todos os métodos de teste que você escrever. (tem prioridade em relação aos test_)\n",
        "        \"\"\"Cria um funcionário que poderá ser usado em todos os métodos do teste\"\"\"\n",
        "        self.employee_1 = Employee('leonardo', 'borgato', 20000)\n",
        "    \n",
        "    def test_give_default_raise(self):\n",
        "        \"\"\"Teste com o aumento do salário anual padrão\"\"\"\n",
        "        self.employee_1.give_raise()  # amount default (5000)\n",
        "        self.assertEqual(self.employee_1.annual_salary, 25000)  # 25000 = annual_salary + amount(default)\n",
        "    \n",
        "    def test_give_custom_raise(self):\n",
        "        self.employee_1.give_raise(15000)  # 15000 = amount costumizado\n",
        "        self.assertEqual(self.employee_1.annual_salary, 35000)  # 35000 = annual_salary + amount\n",
        "\n",
        "if __name__ == '__main__':\n",
        "    unittest.main(argv=['first-arg-is-ignored'], exit=False)"
      ]
    },
    {
      "cell_type": "markdown",
      "source": [
        "#***Extras***"
      ],
      "metadata": {
        "id": "_yaMknA5r-UE"
      }
    },
    {
      "cell_type": "code",
      "source": [
        ""
      ],
      "metadata": {
        "id": "s5ZzACSfPu1r"
      },
      "execution_count": null,
      "outputs": []
    },
    {
      "cell_type": "markdown",
      "source": [
        "##Random"
      ],
      "metadata": {
        "id": "PI3nsif6OqsA"
      }
    },
    {
      "cell_type": "code",
      "source": [
        "import random\n",
        "import string\n",
        "\n",
        "# Gera um número inteiro entra A e B\n",
        "inteiro = random.randint(10, 20)\n",
        "\n",
        "# Gerar um número aleatório usando a função range()\n",
        "inteiro_2 = random.randrange(900, 1000, 10)\n",
        "\n",
        "# Gera um número de ponto flutuante entra A e B\n",
        "flutuante = random.uniform(10, 20)\n",
        "\n",
        "# Gera um número de ponto flutuante entre 0 e 1\n",
        "flutuante_2 = random.random()\n",
        "\n",
        "lista = ['Luiz', 'Otávio', 'Maria', 'Rose', 'Jenny', 'Danilo', 'Felipe']\n",
        "\n",
        "# Seleciona aleatóriamente valores de uma lista\n",
        "sorteio = random.sample(lista, 2)  # --> Não escolhe 2 iguais\n",
        "sorteio_2 = random.choices(lista, k=2)  # --> Pode escolher 2 iguais\n",
        "sorteio_3 = random.choice(lista)\n",
        "\n",
        "# Embaralha a lista\n",
        "random.shuffle(lista)\n",
        "\n",
        "# Gera senha aleatória\n",
        "letras = string.ascii_letters\n",
        "digitos = string.digits\n",
        "caracteres = '!@#$%&*._-'\n",
        "geral = letras + digitos + caracteres\n",
        "senha = \"\".join(random.choices(geral, k=20))\n",
        "\n",
        "print(senha)"
      ],
      "metadata": {
        "id": "UVrOcWgNOsXu"
      },
      "execution_count": null,
      "outputs": []
    },
    {
      "cell_type": "markdown",
      "source": [
        "##Datetime"
      ],
      "metadata": {
        "id": "p7KVKNE5PcWc"
      }
    },
    {
      "cell_type": "code",
      "source": [
        "# https://docs.python.org/3.0/library/datetime.html\n",
        "\n",
        "from datetime import datetime, timedelta\n",
        "\n",
        "# (ano, mês, dia, hora, minuto, segundo)\n",
        "data = datetime(2022, 7, 10, 11, 43, 35)\n",
        "print(data)\n",
        "\n",
        "# Formatação da data da maneira que preferir\n",
        "print(data.strftime('%d/%m/%Y - %H:%M:%S'))\n",
        "\n",
        "# Recebe a data em um determinado formato\n",
        "data = datetime.strptime('10/07/2022', '%d/%m/%Y')\n",
        "print(data)\n",
        "\n",
        "# Contagem de segundos\n",
        "print(data.timestamp())\n",
        "data = datetime.fromtimestamp(1657422000.0)\n",
        "print(data)\n",
        "\n",
        "print('\\n' + '#'*30 + '\\n')\n",
        "\n",
        "data = datetime.strptime('10/07/2022 20:00:00', '%d/%m/%Y %H:%M:%S')\n",
        "\n",
        "# Adicionar determinado tempo em uma data\n",
        "data = data + timedelta(days=5, seconds=57)  # Add 5 dias e 57 segundos\n",
        "data = data + timedelta(seconds=2*60*60)  # Add 2 horas\n",
        "data = data + timedelta(seconds=-30)  # Subtraiu 30 segundos\n",
        "print(data.strftime('%d/%m/%Y - %H:%M:%S'))\n",
        "\n",
        "print('\\n' + '#'*30 + '\\n')\n",
        "\n",
        "# Mostra a diferença entre as datas\n",
        "d1 = datetime.strptime('10/07/2022 20:00:00', '%d/%m/%Y %H:%M:%S')\n",
        "d2 = datetime.strptime('22/07/2022 23:25:21', '%d/%m/%Y %H:%M:%S')\n",
        "dif = d2 - d1\n",
        "print(dif)\n",
        "print(dif.days)\n",
        "print(dif.seconds)  # Segundos do HORÁRIO\n",
        "print(dif.total_seconds())  # Segundos TOTAIS\n",
        "print(d2.time())  # Hora de um determinado dia\n",
        "\n",
        "print('\\n' + '#'*30 + '\\n')\n",
        "\n",
        "# Comparação entre datas\n",
        "print(d2 > d1)"
      ],
      "metadata": {
        "id": "Ngq_vcmmPeEY"
      },
      "execution_count": null,
      "outputs": []
    },
    {
      "cell_type": "code",
      "source": [
        "from datetime import datetime\n",
        "from locale import setlocale, LC_ALL\n",
        "from calendar import mdays\n",
        "\n",
        "\n",
        "# Define o local/idioma\n",
        "setlocale(LC_ALL, 'pt_BR.utf-8')\n",
        "\n",
        "# Capta a data e horário atual\n",
        "dt = datetime.now()\n",
        "\n",
        "formatacao1 = dt.strftime('%A, %d de %B de %Y')\n",
        "formatacao2 = dt.strftime('%d/%m/%Y - %H:%M:%S')\n",
        "print(formatacao1)\n",
        "print(formatacao2)\n",
        "\n",
        "print('\\n' + '#'*30 + '\\n')\n",
        "\n",
        "# Capta a quantidade de dias do mês\n",
        "mes_atual = int(dt.strftime('%m'))\n",
        "print(mes_atual, mdays[mes_atual])"
      ],
      "metadata": {
        "id": "XuxwQ1HuPfST"
      },
      "execution_count": null,
      "outputs": []
    },
    {
      "cell_type": "code",
      "source": [
        "from datetime import datetime\n",
        "from calendar import monthrange\n",
        "\n",
        "\n",
        "# Retorna uma tupla contendo o número do dia na semana (0-6)\n",
        "# e último dia de fevereiro de 2020\n",
        "print(monthrange(2020, 2))\n",
        "\n",
        "# Saída - (5, 29)\n",
        "# O 5 significa que é um sábado\n",
        "# O 29 significa que este é o último dia do mês (ano bissexto)\n",
        "\n",
        "print('\\n' + '#'*30 + '\\n')\n",
        "\n",
        "# Desempacotamento\n",
        "dia_semana, ultimo_dia = monthrange(2020, 2)\n",
        "print(ultimo_dia)  # Saída: 29 (último dia de fevereiro de 2020)\n",
        "\n",
        "print('\\n' + '#'*30 + '\\n')\n",
        "\n",
        "# Cria uma lista (assim como mdays) contendo todos os últimos dias de meses\n",
        "# do ano atual\n",
        "ultimos_dias_de_meses_do_ano_atual = [\n",
        "    monthrange(datetime.now().year, mes)[1] for mes in range(1, 13)\n",
        "]\n",
        "print(ultimos_dias_de_meses_do_ano_atual)\n",
        "# Saída: [31, 28, 31, 30, 31, 30, 31, 31, 30, 31, 30, 31]\n",
        "# Observação: meu ano atual é 2022"
      ],
      "metadata": {
        "id": "ab4pyoX1Pjk0"
      },
      "execution_count": null,
      "outputs": []
    },
    {
      "cell_type": "markdown",
      "source": [
        "##Conjuntos"
      ],
      "metadata": {
        "id": "HkSHaDSKSU34"
      }
    },
    {
      "cell_type": "code",
      "source": [
        "\"\"\"\n",
        "Outra estrutura de dados é o set (conjunto), que representa uma coleção de\n",
        "elementos distintos:\n",
        "\n",
        "Obs: São utilizadas chaves assim como nos dicionários, porém não possui um\n",
        "par chave-valor.\n",
        "\"\"\"\n",
        "\n",
        "s = set()\n",
        "s.add(1)  # s agora é {1}\n",
        "s.add(2)  # s agora é {1, 2}\n",
        "s.add(2)  # s ainda é {1, 2}, pois 2 = 2\n",
        "x = len(s)  # é igual a 2\n",
        "y = 2 in s  # é igual a True\n",
        "z = 3 in s  # é igual a False\n",
        "\n",
        "\"\"\"\n",
        "Usaremos os conjuntos por duas razões principais. A primeira é que 'in' é uma\n",
        "operação muito rápida em conjuntos. Se tivermos uma grande coleção de itens\n",
        "que queiramos usar para um teste de sociedade, um conjunto é mais adequado do\n",
        "que uma lista:\n",
        "\"\"\"\n",
        "\n",
        "hundreds_of_other_words = ''\n",
        "\n",
        "stopwords_list = [\"a\", \"an\", \"at\"] + hundreds_of_other_words + [\"yet\", \"you\"]\n",
        "test = \"zip\" in stopwords_list  # Falso, mas tem que verificar todos os elementos\n",
        "stopwords_set = set(stopwords_list)  # Transforma a lista em conjunto\n",
        "test_2 = \"zip\" in stopwords_set  # Falso, mas muito rápido para verificar\n",
        "\n",
        "\"\"\"\n",
        "A segunda razão é encontrar os itens distintos em uma coleção:\n",
        "\"\"\"\n",
        "\n",
        "item_list = [1, 2, 3, 1, 2, 3]\n",
        "num_items = len(item_list)  # 6\n",
        "item_set = set(item_list)  # {1, 2, 3}\n",
        "num_distinct_items = len(item_set)  # 3\n",
        "distinct_item_list = list(item_set)  # [1, 2, 3]"
      ],
      "metadata": {
        "id": "AClVFP2gSX7O"
      },
      "execution_count": null,
      "outputs": []
    },
    {
      "cell_type": "markdown",
      "source": [
        "##Count"
      ],
      "metadata": {
        "id": "0FMJwmWOOJ3f"
      }
    },
    {
      "cell_type": "code",
      "source": [
        "from itertools import count\n",
        "\n",
        "contador_1 = count(start=5, step=0.5)\n",
        "contador_2 = count(start=5, step=-0.5)\n",
        "\n",
        "lista_contador = zip(contador_1, contador_2)\n",
        "\n",
        "for v1, v2 in lista_contador:\n",
        "    print(f\"{v1:.2f}  {v2:.2f}\")\n",
        "\n",
        "    if v1 >= 15 and v2 <= -5:\n",
        "        break\n"
      ],
      "metadata": {
        "id": "tRT0z4NuOLGH"
      },
      "execution_count": null,
      "outputs": []
    },
    {
      "cell_type": "markdown",
      "source": [
        "##Defaultdict"
      ],
      "metadata": {
        "id": "ZCHjWauCSnhN"
      }
    },
    {
      "cell_type": "code",
      "source": [
        "from collections import defaultdict\n",
        "\n",
        "\n",
        "\"\"\"\n",
        "Contar as palavras em um documento\n",
        "\"\"\"\n",
        "\n",
        "document = 'a b c c a d a b e f d c b d d a'\n",
        "document = document.split()  # Retirar espaços vazios\n",
        "\n",
        "if __name__ == '__main__':\n",
        "    # Métodos \"clássicos\"\n",
        "    # 1\n",
        "    word_counts = {}\n",
        "\n",
        "    for word in document:\n",
        "        if word in word_counts:\n",
        "            word_counts[word] += 1\n",
        "        else:\n",
        "            word_counts[word] = 1\n",
        "\n",
        "    print(word_counts, '\\n')\n",
        "\n",
        "    # 2\n",
        "    word_counts = {}\n",
        "    for word in document:\n",
        "        try:\n",
        "            word_counts[word] += 1\n",
        "        except KeyError:\n",
        "            word_counts[word] = 1\n",
        "\n",
        "    print(word_counts, '\\n')\n",
        "\n",
        "    # 3\n",
        "    word_counts = {}\n",
        "    for word in document:\n",
        "        previous_count = word_counts.get(word, 0)\n",
        "        word_counts[word] = previous_count + 1\n",
        "\n",
        "    print(word_counts, '\\n')\n",
        "\n",
        "    # Método com 'defauldict'\n",
        "    word_counts = defaultdict(int)  # int() produz 0\n",
        "    for word in document:\n",
        "        word_counts[word] += 1\n",
        "\n",
        "    print(word_counts)  # Retorna um 'defaultdict'\n",
        "    print(dict(word_counts), '\\n')  # Retorna um dicionário normal\n",
        "\n",
        "    \"\"\"\n",
        "    Também pode ser útil com 'list', 'dict' ou até mesmo suas próprias funções\n",
        "    \"\"\"\n",
        "\n",
        "    dd_list = defaultdict(list)  # list() produz uma lista vazia\n",
        "    dd_list[2].append(1)  # agora dd_list contém {2: [1]}\n",
        "    dd_dict = defaultdict(dict)  # dict() produz um dict vazio\n",
        "    dd_dict[\"Joel\"][\"City\"] = \"Seattle\"  # { \"Joel\" : { \"City\" : Seattle\"}}\n",
        "    dd_pair = defaultdict(lambda: [0, 0])\n",
        "    dd_pair[2][1] = 1  # agora dd_pair contêm {2: [0,1]}\n",
        "\n",
        "    \"\"\"\n",
        "    Conclusão: Isso será útil quando você usar dicionários para “coletar” resultados \n",
        "    por alguma chave e não quiser verificar toda vez para ver se ela ainda existe.\n",
        "    \"\"\""
      ],
      "metadata": {
        "id": "N2hNyjoASpZt"
      },
      "execution_count": null,
      "outputs": []
    },
    {
      "cell_type": "markdown",
      "source": [
        "##Zip e Zip Longest"
      ],
      "metadata": {
        "id": "W9Ux_EDNMhEu"
      }
    },
    {
      "cell_type": "code",
      "source": [
        "# Unem iteráveis\n",
        "\n",
        "from itertools import zip_longest, count\n",
        "\n",
        "indice = count()\n",
        "cidades = ['São Paulo', 'Belo Horizonte', 'Salvador', 'Monte Belo', 'Outra']\n",
        "estados = ['SP', 'MG', 'BA']\n",
        "\n",
        "cidades_estados = zip(\n",
        "    indice,\n",
        "    estados,\n",
        "    cidades,\n",
        "    # fillvalue='Estado'  -->  zip_longest()\n",
        ")\n",
        "\n",
        "for indice, estado, cidade in cidades_estados:\n",
        "    print(indice, estado, cidade)\n"
      ],
      "metadata": {
        "id": "jM6gX-5yMhZ7"
      },
      "execution_count": null,
      "outputs": []
    },
    {
      "cell_type": "code",
      "source": [
        "\"\"\"\n",
        "Considerando duas listas de inteiros ou floats (lista A e lista B)\n",
        "Some os valores nas listas retornando uma nova lista com os valores somados:\n",
        "Se uma lista for maior que a outra, a soma só vai considerar o tamanho da\n",
        "menor.\n",
        "Exemplo:\n",
        "lista_a     = [1, 2, 3, 4, 5, 6, 7]\n",
        "lista_b     = [1, 2, 3, 4]\n",
        "=================== resultado\n",
        "lista_soma  = [2, 4, 6, 8]\n",
        "\"\"\"\n",
        "\n",
        "from random import sample\n",
        "\n",
        "lista_a = sample(range(30), 10)\n",
        "lista_b = sample(range(30), 5)\n",
        "\n",
        "lista_soma = ([x + y for x, y in zip(lista_a, lista_b)])\n",
        "\n",
        "# Somando a partir da lista maior\n",
        "lista_soma_2 = ([x + y for x, y in zip_longest(lista_a, lista_b, fillvalue=0)])\n",
        "\n",
        "print(lista_a)\n",
        "print(lista_b)\n",
        "print(lista_soma)\n",
        "print(lista_soma_2)"
      ],
      "metadata": {
        "id": "0lAwaUbnMt-i"
      },
      "execution_count": null,
      "outputs": []
    },
    {
      "cell_type": "markdown",
      "source": [
        "##Combinação, Permutação e Produto"
      ],
      "metadata": {
        "id": "CZ7YqV1xNfvV"
      }
    },
    {
      "cell_type": "code",
      "source": [
        "from itertools import combinations, permutations, product\n",
        "\n",
        "numeros = [1, 2, 3, 4, 5, 6]\n",
        "\n",
        "# Ordem NÃO IMPORTA\n",
        "for grupo1 in combinations(numeros, 2):  # (lista, números_agrupados)\n",
        "    print(grupo1)\n",
        "\n",
        "print('\\n================================\\n')\n",
        "\n",
        "# Ordem IMPORTA, NÃO REPETE VALORES ÚNICOS --> Ex: (1, 1) não acontece\n",
        "for grupo2 in permutations(numeros, 2):\n",
        "    print(grupo2)\n",
        "\n",
        "print('\\n================================\\n')\n",
        "\n",
        "# Ordem IMPORTA, REPETE VALORES ÚNICOS --> Ex: (1, 1) acontece\n",
        "for grupo3 in product(numeros, repeat=2):  # (lista, repeat=números_agrupados)\n",
        "    print(grupo3)\n"
      ],
      "metadata": {
        "id": "UCGBY-_gNjNA"
      },
      "execution_count": null,
      "outputs": []
    },
    {
      "cell_type": "markdown",
      "source": [
        "##Groupby"
      ],
      "metadata": {
        "id": "xHlEjlQ6IJod"
      }
    },
    {
      "cell_type": "code",
      "source": [
        "from itertools import groupby, tee\n",
        "\n",
        "alunos = [\n",
        "    {\"nome\": 'A', \"nota\": 5},\n",
        "    {\"nome\": 'D', \"nota\": 6},\n",
        "    {\"nome\": 'G', \"nota\": 5},\n",
        "    {\"nome\": 'C', \"nota\": 8},\n",
        "    {\"nome\": 'Q', \"nota\": 8},\n",
        "    {\"nome\": 'U', \"nota\": 7},\n",
        "    {\"nome\": 'L', \"nota\": 7},\n",
        "    {\"nome\": 'I', \"nota\": 9},\n",
        "    {\"nome\": 'M', \"nota\": 10},\n",
        "    {\"nome\": 'V', \"nota\": 6},\n",
        "    {\"nome\": 'S', \"nota\": 8},\n",
        "    {\"nome\": 'K', \"nota\": 7},\n",
        "    {\"nome\": 'Z', \"nota\": 9},\n",
        "    {\"nome\": 'Y', \"nota\": 7},\n",
        "    {\"nome\": 'T', \"nota\": 5},\n",
        "    {\"nome\": 'E', \"nota\": 6},\n",
        "]\n",
        "\n",
        "\n",
        "def ordena(item):\n",
        "    return item['nota']\n",
        "\n",
        "\n",
        "alunos.sort(key=ordena)\n",
        "alunos_agrupados = groupby(alunos, ordena)\n",
        "\n",
        "for agrupamento, valores_agrupados in alunos_agrupados:\n",
        "    va1, va2 = tee(valores_agrupados)\n",
        "\n",
        "    print(f'Agrupamento: {agrupamento}')\n",
        "\n",
        "    for aluno in va1:\n",
        "        print(f'\\t{aluno}')\n",
        "\n",
        "    quantidade = len(list(va2))\n",
        "    print(f'\\t{quantidade} alunos tiraram nota {agrupamento}')\n",
        "\n",
        "    print()\n",
        "\n",
        "print('\\n======================================\\n')\n",
        "\n",
        "# Sem tee (com list)\n",
        "for agrupamento, valores_agrupados in alunos_agrupados:\n",
        "    valores = list(valores_agrupados)\n",
        "    print(f'Agrupamento: {agrupamento}')\n",
        "    for aluno in valores:\n",
        "        print(f'\\t{aluno}')\n",
        "    quantidade = len(valores)\n",
        "    print(f'\\t{quantidade} alunos tiraram nota {agrupamento}')"
      ],
      "metadata": {
        "id": "NoojdT4eIJNU"
      },
      "execution_count": null,
      "outputs": []
    },
    {
      "cell_type": "markdown",
      "source": [
        "##Map"
      ],
      "metadata": {
        "id": "LWPZdWqRsIki"
      }
    },
    {
      "cell_type": "code",
      "source": [
        "produtos = [\n",
        "           {'nome': 'p1', 'preço': 10},\n",
        "           {'nome': 'p2', 'preço': 21.50},\n",
        "           {'nome': 'p3', 'preço': 54.32},\n",
        "           {'nome': 'p4', 'preço': 11},\n",
        "           {'nome': 'p5', 'preço': 4.76},\n",
        "           {'nome': 'p6', 'preço': 32},\n",
        "           {'nome': 'p7', 'preço': 22.20},\n",
        "           {'nome': 'p8', 'preço': 15.50},\n",
        "           {'nome': 'p9', 'preço': 8},\n",
        "           {'nome': 'p10', 'preço': 45.31},\n",
        "]\n",
        "\n",
        "pessoas = [\n",
        "           {'nome': 'João', 'idade': 15},\n",
        "           {'nome': 'Luiz', 'idade': 38},\n",
        "           {'nome': 'Maria', 'idade': 18},\n",
        "           {'nome': 'Caio', 'idade': 20},\n",
        "           {'nome': 'Júlia', 'idade': 14},\n",
        "           {'nome': 'Pedro', 'idade': 31},\n",
        "           {'nome': 'Marcelo', 'idade': 21},\n",
        "           {'nome': 'Bia', 'idade': 23},\n",
        "           {'nome': 'Eduardo', 'idade': 56},\n",
        "           {'nome': 'Henrique', 'idade': 43},\n",
        "]\n",
        "\n",
        "\n",
        "def aumenta_preco(p):\n",
        "    p['preço'] = round(p['preço'] * 1.05, 2)\n",
        "    return p\n",
        "\n",
        "novos_produtos = map(aumenta_preco, produtos)\n",
        "# novos_produtos = map(lambda p: round(p['preço'] * 1.05, 2), produtos)\n",
        "\n",
        "for produto in novos_produtos:\n",
        "    print(produto)\n",
        "\n",
        "\n",
        "print(f\"\\n{'=' * 30}\\n\")\n",
        "\n",
        "\n",
        "def aumenta_idade(p):\n",
        "    p['nova_idade'] = round(p['idade'] * 1.20, 2)\n",
        "    return p\n",
        "\n",
        "novas_idades = map(aumenta_idade, pessoas)\n",
        "# novas_idades = map(lambda p: round(p['idade'] * 1.20, 2), pessoas)\n",
        "\n",
        "for pessoa in novas_idades:\n",
        "    print(pessoa)"
      ],
      "metadata": {
        "id": "p1xa7SqcsGta"
      },
      "execution_count": null,
      "outputs": []
    },
    {
      "cell_type": "markdown",
      "source": [
        "##Filter"
      ],
      "metadata": {
        "id": "MFlI3XbiIans"
      }
    },
    {
      "cell_type": "code",
      "source": [
        "produtos = [\n",
        "           {'nome': 'p1', 'preço': 10},\n",
        "           {'nome': 'p2', 'preço': 21.50},\n",
        "           {'nome': 'p3', 'preço': 54.32},\n",
        "           {'nome': 'p4', 'preço': 11},\n",
        "           {'nome': 'p5', 'preço': 4.76},\n",
        "           {'nome': 'p6', 'preço': 32},\n",
        "           {'nome': 'p7', 'preço': 22.20},\n",
        "           {'nome': 'p8', 'preço': 15.50},\n",
        "           {'nome': 'p9', 'preço': 8},\n",
        "           {'nome': 'p10', 'preço': 45.31},\n",
        "]\n",
        "\n",
        "pessoas = [\n",
        "           {'nome': 'João', 'idade': 15},\n",
        "           {'nome': 'Luiz', 'idade': 38},\n",
        "           {'nome': 'Maria', 'idade': 18},\n",
        "           {'nome': 'Caio', 'idade': 20},\n",
        "           {'nome': 'Júlia', 'idade': 14},\n",
        "           {'nome': 'Pedro', 'idade': 31},\n",
        "           {'nome': 'Marcelo', 'idade': 21},\n",
        "           {'nome': 'Bia', 'idade': 23},\n",
        "           {'nome': 'Eduardo', 'idade': 56},\n",
        "           {'nome': 'Henrique', 'idade': 43},\n",
        "]\n",
        "\n",
        "def filtra_preco(p):\n",
        "    if p['preço'] > 20.0:\n",
        "        return p\n",
        "\n",
        "precos = filter(filtra_preco, produtos)\n",
        "# precos = filter(lambda p: p['preço'] > 20.0, produtos)\n",
        "\n",
        "for preco in precos:\n",
        "    print(preco)\n",
        "\n",
        "\n",
        "print(f\"\\n{'=' * 30}\\n\")\n",
        "\n",
        "\n",
        "def filtra_idade(p):\n",
        "    if p['idade'] < 18:\n",
        "        return p\n",
        "\n",
        "idades = filter(filtra_idade, pessoas)\n",
        "# idades = filter(lamda p: p['idade'] < 18, pessoas)\n",
        "\n",
        "for idade in idades:\n",
        "    print(idade)"
      ],
      "metadata": {
        "id": "_t1UivTTIiaD"
      },
      "execution_count": null,
      "outputs": []
    },
    {
      "cell_type": "markdown",
      "source": [
        "##Reduce"
      ],
      "metadata": {
        "id": "NGf4uQiAIrJi"
      }
    },
    {
      "cell_type": "code",
      "source": [
        "from functools import reduce\n",
        "\n",
        "produtos = [\n",
        "           {'nome': 'p1', 'preço': 10},\n",
        "           {'nome': 'p2', 'preço': 21.50},\n",
        "           {'nome': 'p3', 'preço': 54.32},\n",
        "           {'nome': 'p4', 'preço': 11},\n",
        "           {'nome': 'p5', 'preço': 4.76},\n",
        "           {'nome': 'p6', 'preço': 32},\n",
        "           {'nome': 'p7', 'preço': 22.20},\n",
        "           {'nome': 'p8', 'preço': 15.50},\n",
        "           {'nome': 'p9', 'preço': 8},\n",
        "           {'nome': 'p10', 'preço': 45.31},\n",
        "]\n",
        "\n",
        "pessoas = [\n",
        "           {'nome': 'João', 'idade': 15},\n",
        "           {'nome': 'Luiz', 'idade': 38},\n",
        "           {'nome': 'Maria', 'idade': 18},\n",
        "           {'nome': 'Caio', 'idade': 20},\n",
        "           {'nome': 'Júlia', 'idade': 14},\n",
        "           {'nome': 'Pedro', 'idade': 31},\n",
        "           {'nome': 'Marcelo', 'idade': 21},\n",
        "           {'nome': 'Bia', 'idade': 23},\n",
        "           {'nome': 'Eduardo', 'idade': 56},\n",
        "           {'nome': 'Henrique', 'idade': 43},\n",
        "]\n",
        "\n",
        "\n",
        "soma_precos = reduce(lambda ac, p: p['preço'] + ac, produtos, 0)\n",
        "media_precos = soma_precos / len(produtos)\n",
        "\n",
        "print(f'Preço total: R${soma_precos:.2f}')\n",
        "print(f'Média de preços: R${media_precos:.2f}')\n",
        "\n",
        "\n",
        "print(f\"\\n{'=' * 30}\\n\")\n",
        "\n",
        "\n",
        "soma_idades = reduce(lambda ac, p: p['idade'] + ac, pessoas, 0)\n",
        "media_idades = soma_idades / len(pessoas)\n",
        "\n",
        "print(f'Idade total: {soma_idades:.2f}')\n",
        "print(f'Média das idades: {media_idades:.2f}')"
      ],
      "metadata": {
        "id": "_4jl6hgSIvJD"
      },
      "execution_count": null,
      "outputs": []
    },
    {
      "cell_type": "markdown",
      "source": [
        "##CRUD - Pymysql"
      ],
      "metadata": {
        "id": "8WOZI5alQ-2a"
      }
    },
    {
      "cell_type": "code",
      "source": [
        "# OBS: Feito no PyCharm\n",
        "\n",
        "import pymysql.cursors\n",
        "from contextlib import contextmanager\n",
        "\n",
        "\"\"\"\n",
        "C - Create\n",
        "R - Read\n",
        "U - Update\n",
        "D - Delete\n",
        "\"\"\"\n",
        "\n",
        "\n",
        "@contextmanager\n",
        "def connect():\n",
        "    \"\"\"Conecta com o servidor MySQL\"\"\"\n",
        "    connection = pymysql.connect(\n",
        "        host='127.0.0.1',\n",
        "        user='root',\n",
        "        password='',\n",
        "        db='clientes',\n",
        "        charset='utf8mb4',\n",
        "        cursorclass=pymysql.cursors.DictCursor\n",
        "    )\n",
        "\n",
        "    try:\n",
        "        yield connection\n",
        "    finally:\n",
        "        print('\\nConexão fechada')\n",
        "        connection.close()\n",
        "\n",
        "\n",
        "\"\"\"\n",
        "INSERIR UM REGISTRO NA BASE DE DADOS:\n",
        "\n",
        "with connect() as connection:\n",
        "    with connection.cursor() as cursor:\n",
        "        sql = 'INSERT INTO clientes (nome, sobrenome, idade, peso) VALUES ' \\\n",
        "              '(%s, %s, %s, %s)'\n",
        "        cursor.execute(sql, ('John', 'Cena', 45, 114))\n",
        "        connection.commit()\n",
        "\"\"\"\n",
        "\n",
        "\"\"\"\n",
        "INSERIR VÁRIOS REGISTROS NA BASE DE DADOS:\n",
        "\n",
        "with connect() as connection:\n",
        "    with connection.cursor() as cursor:\n",
        "        sql = 'INSERT INTO clientes (nome, sobrenome, idade, peso) VALUES ' \\\n",
        "              '(%s, %s, %s, %s)'\n",
        "\n",
        "        dados = [\n",
        "            ('Cristiano', 'Ronaldo', 37, 85),\n",
        "            ('The', 'Rock', 50, 118),\n",
        "            ('Keanu', 'Reeves', 57, 79),\n",
        "        ]\n",
        "\n",
        "        # Inserir vários valores de uma só vez\n",
        "        cursor.executemany(sql, dados)\n",
        "        connection.commit()\n",
        "\"\"\"\n",
        "\n",
        "\"\"\"\n",
        "DELETA UM REGISTRO DA BASE DE DADOS:\n",
        "\n",
        "with connect() as connection:\n",
        "    with connection.cursor() as cursor:\n",
        "        sql = 'DELETE FROM clientes WHERE id = %s'\n",
        "        cursor.execute(sql, (4,))\n",
        "        connection.commit()\n",
        "\"\"\"\n",
        "\n",
        "\"\"\"\n",
        "DELETA QUANTIDADE DETERMINADA (dentro do IN) DE REGISTROS:\n",
        "\n",
        "with connect() as connection:\n",
        "    with connection.cursor() as cursor:\n",
        "        sql = 'DELETE FROM clientes WHERE id IN (%s, %s, %s)'\n",
        "        cursor.execute(sql, (6, 7))\n",
        "        connection.commit()\n",
        "\"\"\"\n",
        "\n",
        "\"\"\"\n",
        "DELETA OS REGISTRO ENTRE UM RANGE:\n",
        "\n",
        "with connect() as connection:\n",
        "    with connection.cursor() as cursor:\n",
        "        sql = 'DELETE FROM clientes WHERE id BETWEEN %s AND %s'\n",
        "        cursor.execute(sql, (8, 10))\n",
        "        connection.commit()\n",
        "\"\"\"\n",
        "\n",
        "\"\"\"\n",
        "ATUALIZA UM REGISTRO NA BASE DE DADOS:\n",
        "\n",
        "with connect() as connection:\n",
        "    with connection.cursor() as cursor:\n",
        "        sql = 'UPDATE clientes SET nome= %s WHERE id= %s'\n",
        "        cursor.execute(sql, ('Joãozinho', 5))\n",
        "        connection.commit()\n",
        "\"\"\"\n",
        "\n",
        "# SELECIONA OS DADOS DA BASE DE DADOS:\n",
        "\n",
        "# Context Manager para a conexão\n",
        "with connect() as connection:\n",
        "    # Context Manager para o cursor\n",
        "    with connection.cursor() as cursor:\n",
        "        cursor.execute('SELECT * FROM clientes LIMIT 100')  # Limite de 100 registros\n",
        "\n",
        "        \"\"\"\n",
        "        Maneiras alternativas:\n",
        "        \n",
        "        cursor.execute('SELECT nome, sobrenome FROM clientes LIMIT 100')\n",
        "        ...('SELECT nome as n, sobrenome as sn FROM clientes LIMIT 100')\n",
        "        ...('SELECT * FROM clientes ORDER BY id DESC LIMIT 100') --> Ordena de maneira decrescente de acordo com o id \n",
        "        ...('SELECT * FROM clientes ORDER BY id ASC LIMIT 100') --> Ordena de maneira ASCII de acordo com o id \n",
        "        \"\"\"\n",
        "\n",
        "        result = cursor.fetchall()\n",
        "\n",
        "        for line in result:\n",
        "            print(line)\n"
      ],
      "metadata": {
        "id": "8R6XddPCRBUp"
      },
      "execution_count": null,
      "outputs": []
    }
  ],
  "metadata": {
    "colab": {
      "collapsed_sections": [],
      "name": "Curso intensivo de Python",
      "provenance": [],
      "toc_visible": true
    },
    "kernelspec": {
      "display_name": "Python 3",
      "name": "python3"
    },
    "language_info": {
      "name": "python"
    }
  },
  "nbformat": 4,
  "nbformat_minor": 0
}